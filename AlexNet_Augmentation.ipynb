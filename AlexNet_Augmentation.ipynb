{
  "cells": [
    {
      "cell_type": "code",
      "execution_count": 1,
      "metadata": {
        "id": "X_m6mboFE6Lb"
      },
      "outputs": [],
      "source": [
        "import torch\n",
        "import torch.nn as nn\n",
        "import torch.optim as optim\n",
        "import torch.nn.init as init\n",
        "import torch.nn.functional as F\n",
        "import os\n",
        "import random\n",
        "import numpy as np\n",
        "import matplotlib.pyplot as plt\n",
        "from torchvision import datasets, transforms\n",
        "from torch.utils.data import Dataset, DataLoader,Subset\n",
        "from tqdm import tqdm\n",
        "import pandas as pd\n",
        "import sys"
      ]
    },
    {
      "cell_type": "code",
      "execution_count": 2,
      "metadata": {
        "id": "oxZt4PGOE6Lb"
      },
      "outputs": [],
      "source": [
        "def make_dataset(augmentation_list):\n",
        "    # 데이터 전처리 (CIFAR10은 3채널 이미지)\n",
        "    train_transform = augmentation_list\n",
        "\n",
        "    test_transform = transforms.Compose([\n",
        "    transforms.ToTensor(),\n",
        "    transforms.Normalize(\n",
        "        mean=(0.4914, 0.4822, 0.4465),\n",
        "        std=(0.2023, 0.1994, 0.2010)\n",
        "      )\n",
        "    ])\n",
        "\n",
        "    # CIFAR10 학습 및 테스트 데이터셋 불러오기\n",
        "    train_dataset = datasets.CIFAR10(root='./data', train=True, transform=train_transform, download=True)\n",
        "    test_dataset = datasets.CIFAR10(root='./data', train=False, transform=test_transform, download=True)\n",
        "\n",
        "    # CIFAR10의 targets는 리스트로 되어 있으므로 tensor로 변환\n",
        "    targets = torch.tensor(train_dataset.targets)\n",
        "\n",
        "    num_samples_per_class = 2000\n",
        "    selected_indices = []\n",
        "\n",
        "    # 0부터 9까지 각 클래스별로 인덱스를 추출하고, 랜덤하게 num_samples_per_class개 선택\n",
        "    for class_label in range(10):\n",
        "        # 해당 클래스의 인덱스 추출\n",
        "        indices = (targets == class_label).nonzero(as_tuple=True)[0]\n",
        "        # 인덱스를 랜덤하게 섞은 후 원하는 개수만 선택\n",
        "        selected = indices[torch.randperm(len(indices))[:num_samples_per_class]]\n",
        "        selected_indices.extend(selected.tolist())\n",
        "\n",
        "    # 선택한 인덱스만 남긴 서브셋 생성\n",
        "    train_dataset = Subset(train_dataset, selected_indices)\n",
        "\n",
        "    return train_dataset, test_dataset"
      ]
    },
    {
      "cell_type": "code",
      "execution_count": 3,
      "metadata": {
        "id": "swuQPgkaE6Lc"
      },
      "outputs": [],
      "source": [
        "class AlexNet(nn.Module):\n",
        "    def __init__(self):\n",
        "        super(AlexNet, self).__init__()\n",
        "\n",
        "        self.features = nn.Sequential(\n",
        "            # 1\n",
        "            nn.Conv2d(in_channels=3, out_channels=64, kernel_size=11, stride=4, padding=2),\n",
        "            nn.ReLU(inplace=True),\n",
        "\n",
        "            # 2\n",
        "            nn.Conv2d(in_channels=64, out_channels=192, kernel_size=5, padding=2),\n",
        "            nn.ReLU(inplace=True),\n",
        "            nn.MaxPool2d(kernel_size=3, stride=2),\n",
        "\n",
        "            # 3\n",
        "            nn.Conv2d(in_channels=192, out_channels=384, kernel_size=3, padding=1),\n",
        "            nn.ReLU(inplace=True),\n",
        "\n",
        "            # 4\n",
        "            nn.Conv2d(in_channels=384, out_channels=256, kernel_size=3, padding=1),\n",
        "            nn.ReLU(inplace=True),\n",
        "\n",
        "            # 5\n",
        "            nn.Conv2d(in_channels=256, out_channels=256, kernel_size=3, padding=1),\n",
        "            nn.ReLU(inplace=True),\n",
        "            nn.MaxPool2d(kernel_size=2, stride=2),\n",
        "\n",
        "            nn.Flatten(),\n",
        "\n",
        "            nn.Linear(in_features=256, out_features=2048),\n",
        "            nn.ReLU(inplace=True),\n",
        "            nn.Dropout(),\n",
        "\n",
        "            nn.Linear(in_features=2048, out_features=2048),\n",
        "            nn.ReLU(inplace=True),\n",
        "            nn.Dropout(),\n",
        "\n",
        "            nn.Linear(in_features=2048, out_features=10),\n",
        "        )\n",
        "\n",
        "    def forward(self, x):\n",
        "        x = self.features(x)\n",
        "        return x"
      ]
    },
    {
      "cell_type": "code",
      "execution_count": 4,
      "metadata": {
        "id": "E59LQKtQE6Lc"
      },
      "outputs": [],
      "source": [
        "def worker_init_fn(worker_id):\n",
        "        worker_seed = torch.initial_seed() % 2**32\n",
        "        np.random.seed(worker_seed)\n",
        "        random.seed(worker_seed)\n",
        "\n",
        "def run_experiment(augmentation_list, seed, i):\n",
        "    # Ingredient 세팅\n",
        "    names = [\"None\", \"RandomCrop\", \"RandomHorizontalFlip\", \"Cutout\", \"All\"]\n",
        "\n",
        "    device = torch.device('cuda' if torch.cuda.is_available() else 'cpu')\n",
        "    train_dataset, test_dataset = make_dataset(augmentation_list)\n",
        "    train_loader = DataLoader(train_dataset, batch_size=512, shuffle=True, pin_memory=True, num_workers=4, worker_init_fn=worker_init_fn)\n",
        "    test_loader = DataLoader(test_dataset, batch_size=512, shuffle=False, pin_memory=True, num_workers=4)\n",
        "\n",
        "    model = AlexNet().to(device)\n",
        "    criterion = nn.CrossEntropyLoss()\n",
        "    optimizer = optimizer = torch.optim.SGD(model.parameters(),lr=0.1, momentum=0.9, weight_decay=5e-4)\n",
        "    scheduler = torch.optim.lr_scheduler.MultiStepLR(optimizer, milestones=[20, 40], gamma=0.2)\n",
        "\n",
        "    num_epochs = 50\n",
        "\n",
        "    # 시드 고정\n",
        "    torch.manual_seed(seed)\n",
        "    torch.cuda.manual_seed(seed)\n",
        "    torch.cuda.manual_seed_all(seed)\n",
        "    np.random.seed(seed)\n",
        "    random.seed(seed)\n",
        "    torch.backends.cudnn.deterministic = True\n",
        "    torch.backends.cudnn.benchmark = False\n",
        "\n",
        "    print(f\"[Seed : {seed} Experiment Start]\\n\")\n",
        "\n",
        "    # Train\n",
        "    for epoch in range(num_epochs):\n",
        "        model.train()\n",
        "        epoch_loss = 0.0\n",
        "        progress_bar = tqdm(train_loader, desc=f'Epoch {epoch+1}/{num_epochs}  Augmentation : {names[i]}', leave=True)\n",
        "        for (data, target) in progress_bar:\n",
        "            data, target = data.to(device), target.to(device)\n",
        "            optimizer.zero_grad()\n",
        "            output = model(data)\n",
        "            Loss = criterion(output, target)\n",
        "            Loss.backward()\n",
        "            optimizer.step()\n",
        "\n",
        "            epoch_loss += Loss.item()\n",
        "            progress_bar.set_postfix({\"Loss\": Loss.item()})\n",
        "\n",
        "        scheduler.step()\n",
        "        print(f\"Epoch {epoch + 1}, Loss: {epoch_loss / len(train_loader)}, lr = {optimizer.param_groups[0]['lr']}\")\n",
        "\n",
        "    # Test\n",
        "    model.eval()\n",
        "    test_loss = 0.0\n",
        "    correct = 0\n",
        "\n",
        "    with torch.no_grad():\n",
        "        for (data, target) in test_loader:\n",
        "            data, target = data.to(device), target.to(device)\n",
        "            output = model(data)\n",
        "            Loss = criterion(output, target)\n",
        "            test_loss += Loss.item()\n",
        "            correct += (output.argmax(dim=1) == target).sum().item()\n",
        "\n",
        "    test_loss /= len(test_loader)\n",
        "    test_accuracy = 100 * correct/len(test_loader.dataset)\n",
        "    print(f\"Test Loss : {test_loss}, Test Accuracy : {test_accuracy}%\")\n",
        "\n",
        "    return test_accuracy\n"
      ]
    },
    {
      "cell_type": "code",
      "execution_count": 5,
      "metadata": {
        "colab": {
          "base_uri": "https://localhost:8080/"
        },
        "id": "-htzfANhE6Lc",
        "outputId": "2edfb81f-db6f-4d76-f6a4-3bf4255c2552"
      },
      "outputs": [
        {
          "output_type": "stream",
          "name": "stderr",
          "text": [
            "100%|██████████| 170M/170M [00:10<00:00, 16.2MB/s]\n"
          ]
        },
        {
          "output_type": "stream",
          "name": "stdout",
          "text": [
            "[Seed : 3367 Experiment Start]\n",
            "\n"
          ]
        },
        {
          "output_type": "stream",
          "name": "stderr",
          "text": [
            "Epoch 1/50  Augmentation : None: 100%|██████████| 40/40 [00:02<00:00, 14.84it/s, Loss=2.3]\n"
          ]
        },
        {
          "output_type": "stream",
          "name": "stdout",
          "text": [
            "Epoch 1, Loss: 2.3022349298000337, lr = 0.1\n"
          ]
        },
        {
          "output_type": "stream",
          "name": "stderr",
          "text": [
            "Epoch 2/50  Augmentation : None: 100%|██████████| 40/40 [00:01<00:00, 23.98it/s, Loss=2.04]\n"
          ]
        },
        {
          "output_type": "stream",
          "name": "stdout",
          "text": [
            "Epoch 2, Loss: 2.1852585911750793, lr = 0.1\n"
          ]
        },
        {
          "output_type": "stream",
          "name": "stderr",
          "text": [
            "Epoch 3/50  Augmentation : None: 100%|██████████| 40/40 [00:01<00:00, 21.54it/s, Loss=1.98]\n"
          ]
        },
        {
          "output_type": "stream",
          "name": "stdout",
          "text": [
            "Epoch 3, Loss: 1.935182559490204, lr = 0.1\n"
          ]
        },
        {
          "output_type": "stream",
          "name": "stderr",
          "text": [
            "Epoch 4/50  Augmentation : None: 100%|██████████| 40/40 [00:01<00:00, 23.88it/s, Loss=1.6]\n"
          ]
        },
        {
          "output_type": "stream",
          "name": "stdout",
          "text": [
            "Epoch 4, Loss: 1.764455682039261, lr = 0.1\n"
          ]
        },
        {
          "output_type": "stream",
          "name": "stderr",
          "text": [
            "Epoch 5/50  Augmentation : None: 100%|██████████| 40/40 [00:01<00:00, 23.53it/s, Loss=1.52]\n"
          ]
        },
        {
          "output_type": "stream",
          "name": "stdout",
          "text": [
            "Epoch 5, Loss: 1.6290992110967637, lr = 0.1\n"
          ]
        },
        {
          "output_type": "stream",
          "name": "stderr",
          "text": [
            "Epoch 6/50  Augmentation : None: 100%|██████████| 40/40 [00:01<00:00, 24.46it/s, Loss=1.4]\n"
          ]
        },
        {
          "output_type": "stream",
          "name": "stdout",
          "text": [
            "Epoch 6, Loss: 1.526492416858673, lr = 0.1\n"
          ]
        },
        {
          "output_type": "stream",
          "name": "stderr",
          "text": [
            "Epoch 7/50  Augmentation : None: 100%|██████████| 40/40 [00:01<00:00, 23.87it/s, Loss=1.51]\n"
          ]
        },
        {
          "output_type": "stream",
          "name": "stdout",
          "text": [
            "Epoch 7, Loss: 1.4363932341337204, lr = 0.1\n"
          ]
        },
        {
          "output_type": "stream",
          "name": "stderr",
          "text": [
            "Epoch 8/50  Augmentation : None: 100%|██████████| 40/40 [00:01<00:00, 25.14it/s, Loss=0.92]\n"
          ]
        },
        {
          "output_type": "stream",
          "name": "stdout",
          "text": [
            "Epoch 8, Loss: 1.342720700800419, lr = 0.1\n"
          ]
        },
        {
          "output_type": "stream",
          "name": "stderr",
          "text": [
            "Epoch 9/50  Augmentation : None: 100%|██████████| 40/40 [00:01<00:00, 22.05it/s, Loss=1.15]\n"
          ]
        },
        {
          "output_type": "stream",
          "name": "stdout",
          "text": [
            "Epoch 9, Loss: 1.2279576241970063, lr = 0.1\n"
          ]
        },
        {
          "output_type": "stream",
          "name": "stderr",
          "text": [
            "Epoch 10/50  Augmentation : None: 100%|██████████| 40/40 [00:01<00:00, 23.10it/s, Loss=1.03]\n"
          ]
        },
        {
          "output_type": "stream",
          "name": "stdout",
          "text": [
            "Epoch 10, Loss: 1.1605656176805497, lr = 0.1\n"
          ]
        },
        {
          "output_type": "stream",
          "name": "stderr",
          "text": [
            "Epoch 11/50  Augmentation : None: 100%|██████████| 40/40 [00:01<00:00, 24.08it/s, Loss=1.21]\n"
          ]
        },
        {
          "output_type": "stream",
          "name": "stdout",
          "text": [
            "Epoch 11, Loss: 1.1064242497086525, lr = 0.1\n"
          ]
        },
        {
          "output_type": "stream",
          "name": "stderr",
          "text": [
            "Epoch 12/50  Augmentation : None: 100%|██████████| 40/40 [00:01<00:00, 22.98it/s, Loss=1.15]\n"
          ]
        },
        {
          "output_type": "stream",
          "name": "stdout",
          "text": [
            "Epoch 12, Loss: 1.0401454776525498, lr = 0.1\n"
          ]
        },
        {
          "output_type": "stream",
          "name": "stderr",
          "text": [
            "Epoch 13/50  Augmentation : None: 100%|██████████| 40/40 [00:01<00:00, 24.03it/s, Loss=1.01]\n"
          ]
        },
        {
          "output_type": "stream",
          "name": "stdout",
          "text": [
            "Epoch 13, Loss: 0.9438680052757263, lr = 0.1\n"
          ]
        },
        {
          "output_type": "stream",
          "name": "stderr",
          "text": [
            "Epoch 14/50  Augmentation : None: 100%|██████████| 40/40 [00:01<00:00, 23.58it/s, Loss=1.15]\n"
          ]
        },
        {
          "output_type": "stream",
          "name": "stdout",
          "text": [
            "Epoch 14, Loss: 0.8632010504603386, lr = 0.1\n"
          ]
        },
        {
          "output_type": "stream",
          "name": "stderr",
          "text": [
            "Epoch 15/50  Augmentation : None: 100%|██████████| 40/40 [00:01<00:00, 23.19it/s, Loss=0.856]\n"
          ]
        },
        {
          "output_type": "stream",
          "name": "stdout",
          "text": [
            "Epoch 15, Loss: 0.7834721222519875, lr = 0.1\n"
          ]
        },
        {
          "output_type": "stream",
          "name": "stderr",
          "text": [
            "Epoch 16/50  Augmentation : None: 100%|██████████| 40/40 [00:01<00:00, 23.52it/s, Loss=0.923]\n"
          ]
        },
        {
          "output_type": "stream",
          "name": "stdout",
          "text": [
            "Epoch 16, Loss: 0.7931085288524627, lr = 0.1\n"
          ]
        },
        {
          "output_type": "stream",
          "name": "stderr",
          "text": [
            "Epoch 17/50  Augmentation : None: 100%|██████████| 40/40 [00:01<00:00, 22.34it/s, Loss=0.661]\n"
          ]
        },
        {
          "output_type": "stream",
          "name": "stdout",
          "text": [
            "Epoch 17, Loss: 0.7393844068050385, lr = 0.1\n"
          ]
        },
        {
          "output_type": "stream",
          "name": "stderr",
          "text": [
            "Epoch 18/50  Augmentation : None: 100%|██████████| 40/40 [00:01<00:00, 24.02it/s, Loss=0.47]\n"
          ]
        },
        {
          "output_type": "stream",
          "name": "stdout",
          "text": [
            "Epoch 18, Loss: 0.6055122435092926, lr = 0.1\n"
          ]
        },
        {
          "output_type": "stream",
          "name": "stderr",
          "text": [
            "Epoch 19/50  Augmentation : None: 100%|██████████| 40/40 [00:01<00:00, 23.42it/s, Loss=0.765]\n"
          ]
        },
        {
          "output_type": "stream",
          "name": "stdout",
          "text": [
            "Epoch 19, Loss: 0.5472970969974995, lr = 0.1\n"
          ]
        },
        {
          "output_type": "stream",
          "name": "stderr",
          "text": [
            "Epoch 20/50  Augmentation : None: 100%|██████████| 40/40 [00:01<00:00, 22.23it/s, Loss=1.06]\n"
          ]
        },
        {
          "output_type": "stream",
          "name": "stdout",
          "text": [
            "Epoch 20, Loss: 0.5903932854533196, lr = 0.020000000000000004\n"
          ]
        },
        {
          "output_type": "stream",
          "name": "stderr",
          "text": [
            "Epoch 21/50  Augmentation : None: 100%|██████████| 40/40 [00:01<00:00, 24.10it/s, Loss=0.271]\n"
          ]
        },
        {
          "output_type": "stream",
          "name": "stdout",
          "text": [
            "Epoch 21, Loss: 0.3117199670523405, lr = 0.020000000000000004\n"
          ]
        },
        {
          "output_type": "stream",
          "name": "stderr",
          "text": [
            "Epoch 22/50  Augmentation : None: 100%|██████████| 40/40 [00:01<00:00, 23.76it/s, Loss=0.11]\n"
          ]
        },
        {
          "output_type": "stream",
          "name": "stdout",
          "text": [
            "Epoch 22, Loss: 0.1446625478565693, lr = 0.020000000000000004\n"
          ]
        },
        {
          "output_type": "stream",
          "name": "stderr",
          "text": [
            "Epoch 23/50  Augmentation : None: 100%|██████████| 40/40 [00:01<00:00, 22.22it/s, Loss=0.0367]\n"
          ]
        },
        {
          "output_type": "stream",
          "name": "stdout",
          "text": [
            "Epoch 23, Loss: 0.0846473908983171, lr = 0.020000000000000004\n"
          ]
        },
        {
          "output_type": "stream",
          "name": "stderr",
          "text": [
            "Epoch 24/50  Augmentation : None: 100%|██████████| 40/40 [00:01<00:00, 23.53it/s, Loss=0.0614]\n"
          ]
        },
        {
          "output_type": "stream",
          "name": "stdout",
          "text": [
            "Epoch 24, Loss: 0.050250910129398106, lr = 0.020000000000000004\n"
          ]
        },
        {
          "output_type": "stream",
          "name": "stderr",
          "text": [
            "Epoch 25/50  Augmentation : None: 100%|██████████| 40/40 [00:01<00:00, 23.30it/s, Loss=0.0731]\n"
          ]
        },
        {
          "output_type": "stream",
          "name": "stdout",
          "text": [
            "Epoch 25, Loss: 0.04480442497879267, lr = 0.020000000000000004\n"
          ]
        },
        {
          "output_type": "stream",
          "name": "stderr",
          "text": [
            "Epoch 26/50  Augmentation : None: 100%|██████████| 40/40 [00:01<00:00, 23.09it/s, Loss=0.0519]\n"
          ]
        },
        {
          "output_type": "stream",
          "name": "stdout",
          "text": [
            "Epoch 26, Loss: 0.02671644357033074, lr = 0.020000000000000004\n"
          ]
        },
        {
          "output_type": "stream",
          "name": "stderr",
          "text": [
            "Epoch 27/50  Augmentation : None: 100%|██████████| 40/40 [00:01<00:00, 23.72it/s, Loss=0.0384]\n"
          ]
        },
        {
          "output_type": "stream",
          "name": "stdout",
          "text": [
            "Epoch 27, Loss: 0.025863605143968016, lr = 0.020000000000000004\n"
          ]
        },
        {
          "output_type": "stream",
          "name": "stderr",
          "text": [
            "Epoch 28/50  Augmentation : None: 100%|██████████| 40/40 [00:01<00:00, 23.80it/s, Loss=0.0037]\n"
          ]
        },
        {
          "output_type": "stream",
          "name": "stdout",
          "text": [
            "Epoch 28, Loss: 0.012453890923643485, lr = 0.020000000000000004\n"
          ]
        },
        {
          "output_type": "stream",
          "name": "stderr",
          "text": [
            "Epoch 29/50  Augmentation : None: 100%|██████████| 40/40 [00:01<00:00, 23.13it/s, Loss=0.00236]\n"
          ]
        },
        {
          "output_type": "stream",
          "name": "stdout",
          "text": [
            "Epoch 29, Loss: 0.008708274841774255, lr = 0.020000000000000004\n"
          ]
        },
        {
          "output_type": "stream",
          "name": "stderr",
          "text": [
            "Epoch 30/50  Augmentation : None: 100%|██████████| 40/40 [00:01<00:00, 22.01it/s, Loss=0.00246]\n"
          ]
        },
        {
          "output_type": "stream",
          "name": "stdout",
          "text": [
            "Epoch 30, Loss: 0.00522259515710175, lr = 0.020000000000000004\n"
          ]
        },
        {
          "output_type": "stream",
          "name": "stderr",
          "text": [
            "Epoch 31/50  Augmentation : None: 100%|██████████| 40/40 [00:01<00:00, 23.08it/s, Loss=0.00133]\n"
          ]
        },
        {
          "output_type": "stream",
          "name": "stdout",
          "text": [
            "Epoch 31, Loss: 0.004430878185667097, lr = 0.020000000000000004\n"
          ]
        },
        {
          "output_type": "stream",
          "name": "stderr",
          "text": [
            "Epoch 32/50  Augmentation : None: 100%|██████████| 40/40 [00:01<00:00, 24.07it/s, Loss=0.000592]\n"
          ]
        },
        {
          "output_type": "stream",
          "name": "stdout",
          "text": [
            "Epoch 32, Loss: 0.0033031867249519566, lr = 0.020000000000000004\n"
          ]
        },
        {
          "output_type": "stream",
          "name": "stderr",
          "text": [
            "Epoch 33/50  Augmentation : None: 100%|██████████| 40/40 [00:01<00:00, 23.34it/s, Loss=0.000426]\n"
          ]
        },
        {
          "output_type": "stream",
          "name": "stdout",
          "text": [
            "Epoch 33, Loss: 0.0027475352646433747, lr = 0.020000000000000004\n"
          ]
        },
        {
          "output_type": "stream",
          "name": "stderr",
          "text": [
            "Epoch 34/50  Augmentation : None: 100%|██████████| 40/40 [00:01<00:00, 23.81it/s, Loss=0.00832]\n"
          ]
        },
        {
          "output_type": "stream",
          "name": "stdout",
          "text": [
            "Epoch 34, Loss: 0.0027192107489099728, lr = 0.020000000000000004\n"
          ]
        },
        {
          "output_type": "stream",
          "name": "stderr",
          "text": [
            "Epoch 35/50  Augmentation : None: 100%|██████████| 40/40 [00:01<00:00, 23.88it/s, Loss=0.00263]\n"
          ]
        },
        {
          "output_type": "stream",
          "name": "stdout",
          "text": [
            "Epoch 35, Loss: 0.0026878513308474794, lr = 0.020000000000000004\n"
          ]
        },
        {
          "output_type": "stream",
          "name": "stderr",
          "text": [
            "Epoch 36/50  Augmentation : None: 100%|██████████| 40/40 [00:01<00:00, 23.44it/s, Loss=0.00139]\n"
          ]
        },
        {
          "output_type": "stream",
          "name": "stdout",
          "text": [
            "Epoch 36, Loss: 0.002248591789975762, lr = 0.020000000000000004\n"
          ]
        },
        {
          "output_type": "stream",
          "name": "stderr",
          "text": [
            "Epoch 37/50  Augmentation : None: 100%|██████████| 40/40 [00:01<00:00, 21.46it/s, Loss=0.000537]\n"
          ]
        },
        {
          "output_type": "stream",
          "name": "stdout",
          "text": [
            "Epoch 37, Loss: 0.002084191887115594, lr = 0.020000000000000004\n"
          ]
        },
        {
          "output_type": "stream",
          "name": "stderr",
          "text": [
            "Epoch 38/50  Augmentation : None: 100%|██████████| 40/40 [00:01<00:00, 23.37it/s, Loss=0.00293]\n"
          ]
        },
        {
          "output_type": "stream",
          "name": "stdout",
          "text": [
            "Epoch 38, Loss: 0.0021435857022879647, lr = 0.020000000000000004\n"
          ]
        },
        {
          "output_type": "stream",
          "name": "stderr",
          "text": [
            "Epoch 39/50  Augmentation : None: 100%|██████████| 40/40 [00:01<00:00, 22.71it/s, Loss=0.00181]\n"
          ]
        },
        {
          "output_type": "stream",
          "name": "stdout",
          "text": [
            "Epoch 39, Loss: 0.001777162801590748, lr = 0.020000000000000004\n"
          ]
        },
        {
          "output_type": "stream",
          "name": "stderr",
          "text": [
            "Epoch 40/50  Augmentation : None: 100%|██████████| 40/40 [00:01<00:00, 23.02it/s, Loss=0.00165]\n"
          ]
        },
        {
          "output_type": "stream",
          "name": "stdout",
          "text": [
            "Epoch 40, Loss: 0.0016776669261162169, lr = 0.004000000000000001\n"
          ]
        },
        {
          "output_type": "stream",
          "name": "stderr",
          "text": [
            "Epoch 41/50  Augmentation : None: 100%|██████████| 40/40 [00:01<00:00, 22.02it/s, Loss=0.00153]\n"
          ]
        },
        {
          "output_type": "stream",
          "name": "stdout",
          "text": [
            "Epoch 41, Loss: 0.0014815635251579807, lr = 0.004000000000000001\n"
          ]
        },
        {
          "output_type": "stream",
          "name": "stderr",
          "text": [
            "Epoch 42/50  Augmentation : None: 100%|██████████| 40/40 [00:01<00:00, 23.22it/s, Loss=0.00138]\n"
          ]
        },
        {
          "output_type": "stream",
          "name": "stdout",
          "text": [
            "Epoch 42, Loss: 0.0015477159511647187, lr = 0.004000000000000001\n"
          ]
        },
        {
          "output_type": "stream",
          "name": "stderr",
          "text": [
            "Epoch 43/50  Augmentation : None: 100%|██████████| 40/40 [00:01<00:00, 21.44it/s, Loss=0.000305]\n"
          ]
        },
        {
          "output_type": "stream",
          "name": "stdout",
          "text": [
            "Epoch 43, Loss: 0.0014301933850219938, lr = 0.004000000000000001\n"
          ]
        },
        {
          "output_type": "stream",
          "name": "stderr",
          "text": [
            "Epoch 44/50  Augmentation : None: 100%|██████████| 40/40 [00:01<00:00, 22.04it/s, Loss=0.000718]\n"
          ]
        },
        {
          "output_type": "stream",
          "name": "stdout",
          "text": [
            "Epoch 44, Loss: 0.001573104679118842, lr = 0.004000000000000001\n"
          ]
        },
        {
          "output_type": "stream",
          "name": "stderr",
          "text": [
            "Epoch 45/50  Augmentation : None: 100%|██████████| 40/40 [00:01<00:00, 24.42it/s, Loss=0.00232]\n"
          ]
        },
        {
          "output_type": "stream",
          "name": "stdout",
          "text": [
            "Epoch 45, Loss: 0.0014746540779015048, lr = 0.004000000000000001\n"
          ]
        },
        {
          "output_type": "stream",
          "name": "stderr",
          "text": [
            "Epoch 46/50  Augmentation : None: 100%|██████████| 40/40 [00:01<00:00, 23.74it/s, Loss=0.0017]\n"
          ]
        },
        {
          "output_type": "stream",
          "name": "stdout",
          "text": [
            "Epoch 46, Loss: 0.0013807412979076616, lr = 0.004000000000000001\n"
          ]
        },
        {
          "output_type": "stream",
          "name": "stderr",
          "text": [
            "Epoch 47/50  Augmentation : None: 100%|██████████| 40/40 [00:01<00:00, 22.47it/s, Loss=0.00313]\n"
          ]
        },
        {
          "output_type": "stream",
          "name": "stdout",
          "text": [
            "Epoch 47, Loss: 0.001442420059174765, lr = 0.004000000000000001\n"
          ]
        },
        {
          "output_type": "stream",
          "name": "stderr",
          "text": [
            "Epoch 48/50  Augmentation : None: 100%|██████████| 40/40 [00:01<00:00, 22.96it/s, Loss=7.49e-5]\n"
          ]
        },
        {
          "output_type": "stream",
          "name": "stdout",
          "text": [
            "Epoch 48, Loss: 0.0014621269399867742, lr = 0.004000000000000001\n"
          ]
        },
        {
          "output_type": "stream",
          "name": "stderr",
          "text": [
            "Epoch 49/50  Augmentation : None: 100%|██████████| 40/40 [00:01<00:00, 22.95it/s, Loss=0.00103]\n"
          ]
        },
        {
          "output_type": "stream",
          "name": "stdout",
          "text": [
            "Epoch 49, Loss: 0.0013800352389807813, lr = 0.004000000000000001\n"
          ]
        },
        {
          "output_type": "stream",
          "name": "stderr",
          "text": [
            "Epoch 50/50  Augmentation : None: 100%|██████████| 40/40 [00:01<00:00, 22.24it/s, Loss=0.000437]"
          ]
        },
        {
          "output_type": "stream",
          "name": "stdout",
          "text": [
            "Epoch 50, Loss: 0.0013878169098461512, lr = 0.004000000000000001\n"
          ]
        },
        {
          "output_type": "stream",
          "name": "stderr",
          "text": [
            "\n"
          ]
        },
        {
          "output_type": "stream",
          "name": "stdout",
          "text": [
            "Test Loss : 3.982057821750641, Test Accuracy : 59.31%\n",
            "[Seed : 3367 Experiment Start]\n",
            "\n"
          ]
        },
        {
          "output_type": "stream",
          "name": "stderr",
          "text": [
            "Epoch 1/50  Augmentation : RandomCrop: 100%|██████████| 40/40 [00:02<00:00, 19.05it/s, Loss=2.3]\n"
          ]
        },
        {
          "output_type": "stream",
          "name": "stdout",
          "text": [
            "Epoch 1, Loss: 2.302473896741867, lr = 0.1\n"
          ]
        },
        {
          "output_type": "stream",
          "name": "stderr",
          "text": [
            "Epoch 2/50  Augmentation : RandomCrop: 100%|██████████| 40/40 [00:02<00:00, 18.95it/s, Loss=2.3]\n"
          ]
        },
        {
          "output_type": "stream",
          "name": "stdout",
          "text": [
            "Epoch 2, Loss: 2.2963520646095277, lr = 0.1\n"
          ]
        },
        {
          "output_type": "stream",
          "name": "stderr",
          "text": [
            "Epoch 3/50  Augmentation : RandomCrop: 100%|██████████| 40/40 [00:02<00:00, 18.70it/s, Loss=2.3]\n"
          ]
        },
        {
          "output_type": "stream",
          "name": "stdout",
          "text": [
            "Epoch 3, Loss: 2.2631929218769073, lr = 0.1\n"
          ]
        },
        {
          "output_type": "stream",
          "name": "stderr",
          "text": [
            "Epoch 4/50  Augmentation : RandomCrop: 100%|██████████| 40/40 [00:02<00:00, 18.23it/s, Loss=2.17]\n"
          ]
        },
        {
          "output_type": "stream",
          "name": "stdout",
          "text": [
            "Epoch 4, Loss: 2.200929456949234, lr = 0.1\n"
          ]
        },
        {
          "output_type": "stream",
          "name": "stderr",
          "text": [
            "Epoch 5/50  Augmentation : RandomCrop: 100%|██████████| 40/40 [00:02<00:00, 17.68it/s, Loss=2.11]\n"
          ]
        },
        {
          "output_type": "stream",
          "name": "stdout",
          "text": [
            "Epoch 5, Loss: 2.0902353465557098, lr = 0.1\n"
          ]
        },
        {
          "output_type": "stream",
          "name": "stderr",
          "text": [
            "Epoch 6/50  Augmentation : RandomCrop: 100%|██████████| 40/40 [00:02<00:00, 18.97it/s, Loss=2.03]\n"
          ]
        },
        {
          "output_type": "stream",
          "name": "stdout",
          "text": [
            "Epoch 6, Loss: 2.0402338325977327, lr = 0.1\n"
          ]
        },
        {
          "output_type": "stream",
          "name": "stderr",
          "text": [
            "Epoch 7/50  Augmentation : RandomCrop: 100%|██████████| 40/40 [00:02<00:00, 18.25it/s, Loss=2.01]\n"
          ]
        },
        {
          "output_type": "stream",
          "name": "stdout",
          "text": [
            "Epoch 7, Loss: 1.9538151413202285, lr = 0.1\n"
          ]
        },
        {
          "output_type": "stream",
          "name": "stderr",
          "text": [
            "Epoch 8/50  Augmentation : RandomCrop: 100%|██████████| 40/40 [00:02<00:00, 18.32it/s, Loss=1.89]\n"
          ]
        },
        {
          "output_type": "stream",
          "name": "stdout",
          "text": [
            "Epoch 8, Loss: 1.8956704169511795, lr = 0.1\n"
          ]
        },
        {
          "output_type": "stream",
          "name": "stderr",
          "text": [
            "Epoch 9/50  Augmentation : RandomCrop: 100%|██████████| 40/40 [00:02<00:00, 18.69it/s, Loss=1.87]\n"
          ]
        },
        {
          "output_type": "stream",
          "name": "stdout",
          "text": [
            "Epoch 9, Loss: 1.835823804140091, lr = 0.1\n"
          ]
        },
        {
          "output_type": "stream",
          "name": "stderr",
          "text": [
            "Epoch 10/50  Augmentation : RandomCrop: 100%|██████████| 40/40 [00:02<00:00, 17.14it/s, Loss=1.53]\n"
          ]
        },
        {
          "output_type": "stream",
          "name": "stdout",
          "text": [
            "Epoch 10, Loss: 1.7686875611543655, lr = 0.1\n"
          ]
        },
        {
          "output_type": "stream",
          "name": "stderr",
          "text": [
            "Epoch 11/50  Augmentation : RandomCrop: 100%|██████████| 40/40 [00:02<00:00, 18.52it/s, Loss=1.81]\n"
          ]
        },
        {
          "output_type": "stream",
          "name": "stdout",
          "text": [
            "Epoch 11, Loss: 1.675039494037628, lr = 0.1\n"
          ]
        },
        {
          "output_type": "stream",
          "name": "stderr",
          "text": [
            "Epoch 12/50  Augmentation : RandomCrop: 100%|██████████| 40/40 [00:02<00:00, 19.15it/s, Loss=1.97]\n"
          ]
        },
        {
          "output_type": "stream",
          "name": "stdout",
          "text": [
            "Epoch 12, Loss: 1.6432256072759628, lr = 0.1\n"
          ]
        },
        {
          "output_type": "stream",
          "name": "stderr",
          "text": [
            "Epoch 13/50  Augmentation : RandomCrop: 100%|██████████| 40/40 [00:02<00:00, 19.27it/s, Loss=1.58]\n"
          ]
        },
        {
          "output_type": "stream",
          "name": "stdout",
          "text": [
            "Epoch 13, Loss: 1.6105593472719193, lr = 0.1\n"
          ]
        },
        {
          "output_type": "stream",
          "name": "stderr",
          "text": [
            "Epoch 14/50  Augmentation : RandomCrop: 100%|██████████| 40/40 [00:02<00:00, 18.64it/s, Loss=1.47]\n"
          ]
        },
        {
          "output_type": "stream",
          "name": "stdout",
          "text": [
            "Epoch 14, Loss: 1.5807288020849228, lr = 0.1\n"
          ]
        },
        {
          "output_type": "stream",
          "name": "stderr",
          "text": [
            "Epoch 15/50  Augmentation : RandomCrop: 100%|██████████| 40/40 [00:02<00:00, 17.00it/s, Loss=1.44]\n"
          ]
        },
        {
          "output_type": "stream",
          "name": "stdout",
          "text": [
            "Epoch 15, Loss: 1.5152377605438232, lr = 0.1\n"
          ]
        },
        {
          "output_type": "stream",
          "name": "stderr",
          "text": [
            "Epoch 16/50  Augmentation : RandomCrop: 100%|██████████| 40/40 [00:02<00:00, 18.78it/s, Loss=1.97]\n"
          ]
        },
        {
          "output_type": "stream",
          "name": "stdout",
          "text": [
            "Epoch 16, Loss: 1.4953029155731201, lr = 0.1\n"
          ]
        },
        {
          "output_type": "stream",
          "name": "stderr",
          "text": [
            "Epoch 17/50  Augmentation : RandomCrop: 100%|██████████| 40/40 [00:02<00:00, 19.09it/s, Loss=1.32]\n"
          ]
        },
        {
          "output_type": "stream",
          "name": "stdout",
          "text": [
            "Epoch 17, Loss: 1.5135420382022857, lr = 0.1\n"
          ]
        },
        {
          "output_type": "stream",
          "name": "stderr",
          "text": [
            "Epoch 18/50  Augmentation : RandomCrop: 100%|██████████| 40/40 [00:02<00:00, 19.08it/s, Loss=1.36]\n"
          ]
        },
        {
          "output_type": "stream",
          "name": "stdout",
          "text": [
            "Epoch 18, Loss: 1.43930940926075, lr = 0.1\n"
          ]
        },
        {
          "output_type": "stream",
          "name": "stderr",
          "text": [
            "Epoch 19/50  Augmentation : RandomCrop: 100%|██████████| 40/40 [00:02<00:00, 18.94it/s, Loss=1.46]\n"
          ]
        },
        {
          "output_type": "stream",
          "name": "stdout",
          "text": [
            "Epoch 19, Loss: 1.414712056517601, lr = 0.1\n"
          ]
        },
        {
          "output_type": "stream",
          "name": "stderr",
          "text": [
            "Epoch 20/50  Augmentation : RandomCrop: 100%|██████████| 40/40 [00:02<00:00, 17.91it/s, Loss=1.36]\n"
          ]
        },
        {
          "output_type": "stream",
          "name": "stdout",
          "text": [
            "Epoch 20, Loss: 1.3632725805044175, lr = 0.020000000000000004\n"
          ]
        },
        {
          "output_type": "stream",
          "name": "stderr",
          "text": [
            "Epoch 21/50  Augmentation : RandomCrop: 100%|██████████| 40/40 [00:02<00:00, 18.03it/s, Loss=1.62]\n"
          ]
        },
        {
          "output_type": "stream",
          "name": "stdout",
          "text": [
            "Epoch 21, Loss: 1.262934997677803, lr = 0.020000000000000004\n"
          ]
        },
        {
          "output_type": "stream",
          "name": "stderr",
          "text": [
            "Epoch 22/50  Augmentation : RandomCrop: 100%|██████████| 40/40 [00:02<00:00, 18.46it/s, Loss=1.23]\n"
          ]
        },
        {
          "output_type": "stream",
          "name": "stdout",
          "text": [
            "Epoch 22, Loss: 1.209712028503418, lr = 0.020000000000000004\n"
          ]
        },
        {
          "output_type": "stream",
          "name": "stderr",
          "text": [
            "Epoch 23/50  Augmentation : RandomCrop: 100%|██████████| 40/40 [00:02<00:00, 19.22it/s, Loss=1.57]\n"
          ]
        },
        {
          "output_type": "stream",
          "name": "stdout",
          "text": [
            "Epoch 23, Loss: 1.1882854580879212, lr = 0.020000000000000004\n"
          ]
        },
        {
          "output_type": "stream",
          "name": "stderr",
          "text": [
            "Epoch 24/50  Augmentation : RandomCrop: 100%|██████████| 40/40 [00:02<00:00, 18.93it/s, Loss=1.25]\n"
          ]
        },
        {
          "output_type": "stream",
          "name": "stdout",
          "text": [
            "Epoch 24, Loss: 1.171779751777649, lr = 0.020000000000000004\n"
          ]
        },
        {
          "output_type": "stream",
          "name": "stderr",
          "text": [
            "Epoch 25/50  Augmentation : RandomCrop: 100%|██████████| 40/40 [00:02<00:00, 19.35it/s, Loss=1.13]\n"
          ]
        },
        {
          "output_type": "stream",
          "name": "stdout",
          "text": [
            "Epoch 25, Loss: 1.1422497004270553, lr = 0.020000000000000004\n"
          ]
        },
        {
          "output_type": "stream",
          "name": "stderr",
          "text": [
            "Epoch 26/50  Augmentation : RandomCrop: 100%|██████████| 40/40 [00:02<00:00, 15.98it/s, Loss=1.14]\n"
          ]
        },
        {
          "output_type": "stream",
          "name": "stdout",
          "text": [
            "Epoch 26, Loss: 1.1343419820070266, lr = 0.020000000000000004\n"
          ]
        },
        {
          "output_type": "stream",
          "name": "stderr",
          "text": [
            "Epoch 27/50  Augmentation : RandomCrop: 100%|██████████| 40/40 [00:02<00:00, 18.93it/s, Loss=1]\n"
          ]
        },
        {
          "output_type": "stream",
          "name": "stdout",
          "text": [
            "Epoch 27, Loss: 1.1105433464050294, lr = 0.020000000000000004\n"
          ]
        },
        {
          "output_type": "stream",
          "name": "stderr",
          "text": [
            "Epoch 28/50  Augmentation : RandomCrop: 100%|██████████| 40/40 [00:02<00:00, 18.81it/s, Loss=1.42]\n"
          ]
        },
        {
          "output_type": "stream",
          "name": "stdout",
          "text": [
            "Epoch 28, Loss: 1.0983012974262238, lr = 0.020000000000000004\n"
          ]
        },
        {
          "output_type": "stream",
          "name": "stderr",
          "text": [
            "Epoch 29/50  Augmentation : RandomCrop: 100%|██████████| 40/40 [00:02<00:00, 18.87it/s, Loss=1.06]\n"
          ]
        },
        {
          "output_type": "stream",
          "name": "stdout",
          "text": [
            "Epoch 29, Loss: 1.0804915949702263, lr = 0.020000000000000004\n"
          ]
        },
        {
          "output_type": "stream",
          "name": "stderr",
          "text": [
            "Epoch 30/50  Augmentation : RandomCrop: 100%|██████████| 40/40 [00:02<00:00, 19.08it/s, Loss=0.902]\n"
          ]
        },
        {
          "output_type": "stream",
          "name": "stdout",
          "text": [
            "Epoch 30, Loss: 1.0625085979700089, lr = 0.020000000000000004\n"
          ]
        },
        {
          "output_type": "stream",
          "name": "stderr",
          "text": [
            "Epoch 31/50  Augmentation : RandomCrop: 100%|██████████| 40/40 [00:02<00:00, 16.79it/s, Loss=0.851]\n"
          ]
        },
        {
          "output_type": "stream",
          "name": "stdout",
          "text": [
            "Epoch 31, Loss: 1.0537105336785317, lr = 0.020000000000000004\n"
          ]
        },
        {
          "output_type": "stream",
          "name": "stderr",
          "text": [
            "Epoch 32/50  Augmentation : RandomCrop: 100%|██████████| 40/40 [00:02<00:00, 19.02it/s, Loss=0.786]\n"
          ]
        },
        {
          "output_type": "stream",
          "name": "stdout",
          "text": [
            "Epoch 32, Loss: 1.0474948838353157, lr = 0.020000000000000004\n"
          ]
        },
        {
          "output_type": "stream",
          "name": "stderr",
          "text": [
            "Epoch 33/50  Augmentation : RandomCrop: 100%|██████████| 40/40 [00:02<00:00, 18.59it/s, Loss=1.07]\n"
          ]
        },
        {
          "output_type": "stream",
          "name": "stdout",
          "text": [
            "Epoch 33, Loss: 1.016770787537098, lr = 0.020000000000000004\n"
          ]
        },
        {
          "output_type": "stream",
          "name": "stderr",
          "text": [
            "Epoch 34/50  Augmentation : RandomCrop: 100%|██████████| 40/40 [00:02<00:00, 18.70it/s, Loss=0.9]\n"
          ]
        },
        {
          "output_type": "stream",
          "name": "stdout",
          "text": [
            "Epoch 34, Loss: 0.9925752684473992, lr = 0.020000000000000004\n"
          ]
        },
        {
          "output_type": "stream",
          "name": "stderr",
          "text": [
            "Epoch 35/50  Augmentation : RandomCrop: 100%|██████████| 40/40 [00:02<00:00, 18.73it/s, Loss=1.18]\n"
          ]
        },
        {
          "output_type": "stream",
          "name": "stdout",
          "text": [
            "Epoch 35, Loss: 0.9900106638669968, lr = 0.020000000000000004\n"
          ]
        },
        {
          "output_type": "stream",
          "name": "stderr",
          "text": [
            "Epoch 36/50  Augmentation : RandomCrop: 100%|██████████| 40/40 [00:02<00:00, 18.32it/s, Loss=0.8]\n"
          ]
        },
        {
          "output_type": "stream",
          "name": "stdout",
          "text": [
            "Epoch 36, Loss: 0.9697864666581154, lr = 0.020000000000000004\n"
          ]
        },
        {
          "output_type": "stream",
          "name": "stderr",
          "text": [
            "Epoch 37/50  Augmentation : RandomCrop: 100%|██████████| 40/40 [00:02<00:00, 17.56it/s, Loss=0.877]\n"
          ]
        },
        {
          "output_type": "stream",
          "name": "stdout",
          "text": [
            "Epoch 37, Loss: 0.9635692164301872, lr = 0.020000000000000004\n"
          ]
        },
        {
          "output_type": "stream",
          "name": "stderr",
          "text": [
            "Epoch 38/50  Augmentation : RandomCrop: 100%|██████████| 40/40 [00:02<00:00, 18.79it/s, Loss=1.07]\n"
          ]
        },
        {
          "output_type": "stream",
          "name": "stdout",
          "text": [
            "Epoch 38, Loss: 0.9563008576631546, lr = 0.020000000000000004\n"
          ]
        },
        {
          "output_type": "stream",
          "name": "stderr",
          "text": [
            "Epoch 39/50  Augmentation : RandomCrop: 100%|██████████| 40/40 [00:02<00:00, 19.06it/s, Loss=0.947]\n"
          ]
        },
        {
          "output_type": "stream",
          "name": "stdout",
          "text": [
            "Epoch 39, Loss: 0.9310487806797028, lr = 0.020000000000000004\n"
          ]
        },
        {
          "output_type": "stream",
          "name": "stderr",
          "text": [
            "Epoch 40/50  Augmentation : RandomCrop: 100%|██████████| 40/40 [00:02<00:00, 18.55it/s, Loss=0.942]\n"
          ]
        },
        {
          "output_type": "stream",
          "name": "stdout",
          "text": [
            "Epoch 40, Loss: 0.9452579066157341, lr = 0.004000000000000001\n"
          ]
        },
        {
          "output_type": "stream",
          "name": "stderr",
          "text": [
            "Epoch 41/50  Augmentation : RandomCrop: 100%|██████████| 40/40 [00:02<00:00, 18.27it/s, Loss=0.828]\n"
          ]
        },
        {
          "output_type": "stream",
          "name": "stdout",
          "text": [
            "Epoch 41, Loss: 0.8570239767432213, lr = 0.004000000000000001\n"
          ]
        },
        {
          "output_type": "stream",
          "name": "stderr",
          "text": [
            "Epoch 42/50  Augmentation : RandomCrop: 100%|██████████| 40/40 [00:02<00:00, 16.68it/s, Loss=0.828]\n"
          ]
        },
        {
          "output_type": "stream",
          "name": "stdout",
          "text": [
            "Epoch 42, Loss: 0.8266615957021713, lr = 0.004000000000000001\n"
          ]
        },
        {
          "output_type": "stream",
          "name": "stderr",
          "text": [
            "Epoch 43/50  Augmentation : RandomCrop: 100%|██████████| 40/40 [00:02<00:00, 18.49it/s, Loss=0.842]\n"
          ]
        },
        {
          "output_type": "stream",
          "name": "stdout",
          "text": [
            "Epoch 43, Loss: 0.8095460534095764, lr = 0.004000000000000001\n"
          ]
        },
        {
          "output_type": "stream",
          "name": "stderr",
          "text": [
            "Epoch 44/50  Augmentation : RandomCrop: 100%|██████████| 40/40 [00:02<00:00, 18.60it/s, Loss=0.91]\n"
          ]
        },
        {
          "output_type": "stream",
          "name": "stdout",
          "text": [
            "Epoch 44, Loss: 0.8095492288470268, lr = 0.004000000000000001\n"
          ]
        },
        {
          "output_type": "stream",
          "name": "stderr",
          "text": [
            "Epoch 45/50  Augmentation : RandomCrop: 100%|██████████| 40/40 [00:02<00:00, 19.19it/s, Loss=0.679]\n"
          ]
        },
        {
          "output_type": "stream",
          "name": "stdout",
          "text": [
            "Epoch 45, Loss: 0.7867226675152779, lr = 0.004000000000000001\n"
          ]
        },
        {
          "output_type": "stream",
          "name": "stderr",
          "text": [
            "Epoch 46/50  Augmentation : RandomCrop: 100%|██████████| 40/40 [00:02<00:00, 18.62it/s, Loss=0.814]\n"
          ]
        },
        {
          "output_type": "stream",
          "name": "stdout",
          "text": [
            "Epoch 46, Loss: 0.7883794039487839, lr = 0.004000000000000001\n"
          ]
        },
        {
          "output_type": "stream",
          "name": "stderr",
          "text": [
            "Epoch 47/50  Augmentation : RandomCrop: 100%|██████████| 40/40 [00:02<00:00, 16.73it/s, Loss=0.636]\n"
          ]
        },
        {
          "output_type": "stream",
          "name": "stdout",
          "text": [
            "Epoch 47, Loss: 0.7696375295519828, lr = 0.004000000000000001\n"
          ]
        },
        {
          "output_type": "stream",
          "name": "stderr",
          "text": [
            "Epoch 48/50  Augmentation : RandomCrop: 100%|██████████| 40/40 [00:02<00:00, 18.44it/s, Loss=0.58]\n"
          ]
        },
        {
          "output_type": "stream",
          "name": "stdout",
          "text": [
            "Epoch 48, Loss: 0.7604212015867233, lr = 0.004000000000000001\n"
          ]
        },
        {
          "output_type": "stream",
          "name": "stderr",
          "text": [
            "Epoch 49/50  Augmentation : RandomCrop: 100%|██████████| 40/40 [00:02<00:00, 18.85it/s, Loss=0.723]\n"
          ]
        },
        {
          "output_type": "stream",
          "name": "stdout",
          "text": [
            "Epoch 49, Loss: 0.7594697549939156, lr = 0.004000000000000001\n"
          ]
        },
        {
          "output_type": "stream",
          "name": "stderr",
          "text": [
            "Epoch 50/50  Augmentation : RandomCrop: 100%|██████████| 40/40 [00:02<00:00, 19.19it/s, Loss=0.494]"
          ]
        },
        {
          "output_type": "stream",
          "name": "stdout",
          "text": [
            "Epoch 50, Loss: 0.7547299079596996, lr = 0.004000000000000001\n"
          ]
        },
        {
          "output_type": "stream",
          "name": "stderr",
          "text": [
            "\n"
          ]
        },
        {
          "output_type": "stream",
          "name": "stdout",
          "text": [
            "Test Loss : 1.1737060964107513, Test Accuracy : 61.92%\n",
            "[Seed : 3367 Experiment Start]\n",
            "\n"
          ]
        },
        {
          "output_type": "stream",
          "name": "stderr",
          "text": [
            "Epoch 1/50  Augmentation : RandomHorizontalFlip: 100%|██████████| 40/40 [00:02<00:00, 19.98it/s, Loss=2.3]\n"
          ]
        },
        {
          "output_type": "stream",
          "name": "stdout",
          "text": [
            "Epoch 1, Loss: 2.3023340165615083, lr = 0.1\n"
          ]
        },
        {
          "output_type": "stream",
          "name": "stderr",
          "text": [
            "Epoch 2/50  Augmentation : RandomHorizontalFlip: 100%|██████████| 40/40 [00:01<00:00, 20.06it/s, Loss=2.1]\n"
          ]
        },
        {
          "output_type": "stream",
          "name": "stdout",
          "text": [
            "Epoch 2, Loss: 2.230648672580719, lr = 0.1\n"
          ]
        },
        {
          "output_type": "stream",
          "name": "stderr",
          "text": [
            "Epoch 3/50  Augmentation : RandomHorizontalFlip: 100%|██████████| 40/40 [00:01<00:00, 20.82it/s, Loss=2.08]\n"
          ]
        },
        {
          "output_type": "stream",
          "name": "stdout",
          "text": [
            "Epoch 3, Loss: 2.0380384981632234, lr = 0.1\n"
          ]
        },
        {
          "output_type": "stream",
          "name": "stderr",
          "text": [
            "Epoch 4/50  Augmentation : RandomHorizontalFlip: 100%|██████████| 40/40 [00:01<00:00, 22.57it/s, Loss=1.72]\n"
          ]
        },
        {
          "output_type": "stream",
          "name": "stdout",
          "text": [
            "Epoch 4, Loss: 1.8997063666582108, lr = 0.1\n"
          ]
        },
        {
          "output_type": "stream",
          "name": "stderr",
          "text": [
            "Epoch 5/50  Augmentation : RandomHorizontalFlip: 100%|██████████| 40/40 [00:01<00:00, 21.32it/s, Loss=1.76]\n"
          ]
        },
        {
          "output_type": "stream",
          "name": "stdout",
          "text": [
            "Epoch 5, Loss: 1.7728843480348586, lr = 0.1\n"
          ]
        },
        {
          "output_type": "stream",
          "name": "stderr",
          "text": [
            "Epoch 6/50  Augmentation : RandomHorizontalFlip: 100%|██████████| 40/40 [00:01<00:00, 20.79it/s, Loss=1.75]\n"
          ]
        },
        {
          "output_type": "stream",
          "name": "stdout",
          "text": [
            "Epoch 6, Loss: 1.6521341353654861, lr = 0.1\n"
          ]
        },
        {
          "output_type": "stream",
          "name": "stderr",
          "text": [
            "Epoch 7/50  Augmentation : RandomHorizontalFlip: 100%|██████████| 40/40 [00:02<00:00, 19.63it/s, Loss=1.49]\n"
          ]
        },
        {
          "output_type": "stream",
          "name": "stdout",
          "text": [
            "Epoch 7, Loss: 1.5687746018171311, lr = 0.1\n"
          ]
        },
        {
          "output_type": "stream",
          "name": "stderr",
          "text": [
            "Epoch 8/50  Augmentation : RandomHorizontalFlip: 100%|██████████| 40/40 [00:01<00:00, 20.53it/s, Loss=1.46]\n"
          ]
        },
        {
          "output_type": "stream",
          "name": "stdout",
          "text": [
            "Epoch 8, Loss: 1.560715478658676, lr = 0.1\n"
          ]
        },
        {
          "output_type": "stream",
          "name": "stderr",
          "text": [
            "Epoch 9/50  Augmentation : RandomHorizontalFlip: 100%|██████████| 40/40 [00:01<00:00, 22.13it/s, Loss=1.45]\n"
          ]
        },
        {
          "output_type": "stream",
          "name": "stdout",
          "text": [
            "Epoch 9, Loss: 1.4335471093654633, lr = 0.1\n"
          ]
        },
        {
          "output_type": "stream",
          "name": "stderr",
          "text": [
            "Epoch 10/50  Augmentation : RandomHorizontalFlip: 100%|██████████| 40/40 [00:01<00:00, 21.38it/s, Loss=1.18]\n"
          ]
        },
        {
          "output_type": "stream",
          "name": "stdout",
          "text": [
            "Epoch 10, Loss: 1.3478644043207169, lr = 0.1\n"
          ]
        },
        {
          "output_type": "stream",
          "name": "stderr",
          "text": [
            "Epoch 11/50  Augmentation : RandomHorizontalFlip: 100%|██████████| 40/40 [00:01<00:00, 20.98it/s, Loss=1.23]\n"
          ]
        },
        {
          "output_type": "stream",
          "name": "stdout",
          "text": [
            "Epoch 11, Loss: 1.2810912281274796, lr = 0.1\n"
          ]
        },
        {
          "output_type": "stream",
          "name": "stderr",
          "text": [
            "Epoch 12/50  Augmentation : RandomHorizontalFlip: 100%|██████████| 40/40 [00:01<00:00, 21.43it/s, Loss=1.6]\n"
          ]
        },
        {
          "output_type": "stream",
          "name": "stdout",
          "text": [
            "Epoch 12, Loss: 1.236121767759323, lr = 0.1\n"
          ]
        },
        {
          "output_type": "stream",
          "name": "stderr",
          "text": [
            "Epoch 13/50  Augmentation : RandomHorizontalFlip: 100%|██████████| 40/40 [00:01<00:00, 21.20it/s, Loss=0.999]\n"
          ]
        },
        {
          "output_type": "stream",
          "name": "stdout",
          "text": [
            "Epoch 13, Loss: 1.2115242958068848, lr = 0.1\n"
          ]
        },
        {
          "output_type": "stream",
          "name": "stderr",
          "text": [
            "Epoch 14/50  Augmentation : RandomHorizontalFlip: 100%|██████████| 40/40 [00:02<00:00, 19.02it/s, Loss=1.22]\n"
          ]
        },
        {
          "output_type": "stream",
          "name": "stdout",
          "text": [
            "Epoch 14, Loss: 1.1390080988407134, lr = 0.1\n"
          ]
        },
        {
          "output_type": "stream",
          "name": "stderr",
          "text": [
            "Epoch 15/50  Augmentation : RandomHorizontalFlip: 100%|██████████| 40/40 [00:01<00:00, 21.39it/s, Loss=0.93]\n"
          ]
        },
        {
          "output_type": "stream",
          "name": "stdout",
          "text": [
            "Epoch 15, Loss: 1.0888403043150903, lr = 0.1\n"
          ]
        },
        {
          "output_type": "stream",
          "name": "stderr",
          "text": [
            "Epoch 16/50  Augmentation : RandomHorizontalFlip: 100%|██████████| 40/40 [00:01<00:00, 21.10it/s, Loss=1.61]\n"
          ]
        },
        {
          "output_type": "stream",
          "name": "stdout",
          "text": [
            "Epoch 16, Loss: 1.0348477989435196, lr = 0.1\n"
          ]
        },
        {
          "output_type": "stream",
          "name": "stderr",
          "text": [
            "Epoch 17/50  Augmentation : RandomHorizontalFlip: 100%|██████████| 40/40 [00:01<00:00, 21.30it/s, Loss=1.15]\n"
          ]
        },
        {
          "output_type": "stream",
          "name": "stdout",
          "text": [
            "Epoch 17, Loss: 1.01440227329731, lr = 0.1\n"
          ]
        },
        {
          "output_type": "stream",
          "name": "stderr",
          "text": [
            "Epoch 18/50  Augmentation : RandomHorizontalFlip: 100%|██████████| 40/40 [00:01<00:00, 21.98it/s, Loss=0.671]\n"
          ]
        },
        {
          "output_type": "stream",
          "name": "stdout",
          "text": [
            "Epoch 18, Loss: 0.9724676862359047, lr = 0.1\n"
          ]
        },
        {
          "output_type": "stream",
          "name": "stderr",
          "text": [
            "Epoch 19/50  Augmentation : RandomHorizontalFlip: 100%|██████████| 40/40 [00:01<00:00, 20.18it/s, Loss=1.09]\n"
          ]
        },
        {
          "output_type": "stream",
          "name": "stdout",
          "text": [
            "Epoch 19, Loss: 0.8771111816167831, lr = 0.1\n"
          ]
        },
        {
          "output_type": "stream",
          "name": "stderr",
          "text": [
            "Epoch 20/50  Augmentation : RandomHorizontalFlip: 100%|██████████| 40/40 [00:02<00:00, 19.34it/s, Loss=0.912]\n"
          ]
        },
        {
          "output_type": "stream",
          "name": "stdout",
          "text": [
            "Epoch 20, Loss: 0.9085660308599472, lr = 0.020000000000000004\n"
          ]
        },
        {
          "output_type": "stream",
          "name": "stderr",
          "text": [
            "Epoch 21/50  Augmentation : RandomHorizontalFlip: 100%|██████████| 40/40 [00:01<00:00, 21.56it/s, Loss=0.704]\n"
          ]
        },
        {
          "output_type": "stream",
          "name": "stdout",
          "text": [
            "Epoch 21, Loss: 0.6968902736902237, lr = 0.020000000000000004\n"
          ]
        },
        {
          "output_type": "stream",
          "name": "stderr",
          "text": [
            "Epoch 22/50  Augmentation : RandomHorizontalFlip: 100%|██████████| 40/40 [00:01<00:00, 21.15it/s, Loss=0.455]\n"
          ]
        },
        {
          "output_type": "stream",
          "name": "stdout",
          "text": [
            "Epoch 22, Loss: 0.5670340307056904, lr = 0.020000000000000004\n"
          ]
        },
        {
          "output_type": "stream",
          "name": "stderr",
          "text": [
            "Epoch 23/50  Augmentation : RandomHorizontalFlip: 100%|██████████| 40/40 [00:01<00:00, 21.62it/s, Loss=0.692]\n"
          ]
        },
        {
          "output_type": "stream",
          "name": "stdout",
          "text": [
            "Epoch 23, Loss: 0.515582586824894, lr = 0.020000000000000004\n"
          ]
        },
        {
          "output_type": "stream",
          "name": "stderr",
          "text": [
            "Epoch 24/50  Augmentation : RandomHorizontalFlip: 100%|██████████| 40/40 [00:01<00:00, 22.15it/s, Loss=0.278]\n"
          ]
        },
        {
          "output_type": "stream",
          "name": "stdout",
          "text": [
            "Epoch 24, Loss: 0.49692233502864835, lr = 0.020000000000000004\n"
          ]
        },
        {
          "output_type": "stream",
          "name": "stderr",
          "text": [
            "Epoch 25/50  Augmentation : RandomHorizontalFlip: 100%|██████████| 40/40 [00:01<00:00, 20.67it/s, Loss=0.468]\n"
          ]
        },
        {
          "output_type": "stream",
          "name": "stdout",
          "text": [
            "Epoch 25, Loss: 0.4234475836157799, lr = 0.020000000000000004\n"
          ]
        },
        {
          "output_type": "stream",
          "name": "stderr",
          "text": [
            "Epoch 26/50  Augmentation : RandomHorizontalFlip: 100%|██████████| 40/40 [00:01<00:00, 20.28it/s, Loss=0.55]\n"
          ]
        },
        {
          "output_type": "stream",
          "name": "stdout",
          "text": [
            "Epoch 26, Loss: 0.39491687119007113, lr = 0.020000000000000004\n"
          ]
        },
        {
          "output_type": "stream",
          "name": "stderr",
          "text": [
            "Epoch 27/50  Augmentation : RandomHorizontalFlip: 100%|██████████| 40/40 [00:01<00:00, 21.39it/s, Loss=0.188]\n"
          ]
        },
        {
          "output_type": "stream",
          "name": "stdout",
          "text": [
            "Epoch 27, Loss: 0.35469424575567243, lr = 0.020000000000000004\n"
          ]
        },
        {
          "output_type": "stream",
          "name": "stderr",
          "text": [
            "Epoch 28/50  Augmentation : RandomHorizontalFlip: 100%|██████████| 40/40 [00:01<00:00, 20.76it/s, Loss=0.408]\n"
          ]
        },
        {
          "output_type": "stream",
          "name": "stdout",
          "text": [
            "Epoch 28, Loss: 0.30844860151410103, lr = 0.020000000000000004\n"
          ]
        },
        {
          "output_type": "stream",
          "name": "stderr",
          "text": [
            "Epoch 29/50  Augmentation : RandomHorizontalFlip: 100%|██████████| 40/40 [00:01<00:00, 21.21it/s, Loss=0.313]\n"
          ]
        },
        {
          "output_type": "stream",
          "name": "stdout",
          "text": [
            "Epoch 29, Loss: 0.2802162680774927, lr = 0.020000000000000004\n"
          ]
        },
        {
          "output_type": "stream",
          "name": "stderr",
          "text": [
            "Epoch 30/50  Augmentation : RandomHorizontalFlip: 100%|██████████| 40/40 [00:01<00:00, 21.71it/s, Loss=0.271]\n"
          ]
        },
        {
          "output_type": "stream",
          "name": "stdout",
          "text": [
            "Epoch 30, Loss: 0.26730752773582933, lr = 0.020000000000000004\n"
          ]
        },
        {
          "output_type": "stream",
          "name": "stderr",
          "text": [
            "Epoch 31/50  Augmentation : RandomHorizontalFlip: 100%|██████████| 40/40 [00:01<00:00, 21.10it/s, Loss=0.0674]\n"
          ]
        },
        {
          "output_type": "stream",
          "name": "stdout",
          "text": [
            "Epoch 31, Loss: 0.2177845833823085, lr = 0.020000000000000004\n"
          ]
        },
        {
          "output_type": "stream",
          "name": "stderr",
          "text": [
            "Epoch 32/50  Augmentation : RandomHorizontalFlip: 100%|██████████| 40/40 [00:02<00:00, 18.80it/s, Loss=0.235]\n"
          ]
        },
        {
          "output_type": "stream",
          "name": "stdout",
          "text": [
            "Epoch 32, Loss: 0.1824558537453413, lr = 0.020000000000000004\n"
          ]
        },
        {
          "output_type": "stream",
          "name": "stderr",
          "text": [
            "Epoch 33/50  Augmentation : RandomHorizontalFlip: 100%|██████████| 40/40 [00:01<00:00, 21.87it/s, Loss=0.163]\n"
          ]
        },
        {
          "output_type": "stream",
          "name": "stdout",
          "text": [
            "Epoch 33, Loss: 0.204554558172822, lr = 0.020000000000000004\n"
          ]
        },
        {
          "output_type": "stream",
          "name": "stderr",
          "text": [
            "Epoch 34/50  Augmentation : RandomHorizontalFlip: 100%|██████████| 40/40 [00:01<00:00, 21.35it/s, Loss=0.0409]\n"
          ]
        },
        {
          "output_type": "stream",
          "name": "stdout",
          "text": [
            "Epoch 34, Loss: 0.15581246335059404, lr = 0.020000000000000004\n"
          ]
        },
        {
          "output_type": "stream",
          "name": "stderr",
          "text": [
            "Epoch 35/50  Augmentation : RandomHorizontalFlip: 100%|██████████| 40/40 [00:01<00:00, 21.80it/s, Loss=0.234]\n"
          ]
        },
        {
          "output_type": "stream",
          "name": "stdout",
          "text": [
            "Epoch 35, Loss: 0.1292198056355119, lr = 0.020000000000000004\n"
          ]
        },
        {
          "output_type": "stream",
          "name": "stderr",
          "text": [
            "Epoch 36/50  Augmentation : RandomHorizontalFlip: 100%|██████████| 40/40 [00:01<00:00, 21.04it/s, Loss=0.0667]\n"
          ]
        },
        {
          "output_type": "stream",
          "name": "stdout",
          "text": [
            "Epoch 36, Loss: 0.13215003330260516, lr = 0.020000000000000004\n"
          ]
        },
        {
          "output_type": "stream",
          "name": "stderr",
          "text": [
            "Epoch 37/50  Augmentation : RandomHorizontalFlip: 100%|██████████| 40/40 [00:01<00:00, 21.59it/s, Loss=0.0855]\n"
          ]
        },
        {
          "output_type": "stream",
          "name": "stdout",
          "text": [
            "Epoch 37, Loss: 0.12261220198124648, lr = 0.020000000000000004\n"
          ]
        },
        {
          "output_type": "stream",
          "name": "stderr",
          "text": [
            "Epoch 38/50  Augmentation : RandomHorizontalFlip: 100%|██████████| 40/40 [00:02<00:00, 17.74it/s, Loss=0.128]\n"
          ]
        },
        {
          "output_type": "stream",
          "name": "stdout",
          "text": [
            "Epoch 38, Loss: 0.13492111768573523, lr = 0.020000000000000004\n"
          ]
        },
        {
          "output_type": "stream",
          "name": "stderr",
          "text": [
            "Epoch 39/50  Augmentation : RandomHorizontalFlip: 100%|██████████| 40/40 [00:01<00:00, 21.47it/s, Loss=0.356]\n"
          ]
        },
        {
          "output_type": "stream",
          "name": "stdout",
          "text": [
            "Epoch 39, Loss: 0.15947128981351852, lr = 0.020000000000000004\n"
          ]
        },
        {
          "output_type": "stream",
          "name": "stderr",
          "text": [
            "Epoch 40/50  Augmentation : RandomHorizontalFlip: 100%|██████████| 40/40 [00:01<00:00, 21.97it/s, Loss=0.284]\n"
          ]
        },
        {
          "output_type": "stream",
          "name": "stdout",
          "text": [
            "Epoch 40, Loss: 0.22044932693243027, lr = 0.004000000000000001\n"
          ]
        },
        {
          "output_type": "stream",
          "name": "stderr",
          "text": [
            "Epoch 41/50  Augmentation : RandomHorizontalFlip: 100%|██████████| 40/40 [00:01<00:00, 21.48it/s, Loss=0.11]\n"
          ]
        },
        {
          "output_type": "stream",
          "name": "stdout",
          "text": [
            "Epoch 41, Loss: 0.1196034112945199, lr = 0.004000000000000001\n"
          ]
        },
        {
          "output_type": "stream",
          "name": "stderr",
          "text": [
            "Epoch 42/50  Augmentation : RandomHorizontalFlip: 100%|██████████| 40/40 [00:01<00:00, 20.89it/s, Loss=0.0652]\n"
          ]
        },
        {
          "output_type": "stream",
          "name": "stdout",
          "text": [
            "Epoch 42, Loss: 0.06375900125131011, lr = 0.004000000000000001\n"
          ]
        },
        {
          "output_type": "stream",
          "name": "stderr",
          "text": [
            "Epoch 43/50  Augmentation : RandomHorizontalFlip: 100%|██████████| 40/40 [00:01<00:00, 21.64it/s, Loss=0.0399]\n"
          ]
        },
        {
          "output_type": "stream",
          "name": "stdout",
          "text": [
            "Epoch 43, Loss: 0.04409410483203828, lr = 0.004000000000000001\n"
          ]
        },
        {
          "output_type": "stream",
          "name": "stderr",
          "text": [
            "Epoch 44/50  Augmentation : RandomHorizontalFlip: 100%|██████████| 40/40 [00:02<00:00, 19.94it/s, Loss=0.0188]\n"
          ]
        },
        {
          "output_type": "stream",
          "name": "stdout",
          "text": [
            "Epoch 44, Loss: 0.0365165026858449, lr = 0.004000000000000001\n"
          ]
        },
        {
          "output_type": "stream",
          "name": "stderr",
          "text": [
            "Epoch 45/50  Augmentation : RandomHorizontalFlip: 100%|██████████| 40/40 [00:01<00:00, 21.23it/s, Loss=0.0167]\n"
          ]
        },
        {
          "output_type": "stream",
          "name": "stdout",
          "text": [
            "Epoch 45, Loss: 0.02844055788591504, lr = 0.004000000000000001\n"
          ]
        },
        {
          "output_type": "stream",
          "name": "stderr",
          "text": [
            "Epoch 46/50  Augmentation : RandomHorizontalFlip: 100%|██████████| 40/40 [00:01<00:00, 22.13it/s, Loss=0.023]\n"
          ]
        },
        {
          "output_type": "stream",
          "name": "stdout",
          "text": [
            "Epoch 46, Loss: 0.024958820780739188, lr = 0.004000000000000001\n"
          ]
        },
        {
          "output_type": "stream",
          "name": "stderr",
          "text": [
            "Epoch 47/50  Augmentation : RandomHorizontalFlip: 100%|██████████| 40/40 [00:01<00:00, 21.13it/s, Loss=0.00572]\n"
          ]
        },
        {
          "output_type": "stream",
          "name": "stdout",
          "text": [
            "Epoch 47, Loss: 0.02287281081080437, lr = 0.004000000000000001\n"
          ]
        },
        {
          "output_type": "stream",
          "name": "stderr",
          "text": [
            "Epoch 48/50  Augmentation : RandomHorizontalFlip: 100%|██████████| 40/40 [00:01<00:00, 21.55it/s, Loss=0.00906]\n"
          ]
        },
        {
          "output_type": "stream",
          "name": "stdout",
          "text": [
            "Epoch 48, Loss: 0.019237081543542443, lr = 0.004000000000000001\n"
          ]
        },
        {
          "output_type": "stream",
          "name": "stderr",
          "text": [
            "Epoch 49/50  Augmentation : RandomHorizontalFlip: 100%|██████████| 40/40 [00:01<00:00, 21.60it/s, Loss=0.00769]\n"
          ]
        },
        {
          "output_type": "stream",
          "name": "stdout",
          "text": [
            "Epoch 49, Loss: 0.017612348473630846, lr = 0.004000000000000001\n"
          ]
        },
        {
          "output_type": "stream",
          "name": "stderr",
          "text": [
            "Epoch 50/50  Augmentation : RandomHorizontalFlip: 100%|██████████| 40/40 [00:02<00:00, 19.42it/s, Loss=0.00179]"
          ]
        },
        {
          "output_type": "stream",
          "name": "stdout",
          "text": [
            "Epoch 50, Loss: 0.015305098643875682, lr = 0.004000000000000001\n"
          ]
        },
        {
          "output_type": "stream",
          "name": "stderr",
          "text": [
            "\n"
          ]
        },
        {
          "output_type": "stream",
          "name": "stdout",
          "text": [
            "Test Loss : 2.5521053194999697, Test Accuracy : 62.69%\n",
            "[Seed : 3367 Experiment Start]\n",
            "\n"
          ]
        },
        {
          "output_type": "stream",
          "name": "stderr",
          "text": [
            "Epoch 1/50  Augmentation : Cutout: 100%|██████████| 40/40 [00:02<00:00, 18.43it/s, Loss=2.3]\n"
          ]
        },
        {
          "output_type": "stream",
          "name": "stdout",
          "text": [
            "Epoch 1, Loss: 2.3024454772472382, lr = 0.1\n"
          ]
        },
        {
          "output_type": "stream",
          "name": "stderr",
          "text": [
            "Epoch 2/50  Augmentation : Cutout: 100%|██████████| 40/40 [00:02<00:00, 19.18it/s, Loss=2.19]\n"
          ]
        },
        {
          "output_type": "stream",
          "name": "stdout",
          "text": [
            "Epoch 2, Loss: 2.255642682313919, lr = 0.1\n"
          ]
        },
        {
          "output_type": "stream",
          "name": "stderr",
          "text": [
            "Epoch 3/50  Augmentation : Cutout: 100%|██████████| 40/40 [00:02<00:00, 19.51it/s, Loss=2.15]\n"
          ]
        },
        {
          "output_type": "stream",
          "name": "stdout",
          "text": [
            "Epoch 3, Loss: 2.072283688187599, lr = 0.1\n"
          ]
        },
        {
          "output_type": "stream",
          "name": "stderr",
          "text": [
            "Epoch 4/50  Augmentation : Cutout: 100%|██████████| 40/40 [00:02<00:00, 18.54it/s, Loss=1.78]\n"
          ]
        },
        {
          "output_type": "stream",
          "name": "stdout",
          "text": [
            "Epoch 4, Loss: 1.9619286835193634, lr = 0.1\n"
          ]
        },
        {
          "output_type": "stream",
          "name": "stderr",
          "text": [
            "Epoch 5/50  Augmentation : Cutout: 100%|██████████| 40/40 [00:02<00:00, 18.17it/s, Loss=1.77]\n"
          ]
        },
        {
          "output_type": "stream",
          "name": "stdout",
          "text": [
            "Epoch 5, Loss: 1.926455333828926, lr = 0.1\n"
          ]
        },
        {
          "output_type": "stream",
          "name": "stderr",
          "text": [
            "Epoch 6/50  Augmentation : Cutout: 100%|██████████| 40/40 [00:02<00:00, 19.51it/s, Loss=1.85]\n"
          ]
        },
        {
          "output_type": "stream",
          "name": "stdout",
          "text": [
            "Epoch 6, Loss: 1.7817367762327194, lr = 0.1\n"
          ]
        },
        {
          "output_type": "stream",
          "name": "stderr",
          "text": [
            "Epoch 7/50  Augmentation : Cutout: 100%|██████████| 40/40 [00:02<00:00, 19.67it/s, Loss=1.69]\n"
          ]
        },
        {
          "output_type": "stream",
          "name": "stdout",
          "text": [
            "Epoch 7, Loss: 1.6846607595682144, lr = 0.1\n"
          ]
        },
        {
          "output_type": "stream",
          "name": "stderr",
          "text": [
            "Epoch 8/50  Augmentation : Cutout: 100%|██████████| 40/40 [00:02<00:00, 19.58it/s, Loss=1.51]\n"
          ]
        },
        {
          "output_type": "stream",
          "name": "stdout",
          "text": [
            "Epoch 8, Loss: 1.632424819469452, lr = 0.1\n"
          ]
        },
        {
          "output_type": "stream",
          "name": "stderr",
          "text": [
            "Epoch 9/50  Augmentation : Cutout: 100%|██████████| 40/40 [00:02<00:00, 18.79it/s, Loss=1.61]\n"
          ]
        },
        {
          "output_type": "stream",
          "name": "stdout",
          "text": [
            "Epoch 9, Loss: 1.4995878845453263, lr = 0.1\n"
          ]
        },
        {
          "output_type": "stream",
          "name": "stderr",
          "text": [
            "Epoch 10/50  Augmentation : Cutout: 100%|██████████| 40/40 [00:02<00:00, 17.71it/s, Loss=1.45]\n"
          ]
        },
        {
          "output_type": "stream",
          "name": "stdout",
          "text": [
            "Epoch 10, Loss: 1.4256639808416367, lr = 0.1\n"
          ]
        },
        {
          "output_type": "stream",
          "name": "stderr",
          "text": [
            "Epoch 11/50  Augmentation : Cutout: 100%|██████████| 40/40 [00:02<00:00, 19.25it/s, Loss=1.4]\n"
          ]
        },
        {
          "output_type": "stream",
          "name": "stdout",
          "text": [
            "Epoch 11, Loss: 1.4218390434980392, lr = 0.1\n"
          ]
        },
        {
          "output_type": "stream",
          "name": "stderr",
          "text": [
            "Epoch 12/50  Augmentation : Cutout: 100%|██████████| 40/40 [00:01<00:00, 20.46it/s, Loss=1.64]\n"
          ]
        },
        {
          "output_type": "stream",
          "name": "stdout",
          "text": [
            "Epoch 12, Loss: 1.3366944044828415, lr = 0.1\n"
          ]
        },
        {
          "output_type": "stream",
          "name": "stderr",
          "text": [
            "Epoch 13/50  Augmentation : Cutout: 100%|██████████| 40/40 [00:02<00:00, 18.84it/s, Loss=0.906]\n"
          ]
        },
        {
          "output_type": "stream",
          "name": "stdout",
          "text": [
            "Epoch 13, Loss: 1.2394988685846329, lr = 0.1\n"
          ]
        },
        {
          "output_type": "stream",
          "name": "stderr",
          "text": [
            "Epoch 14/50  Augmentation : Cutout: 100%|██████████| 40/40 [00:02<00:00, 18.90it/s, Loss=1.12]\n"
          ]
        },
        {
          "output_type": "stream",
          "name": "stdout",
          "text": [
            "Epoch 14, Loss: 1.1691936045885085, lr = 0.1\n"
          ]
        },
        {
          "output_type": "stream",
          "name": "stderr",
          "text": [
            "Epoch 15/50  Augmentation : Cutout: 100%|██████████| 40/40 [00:02<00:00, 18.98it/s, Loss=0.901]\n"
          ]
        },
        {
          "output_type": "stream",
          "name": "stdout",
          "text": [
            "Epoch 15, Loss: 1.1440353944897652, lr = 0.1\n"
          ]
        },
        {
          "output_type": "stream",
          "name": "stderr",
          "text": [
            "Epoch 16/50  Augmentation : Cutout: 100%|██████████| 40/40 [00:02<00:00, 18.39it/s, Loss=1.47]\n"
          ]
        },
        {
          "output_type": "stream",
          "name": "stdout",
          "text": [
            "Epoch 16, Loss: 1.1140914678573608, lr = 0.1\n"
          ]
        },
        {
          "output_type": "stream",
          "name": "stderr",
          "text": [
            "Epoch 17/50  Augmentation : Cutout: 100%|██████████| 40/40 [00:02<00:00, 19.06it/s, Loss=1.07]\n"
          ]
        },
        {
          "output_type": "stream",
          "name": "stdout",
          "text": [
            "Epoch 17, Loss: 1.066957378387451, lr = 0.1\n"
          ]
        },
        {
          "output_type": "stream",
          "name": "stderr",
          "text": [
            "Epoch 18/50  Augmentation : Cutout: 100%|██████████| 40/40 [00:02<00:00, 19.23it/s, Loss=0.845]\n"
          ]
        },
        {
          "output_type": "stream",
          "name": "stdout",
          "text": [
            "Epoch 18, Loss: 1.009595637023449, lr = 0.1\n"
          ]
        },
        {
          "output_type": "stream",
          "name": "stderr",
          "text": [
            "Epoch 19/50  Augmentation : Cutout: 100%|██████████| 40/40 [00:02<00:00, 19.49it/s, Loss=0.924]\n"
          ]
        },
        {
          "output_type": "stream",
          "name": "stdout",
          "text": [
            "Epoch 19, Loss: 0.9342557281255722, lr = 0.1\n"
          ]
        },
        {
          "output_type": "stream",
          "name": "stderr",
          "text": [
            "Epoch 20/50  Augmentation : Cutout: 100%|██████████| 40/40 [00:02<00:00, 19.81it/s, Loss=0.912]\n"
          ]
        },
        {
          "output_type": "stream",
          "name": "stdout",
          "text": [
            "Epoch 20, Loss: 0.9225922137498855, lr = 0.020000000000000004\n"
          ]
        },
        {
          "output_type": "stream",
          "name": "stderr",
          "text": [
            "Epoch 21/50  Augmentation : Cutout: 100%|██████████| 40/40 [00:02<00:00, 17.03it/s, Loss=0.647]\n"
          ]
        },
        {
          "output_type": "stream",
          "name": "stdout",
          "text": [
            "Epoch 21, Loss: 0.6878367066383362, lr = 0.020000000000000004\n"
          ]
        },
        {
          "output_type": "stream",
          "name": "stderr",
          "text": [
            "Epoch 22/50  Augmentation : Cutout: 100%|██████████| 40/40 [00:02<00:00, 19.76it/s, Loss=0.707]\n"
          ]
        },
        {
          "output_type": "stream",
          "name": "stdout",
          "text": [
            "Epoch 22, Loss: 0.553786737471819, lr = 0.020000000000000004\n"
          ]
        },
        {
          "output_type": "stream",
          "name": "stderr",
          "text": [
            "Epoch 23/50  Augmentation : Cutout: 100%|██████████| 40/40 [00:02<00:00, 18.88it/s, Loss=0.629]\n"
          ]
        },
        {
          "output_type": "stream",
          "name": "stdout",
          "text": [
            "Epoch 23, Loss: 0.5187574997544289, lr = 0.020000000000000004\n"
          ]
        },
        {
          "output_type": "stream",
          "name": "stderr",
          "text": [
            "Epoch 24/50  Augmentation : Cutout: 100%|██████████| 40/40 [00:01<00:00, 20.05it/s, Loss=0.35]\n"
          ]
        },
        {
          "output_type": "stream",
          "name": "stdout",
          "text": [
            "Epoch 24, Loss: 0.45887140557169914, lr = 0.020000000000000004\n"
          ]
        },
        {
          "output_type": "stream",
          "name": "stderr",
          "text": [
            "Epoch 25/50  Augmentation : Cutout: 100%|██████████| 40/40 [00:02<00:00, 18.94it/s, Loss=0.259]\n"
          ]
        },
        {
          "output_type": "stream",
          "name": "stdout",
          "text": [
            "Epoch 25, Loss: 0.4348807066679001, lr = 0.020000000000000004\n"
          ]
        },
        {
          "output_type": "stream",
          "name": "stderr",
          "text": [
            "Epoch 26/50  Augmentation : Cutout: 100%|██████████| 40/40 [00:02<00:00, 19.40it/s, Loss=0.47]\n"
          ]
        },
        {
          "output_type": "stream",
          "name": "stdout",
          "text": [
            "Epoch 26, Loss: 0.38681754693388937, lr = 0.020000000000000004\n"
          ]
        },
        {
          "output_type": "stream",
          "name": "stderr",
          "text": [
            "Epoch 27/50  Augmentation : Cutout: 100%|██████████| 40/40 [00:02<00:00, 17.70it/s, Loss=0.263]\n"
          ]
        },
        {
          "output_type": "stream",
          "name": "stdout",
          "text": [
            "Epoch 27, Loss: 0.3633553013205528, lr = 0.020000000000000004\n"
          ]
        },
        {
          "output_type": "stream",
          "name": "stderr",
          "text": [
            "Epoch 28/50  Augmentation : Cutout: 100%|██████████| 40/40 [00:02<00:00, 19.46it/s, Loss=0.348]\n"
          ]
        },
        {
          "output_type": "stream",
          "name": "stdout",
          "text": [
            "Epoch 28, Loss: 0.33865118846297265, lr = 0.020000000000000004\n"
          ]
        },
        {
          "output_type": "stream",
          "name": "stderr",
          "text": [
            "Epoch 29/50  Augmentation : Cutout: 100%|██████████| 40/40 [00:02<00:00, 19.18it/s, Loss=0.21]\n"
          ]
        },
        {
          "output_type": "stream",
          "name": "stdout",
          "text": [
            "Epoch 29, Loss: 0.320815996080637, lr = 0.020000000000000004\n"
          ]
        },
        {
          "output_type": "stream",
          "name": "stderr",
          "text": [
            "Epoch 30/50  Augmentation : Cutout: 100%|██████████| 40/40 [00:01<00:00, 20.09it/s, Loss=0.18]\n"
          ]
        },
        {
          "output_type": "stream",
          "name": "stdout",
          "text": [
            "Epoch 30, Loss: 0.2965125869959593, lr = 0.020000000000000004\n"
          ]
        },
        {
          "output_type": "stream",
          "name": "stderr",
          "text": [
            "Epoch 31/50  Augmentation : Cutout: 100%|██████████| 40/40 [00:02<00:00, 19.20it/s, Loss=0.322]\n"
          ]
        },
        {
          "output_type": "stream",
          "name": "stdout",
          "text": [
            "Epoch 31, Loss: 0.278962017595768, lr = 0.020000000000000004\n"
          ]
        },
        {
          "output_type": "stream",
          "name": "stderr",
          "text": [
            "Epoch 32/50  Augmentation : Cutout: 100%|██████████| 40/40 [00:02<00:00, 18.15it/s, Loss=0.166]\n"
          ]
        },
        {
          "output_type": "stream",
          "name": "stdout",
          "text": [
            "Epoch 32, Loss: 0.27814766503870486, lr = 0.020000000000000004\n"
          ]
        },
        {
          "output_type": "stream",
          "name": "stderr",
          "text": [
            "Epoch 33/50  Augmentation : Cutout: 100%|██████████| 40/40 [00:02<00:00, 19.10it/s, Loss=0.411]\n"
          ]
        },
        {
          "output_type": "stream",
          "name": "stdout",
          "text": [
            "Epoch 33, Loss: 0.2727312698960304, lr = 0.020000000000000004\n"
          ]
        },
        {
          "output_type": "stream",
          "name": "stderr",
          "text": [
            "Epoch 34/50  Augmentation : Cutout: 100%|██████████| 40/40 [00:02<00:00, 19.08it/s, Loss=0.204]\n"
          ]
        },
        {
          "output_type": "stream",
          "name": "stdout",
          "text": [
            "Epoch 34, Loss: 0.25859375596046447, lr = 0.020000000000000004\n"
          ]
        },
        {
          "output_type": "stream",
          "name": "stderr",
          "text": [
            "Epoch 35/50  Augmentation : Cutout: 100%|██████████| 40/40 [00:02<00:00, 19.48it/s, Loss=0.262]\n"
          ]
        },
        {
          "output_type": "stream",
          "name": "stdout",
          "text": [
            "Epoch 35, Loss: 0.24265174865722655, lr = 0.020000000000000004\n"
          ]
        },
        {
          "output_type": "stream",
          "name": "stderr",
          "text": [
            "Epoch 36/50  Augmentation : Cutout: 100%|██████████| 40/40 [00:01<00:00, 20.13it/s, Loss=0.116]\n"
          ]
        },
        {
          "output_type": "stream",
          "name": "stdout",
          "text": [
            "Epoch 36, Loss: 0.24365436900407075, lr = 0.020000000000000004\n"
          ]
        },
        {
          "output_type": "stream",
          "name": "stderr",
          "text": [
            "Epoch 37/50  Augmentation : Cutout: 100%|██████████| 40/40 [00:02<00:00, 19.98it/s, Loss=0.0899]\n"
          ]
        },
        {
          "output_type": "stream",
          "name": "stdout",
          "text": [
            "Epoch 37, Loss: 0.23028144855052232, lr = 0.020000000000000004\n"
          ]
        },
        {
          "output_type": "stream",
          "name": "stderr",
          "text": [
            "Epoch 38/50  Augmentation : Cutout: 100%|██████████| 40/40 [00:02<00:00, 16.73it/s, Loss=0.19]\n"
          ]
        },
        {
          "output_type": "stream",
          "name": "stdout",
          "text": [
            "Epoch 38, Loss: 0.2183521594852209, lr = 0.020000000000000004\n"
          ]
        },
        {
          "output_type": "stream",
          "name": "stderr",
          "text": [
            "Epoch 39/50  Augmentation : Cutout: 100%|██████████| 40/40 [00:02<00:00, 18.52it/s, Loss=0.336]\n"
          ]
        },
        {
          "output_type": "stream",
          "name": "stdout",
          "text": [
            "Epoch 39, Loss: 0.22051790207624436, lr = 0.020000000000000004\n"
          ]
        },
        {
          "output_type": "stream",
          "name": "stderr",
          "text": [
            "Epoch 40/50  Augmentation : Cutout: 100%|██████████| 40/40 [00:02<00:00, 19.80it/s, Loss=0.145]\n"
          ]
        },
        {
          "output_type": "stream",
          "name": "stdout",
          "text": [
            "Epoch 40, Loss: 0.25248340927064417, lr = 0.004000000000000001\n"
          ]
        },
        {
          "output_type": "stream",
          "name": "stderr",
          "text": [
            "Epoch 41/50  Augmentation : Cutout: 100%|██████████| 40/40 [00:02<00:00, 19.81it/s, Loss=0.0591]\n"
          ]
        },
        {
          "output_type": "stream",
          "name": "stdout",
          "text": [
            "Epoch 41, Loss: 0.18228524727746845, lr = 0.004000000000000001\n"
          ]
        },
        {
          "output_type": "stream",
          "name": "stderr",
          "text": [
            "Epoch 42/50  Augmentation : Cutout: 100%|██████████| 40/40 [00:02<00:00, 19.24it/s, Loss=0.139]\n"
          ]
        },
        {
          "output_type": "stream",
          "name": "stdout",
          "text": [
            "Epoch 42, Loss: 0.16651391796767712, lr = 0.004000000000000001\n"
          ]
        },
        {
          "output_type": "stream",
          "name": "stderr",
          "text": [
            "Epoch 43/50  Augmentation : Cutout: 100%|██████████| 40/40 [00:02<00:00, 18.73it/s, Loss=0.111]\n"
          ]
        },
        {
          "output_type": "stream",
          "name": "stdout",
          "text": [
            "Epoch 43, Loss: 0.16174914520233868, lr = 0.004000000000000001\n"
          ]
        },
        {
          "output_type": "stream",
          "name": "stderr",
          "text": [
            "Epoch 44/50  Augmentation : Cutout: 100%|██████████| 40/40 [00:02<00:00, 18.37it/s, Loss=0.3]\n"
          ]
        },
        {
          "output_type": "stream",
          "name": "stdout",
          "text": [
            "Epoch 44, Loss: 0.16097571849822997, lr = 0.004000000000000001\n"
          ]
        },
        {
          "output_type": "stream",
          "name": "stderr",
          "text": [
            "Epoch 45/50  Augmentation : Cutout: 100%|██████████| 40/40 [00:02<00:00, 19.76it/s, Loss=0.334]\n"
          ]
        },
        {
          "output_type": "stream",
          "name": "stdout",
          "text": [
            "Epoch 45, Loss: 0.16169998198747634, lr = 0.004000000000000001\n"
          ]
        },
        {
          "output_type": "stream",
          "name": "stderr",
          "text": [
            "Epoch 46/50  Augmentation : Cutout: 100%|██████████| 40/40 [00:02<00:00, 19.26it/s, Loss=0.308]\n"
          ]
        },
        {
          "output_type": "stream",
          "name": "stdout",
          "text": [
            "Epoch 46, Loss: 0.1578232642263174, lr = 0.004000000000000001\n"
          ]
        },
        {
          "output_type": "stream",
          "name": "stderr",
          "text": [
            "Epoch 47/50  Augmentation : Cutout: 100%|██████████| 40/40 [00:02<00:00, 19.14it/s, Loss=0.0541]\n"
          ]
        },
        {
          "output_type": "stream",
          "name": "stdout",
          "text": [
            "Epoch 47, Loss: 0.14894281048327684, lr = 0.004000000000000001\n"
          ]
        },
        {
          "output_type": "stream",
          "name": "stderr",
          "text": [
            "Epoch 48/50  Augmentation : Cutout: 100%|██████████| 40/40 [00:02<00:00, 19.06it/s, Loss=0.0268]\n"
          ]
        },
        {
          "output_type": "stream",
          "name": "stdout",
          "text": [
            "Epoch 48, Loss: 0.1373737128917128, lr = 0.004000000000000001\n"
          ]
        },
        {
          "output_type": "stream",
          "name": "stderr",
          "text": [
            "Epoch 49/50  Augmentation : Cutout: 100%|██████████| 40/40 [00:02<00:00, 17.02it/s, Loss=0.126]\n"
          ]
        },
        {
          "output_type": "stream",
          "name": "stdout",
          "text": [
            "Epoch 49, Loss: 0.14637452252209188, lr = 0.004000000000000001\n"
          ]
        },
        {
          "output_type": "stream",
          "name": "stderr",
          "text": [
            "Epoch 50/50  Augmentation : Cutout: 100%|██████████| 40/40 [00:02<00:00, 19.68it/s, Loss=0.0802]"
          ]
        },
        {
          "output_type": "stream",
          "name": "stdout",
          "text": [
            "Epoch 50, Loss: 0.143274412676692, lr = 0.004000000000000001\n"
          ]
        },
        {
          "output_type": "stream",
          "name": "stderr",
          "text": [
            "\n"
          ]
        },
        {
          "output_type": "stream",
          "name": "stdout",
          "text": [
            "Test Loss : 1.9568697273731233, Test Accuracy : 61.51%\n",
            "[Seed : 3367 Experiment Start]\n",
            "\n"
          ]
        },
        {
          "output_type": "stream",
          "name": "stderr",
          "text": [
            "Epoch 1/50  Augmentation : All: 100%|██████████| 40/40 [00:02<00:00, 14.66it/s, Loss=2.3]\n"
          ]
        },
        {
          "output_type": "stream",
          "name": "stdout",
          "text": [
            "Epoch 1, Loss: 2.302565634250641, lr = 0.1\n"
          ]
        },
        {
          "output_type": "stream",
          "name": "stderr",
          "text": [
            "Epoch 2/50  Augmentation : All: 100%|██████████| 40/40 [00:02<00:00, 14.11it/s, Loss=2.1]\n"
          ]
        },
        {
          "output_type": "stream",
          "name": "stdout",
          "text": [
            "Epoch 2, Loss: 2.236545646190643, lr = 0.1\n"
          ]
        },
        {
          "output_type": "stream",
          "name": "stderr",
          "text": [
            "Epoch 3/50  Augmentation : All: 100%|██████████| 40/40 [00:02<00:00, 14.31it/s, Loss=2]\n"
          ]
        },
        {
          "output_type": "stream",
          "name": "stdout",
          "text": [
            "Epoch 3, Loss: 2.0454380571842194, lr = 0.1\n"
          ]
        },
        {
          "output_type": "stream",
          "name": "stderr",
          "text": [
            "Epoch 4/50  Augmentation : All: 100%|██████████| 40/40 [00:02<00:00, 14.63it/s, Loss=1.9]\n"
          ]
        },
        {
          "output_type": "stream",
          "name": "stdout",
          "text": [
            "Epoch 4, Loss: 2.0439656645059587, lr = 0.1\n"
          ]
        },
        {
          "output_type": "stream",
          "name": "stderr",
          "text": [
            "Epoch 5/50  Augmentation : All: 100%|██████████| 40/40 [00:02<00:00, 14.70it/s, Loss=1.68]\n"
          ]
        },
        {
          "output_type": "stream",
          "name": "stdout",
          "text": [
            "Epoch 5, Loss: 1.9140261560678482, lr = 0.1\n"
          ]
        },
        {
          "output_type": "stream",
          "name": "stderr",
          "text": [
            "Epoch 6/50  Augmentation : All: 100%|██████████| 40/40 [00:02<00:00, 14.54it/s, Loss=1.71]\n"
          ]
        },
        {
          "output_type": "stream",
          "name": "stdout",
          "text": [
            "Epoch 6, Loss: 1.8451923817396163, lr = 0.1\n"
          ]
        },
        {
          "output_type": "stream",
          "name": "stderr",
          "text": [
            "Epoch 7/50  Augmentation : All: 100%|██████████| 40/40 [00:02<00:00, 14.06it/s, Loss=1.83]\n"
          ]
        },
        {
          "output_type": "stream",
          "name": "stdout",
          "text": [
            "Epoch 7, Loss: 1.783998394012451, lr = 0.1\n"
          ]
        },
        {
          "output_type": "stream",
          "name": "stderr",
          "text": [
            "Epoch 8/50  Augmentation : All: 100%|██████████| 40/40 [00:02<00:00, 14.58it/s, Loss=1.82]\n"
          ]
        },
        {
          "output_type": "stream",
          "name": "stdout",
          "text": [
            "Epoch 8, Loss: 1.7548074215650558, lr = 0.1\n"
          ]
        },
        {
          "output_type": "stream",
          "name": "stderr",
          "text": [
            "Epoch 9/50  Augmentation : All: 100%|██████████| 40/40 [00:02<00:00, 14.58it/s, Loss=2.03]\n"
          ]
        },
        {
          "output_type": "stream",
          "name": "stdout",
          "text": [
            "Epoch 9, Loss: 1.6972802519798278, lr = 0.1\n"
          ]
        },
        {
          "output_type": "stream",
          "name": "stderr",
          "text": [
            "Epoch 10/50  Augmentation : All: 100%|██████████| 40/40 [00:02<00:00, 14.59it/s, Loss=1.56]\n"
          ]
        },
        {
          "output_type": "stream",
          "name": "stdout",
          "text": [
            "Epoch 10, Loss: 1.66044040620327, lr = 0.1\n"
          ]
        },
        {
          "output_type": "stream",
          "name": "stderr",
          "text": [
            "Epoch 11/50  Augmentation : All: 100%|██████████| 40/40 [00:03<00:00, 13.19it/s, Loss=1.56]\n"
          ]
        },
        {
          "output_type": "stream",
          "name": "stdout",
          "text": [
            "Epoch 11, Loss: 1.5911910831928253, lr = 0.1\n"
          ]
        },
        {
          "output_type": "stream",
          "name": "stderr",
          "text": [
            "Epoch 12/50  Augmentation : All: 100%|██████████| 40/40 [00:02<00:00, 15.06it/s, Loss=1.88]\n"
          ]
        },
        {
          "output_type": "stream",
          "name": "stdout",
          "text": [
            "Epoch 12, Loss: 1.5461646258831023, lr = 0.1\n"
          ]
        },
        {
          "output_type": "stream",
          "name": "stderr",
          "text": [
            "Epoch 13/50  Augmentation : All: 100%|██████████| 40/40 [00:02<00:00, 14.70it/s, Loss=1.35]\n"
          ]
        },
        {
          "output_type": "stream",
          "name": "stdout",
          "text": [
            "Epoch 13, Loss: 1.5023414671421051, lr = 0.1\n"
          ]
        },
        {
          "output_type": "stream",
          "name": "stderr",
          "text": [
            "Epoch 14/50  Augmentation : All: 100%|██████████| 40/40 [00:02<00:00, 14.77it/s, Loss=1.42]\n"
          ]
        },
        {
          "output_type": "stream",
          "name": "stdout",
          "text": [
            "Epoch 14, Loss: 1.465257653594017, lr = 0.1\n"
          ]
        },
        {
          "output_type": "stream",
          "name": "stderr",
          "text": [
            "Epoch 15/50  Augmentation : All: 100%|██████████| 40/40 [00:03<00:00, 12.96it/s, Loss=1.32]\n"
          ]
        },
        {
          "output_type": "stream",
          "name": "stdout",
          "text": [
            "Epoch 15, Loss: 1.4655774235725403, lr = 0.1\n"
          ]
        },
        {
          "output_type": "stream",
          "name": "stderr",
          "text": [
            "Epoch 16/50  Augmentation : All: 100%|██████████| 40/40 [00:02<00:00, 14.46it/s, Loss=1.65]\n"
          ]
        },
        {
          "output_type": "stream",
          "name": "stdout",
          "text": [
            "Epoch 16, Loss: 1.4183244585990906, lr = 0.1\n"
          ]
        },
        {
          "output_type": "stream",
          "name": "stderr",
          "text": [
            "Epoch 17/50  Augmentation : All: 100%|██████████| 40/40 [00:02<00:00, 14.68it/s, Loss=1.2]\n"
          ]
        },
        {
          "output_type": "stream",
          "name": "stdout",
          "text": [
            "Epoch 17, Loss: 1.4189560264348984, lr = 0.1\n"
          ]
        },
        {
          "output_type": "stream",
          "name": "stderr",
          "text": [
            "Epoch 18/50  Augmentation : All: 100%|██████████| 40/40 [00:02<00:00, 14.96it/s, Loss=1.19]\n"
          ]
        },
        {
          "output_type": "stream",
          "name": "stdout",
          "text": [
            "Epoch 18, Loss: 1.3693726152181624, lr = 0.1\n"
          ]
        },
        {
          "output_type": "stream",
          "name": "stderr",
          "text": [
            "Epoch 19/50  Augmentation : All: 100%|██████████| 40/40 [00:03<00:00, 12.94it/s, Loss=1.29]\n"
          ]
        },
        {
          "output_type": "stream",
          "name": "stdout",
          "text": [
            "Epoch 19, Loss: 1.3415894746780395, lr = 0.1\n"
          ]
        },
        {
          "output_type": "stream",
          "name": "stderr",
          "text": [
            "Epoch 20/50  Augmentation : All: 100%|██████████| 40/40 [00:02<00:00, 14.77it/s, Loss=1.43]\n"
          ]
        },
        {
          "output_type": "stream",
          "name": "stdout",
          "text": [
            "Epoch 20, Loss: 1.415271270275116, lr = 0.020000000000000004\n"
          ]
        },
        {
          "output_type": "stream",
          "name": "stderr",
          "text": [
            "Epoch 21/50  Augmentation : All: 100%|██████████| 40/40 [00:02<00:00, 14.93it/s, Loss=1.43]\n"
          ]
        },
        {
          "output_type": "stream",
          "name": "stdout",
          "text": [
            "Epoch 21, Loss: 1.2398637682199478, lr = 0.020000000000000004\n"
          ]
        },
        {
          "output_type": "stream",
          "name": "stderr",
          "text": [
            "Epoch 22/50  Augmentation : All: 100%|██████████| 40/40 [00:02<00:00, 14.73it/s, Loss=1.07]\n"
          ]
        },
        {
          "output_type": "stream",
          "name": "stdout",
          "text": [
            "Epoch 22, Loss: 1.1726477414369583, lr = 0.020000000000000004\n"
          ]
        },
        {
          "output_type": "stream",
          "name": "stderr",
          "text": [
            "Epoch 23/50  Augmentation : All: 100%|██████████| 40/40 [00:03<00:00, 13.08it/s, Loss=1.28]\n"
          ]
        },
        {
          "output_type": "stream",
          "name": "stdout",
          "text": [
            "Epoch 23, Loss: 1.1643056392669677, lr = 0.020000000000000004\n"
          ]
        },
        {
          "output_type": "stream",
          "name": "stderr",
          "text": [
            "Epoch 24/50  Augmentation : All: 100%|██████████| 40/40 [00:02<00:00, 14.74it/s, Loss=1.23]\n"
          ]
        },
        {
          "output_type": "stream",
          "name": "stdout",
          "text": [
            "Epoch 24, Loss: 1.153077208995819, lr = 0.020000000000000004\n"
          ]
        },
        {
          "output_type": "stream",
          "name": "stderr",
          "text": [
            "Epoch 25/50  Augmentation : All: 100%|██████████| 40/40 [00:02<00:00, 14.27it/s, Loss=1.45]\n"
          ]
        },
        {
          "output_type": "stream",
          "name": "stdout",
          "text": [
            "Epoch 25, Loss: 1.1245191812515258, lr = 0.020000000000000004\n"
          ]
        },
        {
          "output_type": "stream",
          "name": "stderr",
          "text": [
            "Epoch 26/50  Augmentation : All: 100%|██████████| 40/40 [00:02<00:00, 15.10it/s, Loss=1.04]\n"
          ]
        },
        {
          "output_type": "stream",
          "name": "stdout",
          "text": [
            "Epoch 26, Loss: 1.1285188853740693, lr = 0.020000000000000004\n"
          ]
        },
        {
          "output_type": "stream",
          "name": "stderr",
          "text": [
            "Epoch 27/50  Augmentation : All: 100%|██████████| 40/40 [00:02<00:00, 14.05it/s, Loss=1.01]\n"
          ]
        },
        {
          "output_type": "stream",
          "name": "stdout",
          "text": [
            "Epoch 27, Loss: 1.0846267119050026, lr = 0.020000000000000004\n"
          ]
        },
        {
          "output_type": "stream",
          "name": "stderr",
          "text": [
            "Epoch 28/50  Augmentation : All: 100%|██████████| 40/40 [00:02<00:00, 14.01it/s, Loss=1.25]\n"
          ]
        },
        {
          "output_type": "stream",
          "name": "stdout",
          "text": [
            "Epoch 28, Loss: 1.086766815185547, lr = 0.020000000000000004\n"
          ]
        },
        {
          "output_type": "stream",
          "name": "stderr",
          "text": [
            "Epoch 29/50  Augmentation : All: 100%|██████████| 40/40 [00:02<00:00, 14.47it/s, Loss=1.22]\n"
          ]
        },
        {
          "output_type": "stream",
          "name": "stdout",
          "text": [
            "Epoch 29, Loss: 1.0762309670448302, lr = 0.020000000000000004\n"
          ]
        },
        {
          "output_type": "stream",
          "name": "stderr",
          "text": [
            "Epoch 30/50  Augmentation : All: 100%|██████████| 40/40 [00:02<00:00, 14.29it/s, Loss=0.929]\n"
          ]
        },
        {
          "output_type": "stream",
          "name": "stdout",
          "text": [
            "Epoch 30, Loss: 1.057011154294014, lr = 0.020000000000000004\n"
          ]
        },
        {
          "output_type": "stream",
          "name": "stderr",
          "text": [
            "Epoch 31/50  Augmentation : All: 100%|██████████| 40/40 [00:02<00:00, 14.36it/s, Loss=0.991]\n"
          ]
        },
        {
          "output_type": "stream",
          "name": "stdout",
          "text": [
            "Epoch 31, Loss: 1.0412149533629418, lr = 0.020000000000000004\n"
          ]
        },
        {
          "output_type": "stream",
          "name": "stderr",
          "text": [
            "Epoch 32/50  Augmentation : All: 100%|██████████| 40/40 [00:02<00:00, 14.16it/s, Loss=0.885]\n"
          ]
        },
        {
          "output_type": "stream",
          "name": "stdout",
          "text": [
            "Epoch 32, Loss: 1.0399767130613327, lr = 0.020000000000000004\n"
          ]
        },
        {
          "output_type": "stream",
          "name": "stderr",
          "text": [
            "Epoch 33/50  Augmentation : All: 100%|██████████| 40/40 [00:02<00:00, 14.88it/s, Loss=0.888]\n"
          ]
        },
        {
          "output_type": "stream",
          "name": "stdout",
          "text": [
            "Epoch 33, Loss: 1.0236634194850922, lr = 0.020000000000000004\n"
          ]
        },
        {
          "output_type": "stream",
          "name": "stderr",
          "text": [
            "Epoch 34/50  Augmentation : All: 100%|██████████| 40/40 [00:02<00:00, 14.94it/s, Loss=0.952]\n"
          ]
        },
        {
          "output_type": "stream",
          "name": "stdout",
          "text": [
            "Epoch 34, Loss: 1.0079575151205062, lr = 0.020000000000000004\n"
          ]
        },
        {
          "output_type": "stream",
          "name": "stderr",
          "text": [
            "Epoch 35/50  Augmentation : All: 100%|██████████| 40/40 [00:02<00:00, 14.77it/s, Loss=1.21]\n"
          ]
        },
        {
          "output_type": "stream",
          "name": "stdout",
          "text": [
            "Epoch 35, Loss: 1.0172990456223487, lr = 0.020000000000000004\n"
          ]
        },
        {
          "output_type": "stream",
          "name": "stderr",
          "text": [
            "Epoch 36/50  Augmentation : All: 100%|██████████| 40/40 [00:02<00:00, 13.69it/s, Loss=0.96]\n"
          ]
        },
        {
          "output_type": "stream",
          "name": "stdout",
          "text": [
            "Epoch 36, Loss: 0.998896424472332, lr = 0.020000000000000004\n"
          ]
        },
        {
          "output_type": "stream",
          "name": "stderr",
          "text": [
            "Epoch 37/50  Augmentation : All: 100%|██████████| 40/40 [00:02<00:00, 14.76it/s, Loss=1.01]\n"
          ]
        },
        {
          "output_type": "stream",
          "name": "stdout",
          "text": [
            "Epoch 37, Loss: 0.9776824906468391, lr = 0.020000000000000004\n"
          ]
        },
        {
          "output_type": "stream",
          "name": "stderr",
          "text": [
            "Epoch 38/50  Augmentation : All: 100%|██████████| 40/40 [00:02<00:00, 14.87it/s, Loss=1.02]\n"
          ]
        },
        {
          "output_type": "stream",
          "name": "stdout",
          "text": [
            "Epoch 38, Loss: 0.9715441554784775, lr = 0.020000000000000004\n"
          ]
        },
        {
          "output_type": "stream",
          "name": "stderr",
          "text": [
            "Epoch 39/50  Augmentation : All: 100%|██████████| 40/40 [00:02<00:00, 14.75it/s, Loss=1.2]\n"
          ]
        },
        {
          "output_type": "stream",
          "name": "stdout",
          "text": [
            "Epoch 39, Loss: 0.9692442238330841, lr = 0.020000000000000004\n"
          ]
        },
        {
          "output_type": "stream",
          "name": "stderr",
          "text": [
            "Epoch 40/50  Augmentation : All: 100%|██████████| 40/40 [00:03<00:00, 12.64it/s, Loss=0.811]\n"
          ]
        },
        {
          "output_type": "stream",
          "name": "stdout",
          "text": [
            "Epoch 40, Loss: 0.9715853005647659, lr = 0.004000000000000001\n"
          ]
        },
        {
          "output_type": "stream",
          "name": "stderr",
          "text": [
            "Epoch 41/50  Augmentation : All: 100%|██████████| 40/40 [00:02<00:00, 14.70it/s, Loss=0.884]\n"
          ]
        },
        {
          "output_type": "stream",
          "name": "stdout",
          "text": [
            "Epoch 41, Loss: 0.9027873501181602, lr = 0.004000000000000001\n"
          ]
        },
        {
          "output_type": "stream",
          "name": "stderr",
          "text": [
            "Epoch 42/50  Augmentation : All: 100%|██████████| 40/40 [00:02<00:00, 15.10it/s, Loss=0.734]\n"
          ]
        },
        {
          "output_type": "stream",
          "name": "stdout",
          "text": [
            "Epoch 42, Loss: 0.8832305788993835, lr = 0.004000000000000001\n"
          ]
        },
        {
          "output_type": "stream",
          "name": "stderr",
          "text": [
            "Epoch 43/50  Augmentation : All: 100%|██████████| 40/40 [00:02<00:00, 14.12it/s, Loss=0.976]\n"
          ]
        },
        {
          "output_type": "stream",
          "name": "stdout",
          "text": [
            "Epoch 43, Loss: 0.882676263153553, lr = 0.004000000000000001\n"
          ]
        },
        {
          "output_type": "stream",
          "name": "stderr",
          "text": [
            "Epoch 44/50  Augmentation : All: 100%|██████████| 40/40 [00:02<00:00, 13.37it/s, Loss=0.868]\n"
          ]
        },
        {
          "output_type": "stream",
          "name": "stdout",
          "text": [
            "Epoch 44, Loss: 0.8705376029014588, lr = 0.004000000000000001\n"
          ]
        },
        {
          "output_type": "stream",
          "name": "stderr",
          "text": [
            "Epoch 45/50  Augmentation : All: 100%|██████████| 40/40 [00:02<00:00, 14.59it/s, Loss=0.644]\n"
          ]
        },
        {
          "output_type": "stream",
          "name": "stdout",
          "text": [
            "Epoch 45, Loss: 0.865827102959156, lr = 0.004000000000000001\n"
          ]
        },
        {
          "output_type": "stream",
          "name": "stderr",
          "text": [
            "Epoch 46/50  Augmentation : All: 100%|██████████| 40/40 [00:02<00:00, 14.61it/s, Loss=0.959]\n"
          ]
        },
        {
          "output_type": "stream",
          "name": "stdout",
          "text": [
            "Epoch 46, Loss: 0.8654016375541687, lr = 0.004000000000000001\n"
          ]
        },
        {
          "output_type": "stream",
          "name": "stderr",
          "text": [
            "Epoch 47/50  Augmentation : All: 100%|██████████| 40/40 [00:02<00:00, 14.41it/s, Loss=0.67]\n"
          ]
        },
        {
          "output_type": "stream",
          "name": "stdout",
          "text": [
            "Epoch 47, Loss: 0.8494547888636589, lr = 0.004000000000000001\n"
          ]
        },
        {
          "output_type": "stream",
          "name": "stderr",
          "text": [
            "Epoch 48/50  Augmentation : All: 100%|██████████| 40/40 [00:02<00:00, 13.62it/s, Loss=0.771]\n"
          ]
        },
        {
          "output_type": "stream",
          "name": "stdout",
          "text": [
            "Epoch 48, Loss: 0.8473870635032654, lr = 0.004000000000000001\n"
          ]
        },
        {
          "output_type": "stream",
          "name": "stderr",
          "text": [
            "Epoch 49/50  Augmentation : All: 100%|██████████| 40/40 [00:02<00:00, 14.37it/s, Loss=0.649]\n"
          ]
        },
        {
          "output_type": "stream",
          "name": "stdout",
          "text": [
            "Epoch 49, Loss: 0.8345198392868042, lr = 0.004000000000000001\n"
          ]
        },
        {
          "output_type": "stream",
          "name": "stderr",
          "text": [
            "Epoch 50/50  Augmentation : All: 100%|██████████| 40/40 [00:02<00:00, 15.10it/s, Loss=0.516]"
          ]
        },
        {
          "output_type": "stream",
          "name": "stdout",
          "text": [
            "Epoch 50, Loss: 0.8310968160629273, lr = 0.004000000000000001\n"
          ]
        },
        {
          "output_type": "stream",
          "name": "stderr",
          "text": [
            "\n"
          ]
        },
        {
          "output_type": "stream",
          "name": "stdout",
          "text": [
            "Test Loss : 1.015352687239647, Test Accuracy : 66.6%\n",
            "[Seed : 4710 Experiment Start]\n",
            "\n"
          ]
        },
        {
          "output_type": "stream",
          "name": "stderr",
          "text": [
            "Epoch 1/50  Augmentation : None: 100%|██████████| 40/40 [00:01<00:00, 22.85it/s, Loss=2.3]\n"
          ]
        },
        {
          "output_type": "stream",
          "name": "stdout",
          "text": [
            "Epoch 1, Loss: 2.3023546516895292, lr = 0.1\n"
          ]
        },
        {
          "output_type": "stream",
          "name": "stderr",
          "text": [
            "Epoch 2/50  Augmentation : None: 100%|██████████| 40/40 [00:01<00:00, 21.83it/s, Loss=1.98]\n"
          ]
        },
        {
          "output_type": "stream",
          "name": "stdout",
          "text": [
            "Epoch 2, Loss: 2.2102760434150697, lr = 0.1\n"
          ]
        },
        {
          "output_type": "stream",
          "name": "stderr",
          "text": [
            "Epoch 3/50  Augmentation : None: 100%|██████████| 40/40 [00:01<00:00, 22.61it/s, Loss=1.91]\n"
          ]
        },
        {
          "output_type": "stream",
          "name": "stdout",
          "text": [
            "Epoch 3, Loss: 1.9941765666007996, lr = 0.1\n"
          ]
        },
        {
          "output_type": "stream",
          "name": "stderr",
          "text": [
            "Epoch 4/50  Augmentation : None: 100%|██████████| 40/40 [00:01<00:00, 23.70it/s, Loss=1.67]\n"
          ]
        },
        {
          "output_type": "stream",
          "name": "stdout",
          "text": [
            "Epoch 4, Loss: 1.8411994338035584, lr = 0.1\n"
          ]
        },
        {
          "output_type": "stream",
          "name": "stderr",
          "text": [
            "Epoch 5/50  Augmentation : None: 100%|██████████| 40/40 [00:01<00:00, 23.60it/s, Loss=1.94]\n"
          ]
        },
        {
          "output_type": "stream",
          "name": "stdout",
          "text": [
            "Epoch 5, Loss: 1.832758966088295, lr = 0.1\n"
          ]
        },
        {
          "output_type": "stream",
          "name": "stderr",
          "text": [
            "Epoch 6/50  Augmentation : None: 100%|██████████| 40/40 [00:01<00:00, 23.63it/s, Loss=1.12]\n"
          ]
        },
        {
          "output_type": "stream",
          "name": "stdout",
          "text": [
            "Epoch 6, Loss: 1.6313254803419113, lr = 0.1\n"
          ]
        },
        {
          "output_type": "stream",
          "name": "stderr",
          "text": [
            "Epoch 7/50  Augmentation : None: 100%|██████████| 40/40 [00:01<00:00, 23.84it/s, Loss=1.47]\n"
          ]
        },
        {
          "output_type": "stream",
          "name": "stdout",
          "text": [
            "Epoch 7, Loss: 1.540296310186386, lr = 0.1\n"
          ]
        },
        {
          "output_type": "stream",
          "name": "stderr",
          "text": [
            "Epoch 8/50  Augmentation : None: 100%|██████████| 40/40 [00:01<00:00, 23.24it/s, Loss=1.39]\n"
          ]
        },
        {
          "output_type": "stream",
          "name": "stdout",
          "text": [
            "Epoch 8, Loss: 1.447208696603775, lr = 0.1\n"
          ]
        },
        {
          "output_type": "stream",
          "name": "stderr",
          "text": [
            "Epoch 9/50  Augmentation : None: 100%|██████████| 40/40 [00:01<00:00, 21.77it/s, Loss=1.33]\n"
          ]
        },
        {
          "output_type": "stream",
          "name": "stdout",
          "text": [
            "Epoch 9, Loss: 1.3547037661075592, lr = 0.1\n"
          ]
        },
        {
          "output_type": "stream",
          "name": "stderr",
          "text": [
            "Epoch 10/50  Augmentation : None: 100%|██████████| 40/40 [00:01<00:00, 23.11it/s, Loss=1.56]\n"
          ]
        },
        {
          "output_type": "stream",
          "name": "stdout",
          "text": [
            "Epoch 10, Loss: 1.3222635596990586, lr = 0.1\n"
          ]
        },
        {
          "output_type": "stream",
          "name": "stderr",
          "text": [
            "Epoch 11/50  Augmentation : None: 100%|██████████| 40/40 [00:01<00:00, 23.02it/s, Loss=0.923]\n"
          ]
        },
        {
          "output_type": "stream",
          "name": "stdout",
          "text": [
            "Epoch 11, Loss: 1.210433016717434, lr = 0.1\n"
          ]
        },
        {
          "output_type": "stream",
          "name": "stderr",
          "text": [
            "Epoch 12/50  Augmentation : None: 100%|██████████| 40/40 [00:01<00:00, 23.78it/s, Loss=1.11]\n"
          ]
        },
        {
          "output_type": "stream",
          "name": "stdout",
          "text": [
            "Epoch 12, Loss: 1.1183231353759766, lr = 0.1\n"
          ]
        },
        {
          "output_type": "stream",
          "name": "stderr",
          "text": [
            "Epoch 13/50  Augmentation : None: 100%|██████████| 40/40 [00:01<00:00, 23.22it/s, Loss=1.35]\n"
          ]
        },
        {
          "output_type": "stream",
          "name": "stdout",
          "text": [
            "Epoch 13, Loss: 1.0756687432527543, lr = 0.1\n"
          ]
        },
        {
          "output_type": "stream",
          "name": "stderr",
          "text": [
            "Epoch 14/50  Augmentation : None: 100%|██████████| 40/40 [00:01<00:00, 23.51it/s, Loss=1.56]\n"
          ]
        },
        {
          "output_type": "stream",
          "name": "stdout",
          "text": [
            "Epoch 14, Loss: 1.0022568732500077, lr = 0.1\n"
          ]
        },
        {
          "output_type": "stream",
          "name": "stderr",
          "text": [
            "Epoch 15/50  Augmentation : None: 100%|██████████| 40/40 [00:01<00:00, 22.06it/s, Loss=0.794]\n"
          ]
        },
        {
          "output_type": "stream",
          "name": "stdout",
          "text": [
            "Epoch 15, Loss: 0.8881648302078247, lr = 0.1\n"
          ]
        },
        {
          "output_type": "stream",
          "name": "stderr",
          "text": [
            "Epoch 16/50  Augmentation : None: 100%|██████████| 40/40 [00:01<00:00, 22.00it/s, Loss=0.909]\n"
          ]
        },
        {
          "output_type": "stream",
          "name": "stdout",
          "text": [
            "Epoch 16, Loss: 0.8303099930286407, lr = 0.1\n"
          ]
        },
        {
          "output_type": "stream",
          "name": "stderr",
          "text": [
            "Epoch 17/50  Augmentation : None: 100%|██████████| 40/40 [00:01<00:00, 23.10it/s, Loss=1.11]\n"
          ]
        },
        {
          "output_type": "stream",
          "name": "stdout",
          "text": [
            "Epoch 17, Loss: 0.8152293294668198, lr = 0.1\n"
          ]
        },
        {
          "output_type": "stream",
          "name": "stderr",
          "text": [
            "Epoch 18/50  Augmentation : None: 100%|██████████| 40/40 [00:01<00:00, 22.98it/s, Loss=0.809]\n"
          ]
        },
        {
          "output_type": "stream",
          "name": "stdout",
          "text": [
            "Epoch 18, Loss: 0.7291665583848953, lr = 0.1\n"
          ]
        },
        {
          "output_type": "stream",
          "name": "stderr",
          "text": [
            "Epoch 19/50  Augmentation : None: 100%|██████████| 40/40 [00:01<00:00, 24.06it/s, Loss=1.07]\n"
          ]
        },
        {
          "output_type": "stream",
          "name": "stdout",
          "text": [
            "Epoch 19, Loss: 0.6993180543184281, lr = 0.1\n"
          ]
        },
        {
          "output_type": "stream",
          "name": "stderr",
          "text": [
            "Epoch 20/50  Augmentation : None: 100%|██████████| 40/40 [00:01<00:00, 22.77it/s, Loss=0.502]\n"
          ]
        },
        {
          "output_type": "stream",
          "name": "stdout",
          "text": [
            "Epoch 20, Loss: 0.7644696041941643, lr = 0.020000000000000004\n"
          ]
        },
        {
          "output_type": "stream",
          "name": "stderr",
          "text": [
            "Epoch 21/50  Augmentation : None: 100%|██████████| 40/40 [00:01<00:00, 22.69it/s, Loss=0.224]\n"
          ]
        },
        {
          "output_type": "stream",
          "name": "stdout",
          "text": [
            "Epoch 21, Loss: 0.38608128353953364, lr = 0.020000000000000004\n"
          ]
        },
        {
          "output_type": "stream",
          "name": "stderr",
          "text": [
            "Epoch 22/50  Augmentation : None: 100%|██████████| 40/40 [00:01<00:00, 20.81it/s, Loss=0.091]\n"
          ]
        },
        {
          "output_type": "stream",
          "name": "stdout",
          "text": [
            "Epoch 22, Loss: 0.21838468536734582, lr = 0.020000000000000004\n"
          ]
        },
        {
          "output_type": "stream",
          "name": "stderr",
          "text": [
            "Epoch 23/50  Augmentation : None: 100%|██████████| 40/40 [00:01<00:00, 22.03it/s, Loss=0.113]\n"
          ]
        },
        {
          "output_type": "stream",
          "name": "stdout",
          "text": [
            "Epoch 23, Loss: 0.13965738117694854, lr = 0.020000000000000004\n"
          ]
        },
        {
          "output_type": "stream",
          "name": "stderr",
          "text": [
            "Epoch 24/50  Augmentation : None: 100%|██████████| 40/40 [00:01<00:00, 24.65it/s, Loss=0.0383]\n"
          ]
        },
        {
          "output_type": "stream",
          "name": "stdout",
          "text": [
            "Epoch 24, Loss: 0.09463881105184554, lr = 0.020000000000000004\n"
          ]
        },
        {
          "output_type": "stream",
          "name": "stderr",
          "text": [
            "Epoch 25/50  Augmentation : None: 100%|██████████| 40/40 [00:01<00:00, 22.84it/s, Loss=0.196]\n"
          ]
        },
        {
          "output_type": "stream",
          "name": "stdout",
          "text": [
            "Epoch 25, Loss: 0.06063368637114763, lr = 0.020000000000000004\n"
          ]
        },
        {
          "output_type": "stream",
          "name": "stderr",
          "text": [
            "Epoch 26/50  Augmentation : None: 100%|██████████| 40/40 [00:01<00:00, 23.40it/s, Loss=0.0198]\n"
          ]
        },
        {
          "output_type": "stream",
          "name": "stdout",
          "text": [
            "Epoch 26, Loss: 0.03804704644717276, lr = 0.020000000000000004\n"
          ]
        },
        {
          "output_type": "stream",
          "name": "stderr",
          "text": [
            "Epoch 27/50  Augmentation : None: 100%|██████████| 40/40 [00:01<00:00, 23.26it/s, Loss=0.00718]\n"
          ]
        },
        {
          "output_type": "stream",
          "name": "stdout",
          "text": [
            "Epoch 27, Loss: 0.02377685784595087, lr = 0.020000000000000004\n"
          ]
        },
        {
          "output_type": "stream",
          "name": "stderr",
          "text": [
            "Epoch 28/50  Augmentation : None: 100%|██████████| 40/40 [00:01<00:00, 20.55it/s, Loss=0.00309]\n"
          ]
        },
        {
          "output_type": "stream",
          "name": "stdout",
          "text": [
            "Epoch 28, Loss: 0.01591381913749501, lr = 0.020000000000000004\n"
          ]
        },
        {
          "output_type": "stream",
          "name": "stderr",
          "text": [
            "Epoch 29/50  Augmentation : None: 100%|██████████| 40/40 [00:02<00:00, 19.43it/s, Loss=0.0209]\n"
          ]
        },
        {
          "output_type": "stream",
          "name": "stdout",
          "text": [
            "Epoch 29, Loss: 0.0104691713640932, lr = 0.020000000000000004\n"
          ]
        },
        {
          "output_type": "stream",
          "name": "stderr",
          "text": [
            "Epoch 30/50  Augmentation : None: 100%|██████████| 40/40 [00:01<00:00, 20.57it/s, Loss=0.00103]\n"
          ]
        },
        {
          "output_type": "stream",
          "name": "stdout",
          "text": [
            "Epoch 30, Loss: 0.010097533487714827, lr = 0.020000000000000004\n"
          ]
        },
        {
          "output_type": "stream",
          "name": "stderr",
          "text": [
            "Epoch 31/50  Augmentation : None: 100%|██████████| 40/40 [00:02<00:00, 19.46it/s, Loss=0.00303]\n"
          ]
        },
        {
          "output_type": "stream",
          "name": "stdout",
          "text": [
            "Epoch 31, Loss: 0.00692786329309456, lr = 0.020000000000000004\n"
          ]
        },
        {
          "output_type": "stream",
          "name": "stderr",
          "text": [
            "Epoch 32/50  Augmentation : None: 100%|██████████| 40/40 [00:01<00:00, 21.10it/s, Loss=0.00276]\n"
          ]
        },
        {
          "output_type": "stream",
          "name": "stdout",
          "text": [
            "Epoch 32, Loss: 0.005403245618799702, lr = 0.020000000000000004\n"
          ]
        },
        {
          "output_type": "stream",
          "name": "stderr",
          "text": [
            "Epoch 33/50  Augmentation : None: 100%|██████████| 40/40 [00:01<00:00, 20.35it/s, Loss=0.00123]\n"
          ]
        },
        {
          "output_type": "stream",
          "name": "stdout",
          "text": [
            "Epoch 33, Loss: 0.003957238141447305, lr = 0.020000000000000004\n"
          ]
        },
        {
          "output_type": "stream",
          "name": "stderr",
          "text": [
            "Epoch 34/50  Augmentation : None: 100%|██████████| 40/40 [00:01<00:00, 21.14it/s, Loss=0.00288]\n"
          ]
        },
        {
          "output_type": "stream",
          "name": "stdout",
          "text": [
            "Epoch 34, Loss: 0.003080673789372668, lr = 0.020000000000000004\n"
          ]
        },
        {
          "output_type": "stream",
          "name": "stderr",
          "text": [
            "Epoch 35/50  Augmentation : None: 100%|██████████| 40/40 [00:01<00:00, 21.90it/s, Loss=0.000563]\n"
          ]
        },
        {
          "output_type": "stream",
          "name": "stdout",
          "text": [
            "Epoch 35, Loss: 0.002940192355890758, lr = 0.020000000000000004\n"
          ]
        },
        {
          "output_type": "stream",
          "name": "stderr",
          "text": [
            "Epoch 36/50  Augmentation : None: 100%|██████████| 40/40 [00:01<00:00, 24.41it/s, Loss=0.000386]\n"
          ]
        },
        {
          "output_type": "stream",
          "name": "stdout",
          "text": [
            "Epoch 36, Loss: 0.0022613398316025267, lr = 0.020000000000000004\n"
          ]
        },
        {
          "output_type": "stream",
          "name": "stderr",
          "text": [
            "Epoch 37/50  Augmentation : None: 100%|██████████| 40/40 [00:01<00:00, 24.08it/s, Loss=0.000695]\n"
          ]
        },
        {
          "output_type": "stream",
          "name": "stdout",
          "text": [
            "Epoch 37, Loss: 0.002086335553030949, lr = 0.020000000000000004\n"
          ]
        },
        {
          "output_type": "stream",
          "name": "stderr",
          "text": [
            "Epoch 38/50  Augmentation : None: 100%|██████████| 40/40 [00:01<00:00, 23.81it/s, Loss=0.000479]\n"
          ]
        },
        {
          "output_type": "stream",
          "name": "stdout",
          "text": [
            "Epoch 38, Loss: 0.002068816262180917, lr = 0.020000000000000004\n"
          ]
        },
        {
          "output_type": "stream",
          "name": "stderr",
          "text": [
            "Epoch 39/50  Augmentation : None: 100%|██████████| 40/40 [00:01<00:00, 23.21it/s, Loss=0.000651]\n"
          ]
        },
        {
          "output_type": "stream",
          "name": "stdout",
          "text": [
            "Epoch 39, Loss: 0.0019657150449347684, lr = 0.020000000000000004\n"
          ]
        },
        {
          "output_type": "stream",
          "name": "stderr",
          "text": [
            "Epoch 40/50  Augmentation : None: 100%|██████████| 40/40 [00:01<00:00, 22.76it/s, Loss=0.0049]\n"
          ]
        },
        {
          "output_type": "stream",
          "name": "stdout",
          "text": [
            "Epoch 40, Loss: 0.001794149113993626, lr = 0.004000000000000001\n"
          ]
        },
        {
          "output_type": "stream",
          "name": "stderr",
          "text": [
            "Epoch 41/50  Augmentation : None: 100%|██████████| 40/40 [00:01<00:00, 21.49it/s, Loss=0.000478]\n"
          ]
        },
        {
          "output_type": "stream",
          "name": "stdout",
          "text": [
            "Epoch 41, Loss: 0.0016443514716229402, lr = 0.004000000000000001\n"
          ]
        },
        {
          "output_type": "stream",
          "name": "stderr",
          "text": [
            "Epoch 42/50  Augmentation : None: 100%|██████████| 40/40 [00:01<00:00, 20.68it/s, Loss=0.000378]\n"
          ]
        },
        {
          "output_type": "stream",
          "name": "stdout",
          "text": [
            "Epoch 42, Loss: 0.0015544602436420973, lr = 0.004000000000000001\n"
          ]
        },
        {
          "output_type": "stream",
          "name": "stderr",
          "text": [
            "Epoch 43/50  Augmentation : None: 100%|██████████| 40/40 [00:01<00:00, 20.69it/s, Loss=0.00223]\n"
          ]
        },
        {
          "output_type": "stream",
          "name": "stdout",
          "text": [
            "Epoch 43, Loss: 0.0015700080461101607, lr = 0.004000000000000001\n"
          ]
        },
        {
          "output_type": "stream",
          "name": "stderr",
          "text": [
            "Epoch 44/50  Augmentation : None: 100%|██████████| 40/40 [00:01<00:00, 21.18it/s, Loss=0.000581]\n"
          ]
        },
        {
          "output_type": "stream",
          "name": "stdout",
          "text": [
            "Epoch 44, Loss: 0.001544902521709446, lr = 0.004000000000000001\n"
          ]
        },
        {
          "output_type": "stream",
          "name": "stderr",
          "text": [
            "Epoch 45/50  Augmentation : None: 100%|██████████| 40/40 [00:01<00:00, 21.42it/s, Loss=0.000537]\n"
          ]
        },
        {
          "output_type": "stream",
          "name": "stdout",
          "text": [
            "Epoch 45, Loss: 0.001413125661201775, lr = 0.004000000000000001\n"
          ]
        },
        {
          "output_type": "stream",
          "name": "stderr",
          "text": [
            "Epoch 46/50  Augmentation : None: 100%|██████████| 40/40 [00:01<00:00, 20.69it/s, Loss=0.000374]\n"
          ]
        },
        {
          "output_type": "stream",
          "name": "stdout",
          "text": [
            "Epoch 46, Loss: 0.001429205879685469, lr = 0.004000000000000001\n"
          ]
        },
        {
          "output_type": "stream",
          "name": "stderr",
          "text": [
            "Epoch 47/50  Augmentation : None: 100%|██████████| 40/40 [00:02<00:00, 18.09it/s, Loss=0.00257]\n"
          ]
        },
        {
          "output_type": "stream",
          "name": "stdout",
          "text": [
            "Epoch 47, Loss: 0.0014927174139302223, lr = 0.004000000000000001\n"
          ]
        },
        {
          "output_type": "stream",
          "name": "stderr",
          "text": [
            "Epoch 48/50  Augmentation : None: 100%|██████████| 40/40 [00:01<00:00, 20.61it/s, Loss=0.00195]\n"
          ]
        },
        {
          "output_type": "stream",
          "name": "stdout",
          "text": [
            "Epoch 48, Loss: 0.0014651851524831727, lr = 0.004000000000000001\n"
          ]
        },
        {
          "output_type": "stream",
          "name": "stderr",
          "text": [
            "Epoch 49/50  Augmentation : None: 100%|██████████| 40/40 [00:02<00:00, 19.55it/s, Loss=0.00093]\n"
          ]
        },
        {
          "output_type": "stream",
          "name": "stdout",
          "text": [
            "Epoch 49, Loss: 0.001397256678319536, lr = 0.004000000000000001\n"
          ]
        },
        {
          "output_type": "stream",
          "name": "stderr",
          "text": [
            "Epoch 50/50  Augmentation : None: 100%|██████████| 40/40 [00:01<00:00, 20.66it/s, Loss=0.000591]"
          ]
        },
        {
          "output_type": "stream",
          "name": "stdout",
          "text": [
            "Epoch 50, Loss: 0.0014562810756615363, lr = 0.004000000000000001\n"
          ]
        },
        {
          "output_type": "stream",
          "name": "stderr",
          "text": [
            "\n"
          ]
        },
        {
          "output_type": "stream",
          "name": "stdout",
          "text": [
            "Test Loss : 4.21912989616394, Test Accuracy : 59.09%\n",
            "[Seed : 4710 Experiment Start]\n",
            "\n"
          ]
        },
        {
          "output_type": "stream",
          "name": "stderr",
          "text": [
            "Epoch 1/50  Augmentation : RandomCrop: 100%|██████████| 40/40 [00:02<00:00, 15.06it/s, Loss=2.3]\n"
          ]
        },
        {
          "output_type": "stream",
          "name": "stdout",
          "text": [
            "Epoch 1, Loss: 2.3024759769439695, lr = 0.1\n"
          ]
        },
        {
          "output_type": "stream",
          "name": "stderr",
          "text": [
            "Epoch 2/50  Augmentation : RandomCrop: 100%|██████████| 40/40 [00:02<00:00, 16.06it/s, Loss=2.2]\n"
          ]
        },
        {
          "output_type": "stream",
          "name": "stdout",
          "text": [
            "Epoch 2, Loss: 2.2187787711620333, lr = 0.1\n"
          ]
        },
        {
          "output_type": "stream",
          "name": "stderr",
          "text": [
            "Epoch 3/50  Augmentation : RandomCrop: 100%|██████████| 40/40 [00:02<00:00, 16.94it/s, Loss=2.18]\n"
          ]
        },
        {
          "output_type": "stream",
          "name": "stdout",
          "text": [
            "Epoch 3, Loss: 2.058211749792099, lr = 0.1\n"
          ]
        },
        {
          "output_type": "stream",
          "name": "stderr",
          "text": [
            "Epoch 4/50  Augmentation : RandomCrop: 100%|██████████| 40/40 [00:02<00:00, 16.63it/s, Loss=2.08]\n"
          ]
        },
        {
          "output_type": "stream",
          "name": "stdout",
          "text": [
            "Epoch 4, Loss: 1.9728950053453445, lr = 0.1\n"
          ]
        },
        {
          "output_type": "stream",
          "name": "stderr",
          "text": [
            "Epoch 5/50  Augmentation : RandomCrop: 100%|██████████| 40/40 [00:02<00:00, 15.90it/s, Loss=1.82]\n"
          ]
        },
        {
          "output_type": "stream",
          "name": "stdout",
          "text": [
            "Epoch 5, Loss: 1.915024396777153, lr = 0.1\n"
          ]
        },
        {
          "output_type": "stream",
          "name": "stderr",
          "text": [
            "Epoch 6/50  Augmentation : RandomCrop: 100%|██████████| 40/40 [00:02<00:00, 14.86it/s, Loss=1.47]\n"
          ]
        },
        {
          "output_type": "stream",
          "name": "stdout",
          "text": [
            "Epoch 6, Loss: 1.8338487476110459, lr = 0.1\n"
          ]
        },
        {
          "output_type": "stream",
          "name": "stderr",
          "text": [
            "Epoch 7/50  Augmentation : RandomCrop: 100%|██████████| 40/40 [00:02<00:00, 16.28it/s, Loss=1.84]\n"
          ]
        },
        {
          "output_type": "stream",
          "name": "stdout",
          "text": [
            "Epoch 7, Loss: 1.7179095685482024, lr = 0.1\n"
          ]
        },
        {
          "output_type": "stream",
          "name": "stderr",
          "text": [
            "Epoch 8/50  Augmentation : RandomCrop: 100%|██████████| 40/40 [00:02<00:00, 16.51it/s, Loss=1.38]\n"
          ]
        },
        {
          "output_type": "stream",
          "name": "stdout",
          "text": [
            "Epoch 8, Loss: 1.6174979478120803, lr = 0.1\n"
          ]
        },
        {
          "output_type": "stream",
          "name": "stderr",
          "text": [
            "Epoch 9/50  Augmentation : RandomCrop: 100%|██████████| 40/40 [00:02<00:00, 16.45it/s, Loss=1.1]\n"
          ]
        },
        {
          "output_type": "stream",
          "name": "stdout",
          "text": [
            "Epoch 9, Loss: 1.5630517452955246, lr = 0.1\n"
          ]
        },
        {
          "output_type": "stream",
          "name": "stderr",
          "text": [
            "Epoch 10/50  Augmentation : RandomCrop: 100%|██████████| 40/40 [00:02<00:00, 16.41it/s, Loss=1.53]\n"
          ]
        },
        {
          "output_type": "stream",
          "name": "stdout",
          "text": [
            "Epoch 10, Loss: 1.5236908823251725, lr = 0.1\n"
          ]
        },
        {
          "output_type": "stream",
          "name": "stderr",
          "text": [
            "Epoch 11/50  Augmentation : RandomCrop: 100%|██████████| 40/40 [00:02<00:00, 14.55it/s, Loss=1.56]\n"
          ]
        },
        {
          "output_type": "stream",
          "name": "stdout",
          "text": [
            "Epoch 11, Loss: 1.4504880398511886, lr = 0.1\n"
          ]
        },
        {
          "output_type": "stream",
          "name": "stderr",
          "text": [
            "Epoch 12/50  Augmentation : RandomCrop: 100%|██████████| 40/40 [00:02<00:00, 17.03it/s, Loss=1.53]\n"
          ]
        },
        {
          "output_type": "stream",
          "name": "stdout",
          "text": [
            "Epoch 12, Loss: 1.435626858472824, lr = 0.1\n"
          ]
        },
        {
          "output_type": "stream",
          "name": "stderr",
          "text": [
            "Epoch 13/50  Augmentation : RandomCrop: 100%|██████████| 40/40 [00:02<00:00, 16.38it/s, Loss=1.15]\n"
          ]
        },
        {
          "output_type": "stream",
          "name": "stdout",
          "text": [
            "Epoch 13, Loss: 1.4278079122304916, lr = 0.1\n"
          ]
        },
        {
          "output_type": "stream",
          "name": "stderr",
          "text": [
            "Epoch 14/50  Augmentation : RandomCrop: 100%|██████████| 40/40 [00:02<00:00, 16.35it/s, Loss=1.39]\n"
          ]
        },
        {
          "output_type": "stream",
          "name": "stdout",
          "text": [
            "Epoch 14, Loss: 1.4085212081670762, lr = 0.1\n"
          ]
        },
        {
          "output_type": "stream",
          "name": "stderr",
          "text": [
            "Epoch 15/50  Augmentation : RandomCrop: 100%|██████████| 40/40 [00:02<00:00, 16.27it/s, Loss=1.58]\n"
          ]
        },
        {
          "output_type": "stream",
          "name": "stdout",
          "text": [
            "Epoch 15, Loss: 1.3111883968114852, lr = 0.1\n"
          ]
        },
        {
          "output_type": "stream",
          "name": "stderr",
          "text": [
            "Epoch 16/50  Augmentation : RandomCrop: 100%|██████████| 40/40 [00:02<00:00, 15.62it/s, Loss=1.42]\n"
          ]
        },
        {
          "output_type": "stream",
          "name": "stdout",
          "text": [
            "Epoch 16, Loss: 1.3145007967948914, lr = 0.1\n"
          ]
        },
        {
          "output_type": "stream",
          "name": "stderr",
          "text": [
            "Epoch 17/50  Augmentation : RandomCrop: 100%|██████████| 40/40 [00:02<00:00, 17.08it/s, Loss=1.46]\n"
          ]
        },
        {
          "output_type": "stream",
          "name": "stdout",
          "text": [
            "Epoch 17, Loss: 1.2716966539621353, lr = 0.1\n"
          ]
        },
        {
          "output_type": "stream",
          "name": "stderr",
          "text": [
            "Epoch 18/50  Augmentation : RandomCrop: 100%|██████████| 40/40 [00:02<00:00, 16.37it/s, Loss=1.34]\n"
          ]
        },
        {
          "output_type": "stream",
          "name": "stdout",
          "text": [
            "Epoch 18, Loss: 1.254711878299713, lr = 0.1\n"
          ]
        },
        {
          "output_type": "stream",
          "name": "stderr",
          "text": [
            "Epoch 19/50  Augmentation : RandomCrop: 100%|██████████| 40/40 [00:02<00:00, 15.76it/s, Loss=1.25]\n"
          ]
        },
        {
          "output_type": "stream",
          "name": "stdout",
          "text": [
            "Epoch 19, Loss: 1.198462000489235, lr = 0.1\n"
          ]
        },
        {
          "output_type": "stream",
          "name": "stderr",
          "text": [
            "Epoch 20/50  Augmentation : RandomCrop: 100%|██████████| 40/40 [00:02<00:00, 17.12it/s, Loss=1.04]\n"
          ]
        },
        {
          "output_type": "stream",
          "name": "stdout",
          "text": [
            "Epoch 20, Loss: 1.183890089392662, lr = 0.020000000000000004\n"
          ]
        },
        {
          "output_type": "stream",
          "name": "stderr",
          "text": [
            "Epoch 21/50  Augmentation : RandomCrop: 100%|██████████| 40/40 [00:02<00:00, 17.63it/s, Loss=1.24]\n"
          ]
        },
        {
          "output_type": "stream",
          "name": "stdout",
          "text": [
            "Epoch 21, Loss: 1.0449965596199036, lr = 0.020000000000000004\n"
          ]
        },
        {
          "output_type": "stream",
          "name": "stderr",
          "text": [
            "Epoch 22/50  Augmentation : RandomCrop: 100%|██████████| 40/40 [00:02<00:00, 17.79it/s, Loss=1.19]\n"
          ]
        },
        {
          "output_type": "stream",
          "name": "stdout",
          "text": [
            "Epoch 22, Loss: 0.9771611526608467, lr = 0.020000000000000004\n"
          ]
        },
        {
          "output_type": "stream",
          "name": "stderr",
          "text": [
            "Epoch 23/50  Augmentation : RandomCrop: 100%|██████████| 40/40 [00:02<00:00, 18.05it/s, Loss=0.699]\n"
          ]
        },
        {
          "output_type": "stream",
          "name": "stdout",
          "text": [
            "Epoch 23, Loss: 0.9394869640469551, lr = 0.020000000000000004\n"
          ]
        },
        {
          "output_type": "stream",
          "name": "stderr",
          "text": [
            "Epoch 24/50  Augmentation : RandomCrop: 100%|██████████| 40/40 [00:02<00:00, 18.51it/s, Loss=1.11]\n"
          ]
        },
        {
          "output_type": "stream",
          "name": "stdout",
          "text": [
            "Epoch 24, Loss: 0.9261124148964882, lr = 0.020000000000000004\n"
          ]
        },
        {
          "output_type": "stream",
          "name": "stderr",
          "text": [
            "Epoch 25/50  Augmentation : RandomCrop: 100%|██████████| 40/40 [00:02<00:00, 17.17it/s, Loss=0.924]\n"
          ]
        },
        {
          "output_type": "stream",
          "name": "stdout",
          "text": [
            "Epoch 25, Loss: 0.9041817411780357, lr = 0.020000000000000004\n"
          ]
        },
        {
          "output_type": "stream",
          "name": "stderr",
          "text": [
            "Epoch 26/50  Augmentation : RandomCrop: 100%|██████████| 40/40 [00:02<00:00, 18.29it/s, Loss=0.937]\n"
          ]
        },
        {
          "output_type": "stream",
          "name": "stdout",
          "text": [
            "Epoch 26, Loss: 0.8820352509617806, lr = 0.020000000000000004\n"
          ]
        },
        {
          "output_type": "stream",
          "name": "stderr",
          "text": [
            "Epoch 27/50  Augmentation : RandomCrop: 100%|██████████| 40/40 [00:02<00:00, 18.78it/s, Loss=0.711]\n"
          ]
        },
        {
          "output_type": "stream",
          "name": "stdout",
          "text": [
            "Epoch 27, Loss: 0.8620431959629059, lr = 0.020000000000000004\n"
          ]
        },
        {
          "output_type": "stream",
          "name": "stderr",
          "text": [
            "Epoch 28/50  Augmentation : RandomCrop: 100%|██████████| 40/40 [00:02<00:00, 18.62it/s, Loss=1.22]\n"
          ]
        },
        {
          "output_type": "stream",
          "name": "stdout",
          "text": [
            "Epoch 28, Loss: 0.8425445288419724, lr = 0.020000000000000004\n"
          ]
        },
        {
          "output_type": "stream",
          "name": "stderr",
          "text": [
            "Epoch 29/50  Augmentation : RandomCrop: 100%|██████████| 40/40 [00:02<00:00, 18.72it/s, Loss=0.712]\n"
          ]
        },
        {
          "output_type": "stream",
          "name": "stdout",
          "text": [
            "Epoch 29, Loss: 0.8179599896073342, lr = 0.020000000000000004\n"
          ]
        },
        {
          "output_type": "stream",
          "name": "stderr",
          "text": [
            "Epoch 30/50  Augmentation : RandomCrop: 100%|██████████| 40/40 [00:02<00:00, 18.40it/s, Loss=0.96]\n"
          ]
        },
        {
          "output_type": "stream",
          "name": "stdout",
          "text": [
            "Epoch 30, Loss: 0.8047238141298294, lr = 0.020000000000000004\n"
          ]
        },
        {
          "output_type": "stream",
          "name": "stderr",
          "text": [
            "Epoch 31/50  Augmentation : RandomCrop: 100%|██████████| 40/40 [00:02<00:00, 17.08it/s, Loss=0.799]\n"
          ]
        },
        {
          "output_type": "stream",
          "name": "stdout",
          "text": [
            "Epoch 31, Loss: 0.8040116906166077, lr = 0.020000000000000004\n"
          ]
        },
        {
          "output_type": "stream",
          "name": "stderr",
          "text": [
            "Epoch 32/50  Augmentation : RandomCrop: 100%|██████████| 40/40 [00:02<00:00, 18.17it/s, Loss=0.476]\n"
          ]
        },
        {
          "output_type": "stream",
          "name": "stdout",
          "text": [
            "Epoch 32, Loss: 0.7670796394348145, lr = 0.020000000000000004\n"
          ]
        },
        {
          "output_type": "stream",
          "name": "stderr",
          "text": [
            "Epoch 33/50  Augmentation : RandomCrop: 100%|██████████| 40/40 [00:02<00:00, 18.87it/s, Loss=0.656]\n"
          ]
        },
        {
          "output_type": "stream",
          "name": "stdout",
          "text": [
            "Epoch 33, Loss: 0.7319128602743149, lr = 0.020000000000000004\n"
          ]
        },
        {
          "output_type": "stream",
          "name": "stderr",
          "text": [
            "Epoch 34/50  Augmentation : RandomCrop: 100%|██████████| 40/40 [00:02<00:00, 18.56it/s, Loss=0.684]\n"
          ]
        },
        {
          "output_type": "stream",
          "name": "stdout",
          "text": [
            "Epoch 34, Loss: 0.7399446368217468, lr = 0.020000000000000004\n"
          ]
        },
        {
          "output_type": "stream",
          "name": "stderr",
          "text": [
            "Epoch 35/50  Augmentation : RandomCrop: 100%|██████████| 40/40 [00:02<00:00, 18.36it/s, Loss=0.669]\n"
          ]
        },
        {
          "output_type": "stream",
          "name": "stdout",
          "text": [
            "Epoch 35, Loss: 0.7212155386805534, lr = 0.020000000000000004\n"
          ]
        },
        {
          "output_type": "stream",
          "name": "stderr",
          "text": [
            "Epoch 36/50  Augmentation : RandomCrop: 100%|██████████| 40/40 [00:02<00:00, 17.15it/s, Loss=1.17]\n"
          ]
        },
        {
          "output_type": "stream",
          "name": "stdout",
          "text": [
            "Epoch 36, Loss: 0.7099131718277931, lr = 0.020000000000000004\n"
          ]
        },
        {
          "output_type": "stream",
          "name": "stderr",
          "text": [
            "Epoch 37/50  Augmentation : RandomCrop: 100%|██████████| 40/40 [00:02<00:00, 18.46it/s, Loss=0.673]\n"
          ]
        },
        {
          "output_type": "stream",
          "name": "stdout",
          "text": [
            "Epoch 37, Loss: 0.6843927949666977, lr = 0.020000000000000004\n"
          ]
        },
        {
          "output_type": "stream",
          "name": "stderr",
          "text": [
            "Epoch 38/50  Augmentation : RandomCrop: 100%|██████████| 40/40 [00:02<00:00, 18.36it/s, Loss=0.852]\n"
          ]
        },
        {
          "output_type": "stream",
          "name": "stdout",
          "text": [
            "Epoch 38, Loss: 0.6692757472395897, lr = 0.020000000000000004\n"
          ]
        },
        {
          "output_type": "stream",
          "name": "stderr",
          "text": [
            "Epoch 39/50  Augmentation : RandomCrop: 100%|██████████| 40/40 [00:02<00:00, 18.75it/s, Loss=0.869]\n"
          ]
        },
        {
          "output_type": "stream",
          "name": "stdout",
          "text": [
            "Epoch 39, Loss: 0.6787285357713699, lr = 0.020000000000000004\n"
          ]
        },
        {
          "output_type": "stream",
          "name": "stderr",
          "text": [
            "Epoch 40/50  Augmentation : RandomCrop: 100%|██████████| 40/40 [00:02<00:00, 18.22it/s, Loss=0.636]\n"
          ]
        },
        {
          "output_type": "stream",
          "name": "stdout",
          "text": [
            "Epoch 40, Loss: 0.6546090632677078, lr = 0.004000000000000001\n"
          ]
        },
        {
          "output_type": "stream",
          "name": "stderr",
          "text": [
            "Epoch 41/50  Augmentation : RandomCrop: 100%|██████████| 40/40 [00:02<00:00, 17.51it/s, Loss=0.599]\n"
          ]
        },
        {
          "output_type": "stream",
          "name": "stdout",
          "text": [
            "Epoch 41, Loss: 0.5588933564722538, lr = 0.004000000000000001\n"
          ]
        },
        {
          "output_type": "stream",
          "name": "stderr",
          "text": [
            "Epoch 42/50  Augmentation : RandomCrop: 100%|██████████| 40/40 [00:02<00:00, 17.62it/s, Loss=0.755]\n"
          ]
        },
        {
          "output_type": "stream",
          "name": "stdout",
          "text": [
            "Epoch 42, Loss: 0.5359178632497787, lr = 0.004000000000000001\n"
          ]
        },
        {
          "output_type": "stream",
          "name": "stderr",
          "text": [
            "Epoch 43/50  Augmentation : RandomCrop: 100%|██████████| 40/40 [00:02<00:00, 18.68it/s, Loss=0.439]\n"
          ]
        },
        {
          "output_type": "stream",
          "name": "stdout",
          "text": [
            "Epoch 43, Loss: 0.514640673995018, lr = 0.004000000000000001\n"
          ]
        },
        {
          "output_type": "stream",
          "name": "stderr",
          "text": [
            "Epoch 44/50  Augmentation : RandomCrop: 100%|██████████| 40/40 [00:02<00:00, 18.61it/s, Loss=0.22]\n"
          ]
        },
        {
          "output_type": "stream",
          "name": "stdout",
          "text": [
            "Epoch 44, Loss: 0.4933108542114496, lr = 0.004000000000000001\n"
          ]
        },
        {
          "output_type": "stream",
          "name": "stderr",
          "text": [
            "Epoch 45/50  Augmentation : RandomCrop: 100%|██████████| 40/40 [00:02<00:00, 18.37it/s, Loss=0.751]\n"
          ]
        },
        {
          "output_type": "stream",
          "name": "stdout",
          "text": [
            "Epoch 45, Loss: 0.49979831352829934, lr = 0.004000000000000001\n"
          ]
        },
        {
          "output_type": "stream",
          "name": "stderr",
          "text": [
            "Epoch 46/50  Augmentation : RandomCrop: 100%|██████████| 40/40 [00:02<00:00, 18.82it/s, Loss=0.308]\n"
          ]
        },
        {
          "output_type": "stream",
          "name": "stdout",
          "text": [
            "Epoch 46, Loss: 0.47087941542267797, lr = 0.004000000000000001\n"
          ]
        },
        {
          "output_type": "stream",
          "name": "stderr",
          "text": [
            "Epoch 47/50  Augmentation : RandomCrop: 100%|██████████| 40/40 [00:02<00:00, 16.30it/s, Loss=0.299]\n"
          ]
        },
        {
          "output_type": "stream",
          "name": "stdout",
          "text": [
            "Epoch 47, Loss: 0.46992657631635665, lr = 0.004000000000000001\n"
          ]
        },
        {
          "output_type": "stream",
          "name": "stderr",
          "text": [
            "Epoch 48/50  Augmentation : RandomCrop: 100%|██████████| 40/40 [00:02<00:00, 18.68it/s, Loss=0.253]\n"
          ]
        },
        {
          "output_type": "stream",
          "name": "stdout",
          "text": [
            "Epoch 48, Loss: 0.45291877165436745, lr = 0.004000000000000001\n"
          ]
        },
        {
          "output_type": "stream",
          "name": "stderr",
          "text": [
            "Epoch 49/50  Augmentation : RandomCrop: 100%|██████████| 40/40 [00:02<00:00, 18.36it/s, Loss=0.467]\n"
          ]
        },
        {
          "output_type": "stream",
          "name": "stdout",
          "text": [
            "Epoch 49, Loss: 0.4614687092602253, lr = 0.004000000000000001\n"
          ]
        },
        {
          "output_type": "stream",
          "name": "stderr",
          "text": [
            "Epoch 50/50  Augmentation : RandomCrop: 100%|██████████| 40/40 [00:02<00:00, 18.36it/s, Loss=0.349]"
          ]
        },
        {
          "output_type": "stream",
          "name": "stdout",
          "text": [
            "Epoch 50, Loss: 0.44286217987537385, lr = 0.004000000000000001\n"
          ]
        },
        {
          "output_type": "stream",
          "name": "stderr",
          "text": [
            "\n"
          ]
        },
        {
          "output_type": "stream",
          "name": "stdout",
          "text": [
            "Test Loss : 1.2358417093753815, Test Accuracy : 65.41%\n",
            "[Seed : 4710 Experiment Start]\n",
            "\n"
          ]
        },
        {
          "output_type": "stream",
          "name": "stderr",
          "text": [
            "Epoch 1/50  Augmentation : RandomHorizontalFlip: 100%|██████████| 40/40 [00:02<00:00, 19.18it/s, Loss=2.3]\n"
          ]
        },
        {
          "output_type": "stream",
          "name": "stdout",
          "text": [
            "Epoch 1, Loss: 2.302269697189331, lr = 0.1\n"
          ]
        },
        {
          "output_type": "stream",
          "name": "stderr",
          "text": [
            "Epoch 2/50  Augmentation : RandomHorizontalFlip: 100%|██████████| 40/40 [00:01<00:00, 20.81it/s, Loss=2.18]\n"
          ]
        },
        {
          "output_type": "stream",
          "name": "stdout",
          "text": [
            "Epoch 2, Loss: 2.1873047411441804, lr = 0.1\n"
          ]
        },
        {
          "output_type": "stream",
          "name": "stderr",
          "text": [
            "Epoch 3/50  Augmentation : RandomHorizontalFlip: 100%|██████████| 40/40 [00:01<00:00, 20.87it/s, Loss=2.13]\n"
          ]
        },
        {
          "output_type": "stream",
          "name": "stdout",
          "text": [
            "Epoch 3, Loss: 2.010274076461792, lr = 0.1\n"
          ]
        },
        {
          "output_type": "stream",
          "name": "stderr",
          "text": [
            "Epoch 4/50  Augmentation : RandomHorizontalFlip: 100%|██████████| 40/40 [00:01<00:00, 20.71it/s, Loss=1.82]\n"
          ]
        },
        {
          "output_type": "stream",
          "name": "stdout",
          "text": [
            "Epoch 4, Loss: 1.9095418989658355, lr = 0.1\n"
          ]
        },
        {
          "output_type": "stream",
          "name": "stderr",
          "text": [
            "Epoch 5/50  Augmentation : RandomHorizontalFlip: 100%|██████████| 40/40 [00:01<00:00, 21.41it/s, Loss=1.74]\n"
          ]
        },
        {
          "output_type": "stream",
          "name": "stdout",
          "text": [
            "Epoch 5, Loss: 1.787988531589508, lr = 0.1\n"
          ]
        },
        {
          "output_type": "stream",
          "name": "stderr",
          "text": [
            "Epoch 6/50  Augmentation : RandomHorizontalFlip: 100%|██████████| 40/40 [00:01<00:00, 21.43it/s, Loss=1.26]\n"
          ]
        },
        {
          "output_type": "stream",
          "name": "stdout",
          "text": [
            "Epoch 6, Loss: 1.6800412774085998, lr = 0.1\n"
          ]
        },
        {
          "output_type": "stream",
          "name": "stderr",
          "text": [
            "Epoch 7/50  Augmentation : RandomHorizontalFlip: 100%|██████████| 40/40 [00:02<00:00, 18.94it/s, Loss=1.85]\n"
          ]
        },
        {
          "output_type": "stream",
          "name": "stdout",
          "text": [
            "Epoch 7, Loss: 1.5448323696851731, lr = 0.1\n"
          ]
        },
        {
          "output_type": "stream",
          "name": "stderr",
          "text": [
            "Epoch 8/50  Augmentation : RandomHorizontalFlip: 100%|██████████| 40/40 [00:01<00:00, 21.15it/s, Loss=1.21]\n"
          ]
        },
        {
          "output_type": "stream",
          "name": "stdout",
          "text": [
            "Epoch 8, Loss: 1.48013516664505, lr = 0.1\n"
          ]
        },
        {
          "output_type": "stream",
          "name": "stderr",
          "text": [
            "Epoch 9/50  Augmentation : RandomHorizontalFlip: 100%|██████████| 40/40 [00:01<00:00, 20.97it/s, Loss=1]\n"
          ]
        },
        {
          "output_type": "stream",
          "name": "stdout",
          "text": [
            "Epoch 9, Loss: 1.3678402543067931, lr = 0.1\n"
          ]
        },
        {
          "output_type": "stream",
          "name": "stderr",
          "text": [
            "Epoch 10/50  Augmentation : RandomHorizontalFlip: 100%|██████████| 40/40 [00:01<00:00, 21.09it/s, Loss=1.31]\n"
          ]
        },
        {
          "output_type": "stream",
          "name": "stdout",
          "text": [
            "Epoch 10, Loss: 1.3529308974742889, lr = 0.1\n"
          ]
        },
        {
          "output_type": "stream",
          "name": "stderr",
          "text": [
            "Epoch 11/50  Augmentation : RandomHorizontalFlip: 100%|██████████| 40/40 [00:01<00:00, 21.90it/s, Loss=1.04]\n"
          ]
        },
        {
          "output_type": "stream",
          "name": "stdout",
          "text": [
            "Epoch 11, Loss: 1.2514581382274628, lr = 0.1\n"
          ]
        },
        {
          "output_type": "stream",
          "name": "stderr",
          "text": [
            "Epoch 12/50  Augmentation : RandomHorizontalFlip: 100%|██████████| 40/40 [00:01<00:00, 20.19it/s, Loss=1.07]\n"
          ]
        },
        {
          "output_type": "stream",
          "name": "stdout",
          "text": [
            "Epoch 12, Loss: 1.2140624403953553, lr = 0.1\n"
          ]
        },
        {
          "output_type": "stream",
          "name": "stderr",
          "text": [
            "Epoch 13/50  Augmentation : RandomHorizontalFlip: 100%|██████████| 40/40 [00:02<00:00, 18.89it/s, Loss=1.34]\n"
          ]
        },
        {
          "output_type": "stream",
          "name": "stdout",
          "text": [
            "Epoch 13, Loss: 1.1990651935338974, lr = 0.1\n"
          ]
        },
        {
          "output_type": "stream",
          "name": "stderr",
          "text": [
            "Epoch 14/50  Augmentation : RandomHorizontalFlip: 100%|██████████| 40/40 [00:02<00:00, 19.58it/s, Loss=1.34]\n"
          ]
        },
        {
          "output_type": "stream",
          "name": "stdout",
          "text": [
            "Epoch 14, Loss: 1.1939753144979477, lr = 0.1\n"
          ]
        },
        {
          "output_type": "stream",
          "name": "stderr",
          "text": [
            "Epoch 15/50  Augmentation : RandomHorizontalFlip: 100%|██████████| 40/40 [00:01<00:00, 20.55it/s, Loss=1.19]\n"
          ]
        },
        {
          "output_type": "stream",
          "name": "stdout",
          "text": [
            "Epoch 15, Loss: 1.0979390457272529, lr = 0.1\n"
          ]
        },
        {
          "output_type": "stream",
          "name": "stderr",
          "text": [
            "Epoch 16/50  Augmentation : RandomHorizontalFlip: 100%|██████████| 40/40 [00:01<00:00, 20.29it/s, Loss=0.993]\n"
          ]
        },
        {
          "output_type": "stream",
          "name": "stdout",
          "text": [
            "Epoch 16, Loss: 1.0281873732805251, lr = 0.1\n"
          ]
        },
        {
          "output_type": "stream",
          "name": "stderr",
          "text": [
            "Epoch 17/50  Augmentation : RandomHorizontalFlip: 100%|██████████| 40/40 [00:01<00:00, 20.57it/s, Loss=1.03]\n"
          ]
        },
        {
          "output_type": "stream",
          "name": "stdout",
          "text": [
            "Epoch 17, Loss: 1.0221280097961425, lr = 0.1\n"
          ]
        },
        {
          "output_type": "stream",
          "name": "stderr",
          "text": [
            "Epoch 18/50  Augmentation : RandomHorizontalFlip: 100%|██████████| 40/40 [00:01<00:00, 20.58it/s, Loss=0.858]\n"
          ]
        },
        {
          "output_type": "stream",
          "name": "stdout",
          "text": [
            "Epoch 18, Loss: 0.9741568833589553, lr = 0.1\n"
          ]
        },
        {
          "output_type": "stream",
          "name": "stderr",
          "text": [
            "Epoch 19/50  Augmentation : RandomHorizontalFlip: 100%|██████████| 40/40 [00:02<00:00, 18.85it/s, Loss=1.15]\n"
          ]
        },
        {
          "output_type": "stream",
          "name": "stdout",
          "text": [
            "Epoch 19, Loss: 0.9035748690366745, lr = 0.1\n"
          ]
        },
        {
          "output_type": "stream",
          "name": "stderr",
          "text": [
            "Epoch 20/50  Augmentation : RandomHorizontalFlip: 100%|██████████| 40/40 [00:01<00:00, 20.69it/s, Loss=0.73]\n"
          ]
        },
        {
          "output_type": "stream",
          "name": "stdout",
          "text": [
            "Epoch 20, Loss: 0.9203287497162819, lr = 0.020000000000000004\n"
          ]
        },
        {
          "output_type": "stream",
          "name": "stderr",
          "text": [
            "Epoch 21/50  Augmentation : RandomHorizontalFlip: 100%|██████████| 40/40 [00:01<00:00, 20.41it/s, Loss=0.853]\n"
          ]
        },
        {
          "output_type": "stream",
          "name": "stdout",
          "text": [
            "Epoch 21, Loss: 0.7275195613503456, lr = 0.020000000000000004\n"
          ]
        },
        {
          "output_type": "stream",
          "name": "stderr",
          "text": [
            "Epoch 22/50  Augmentation : RandomHorizontalFlip: 100%|██████████| 40/40 [00:01<00:00, 20.31it/s, Loss=0.371]\n"
          ]
        },
        {
          "output_type": "stream",
          "name": "stdout",
          "text": [
            "Epoch 22, Loss: 0.5824721999466419, lr = 0.020000000000000004\n"
          ]
        },
        {
          "output_type": "stream",
          "name": "stderr",
          "text": [
            "Epoch 23/50  Augmentation : RandomHorizontalFlip: 100%|██████████| 40/40 [00:01<00:00, 21.44it/s, Loss=0.52]\n"
          ]
        },
        {
          "output_type": "stream",
          "name": "stdout",
          "text": [
            "Epoch 23, Loss: 0.5218364648520947, lr = 0.020000000000000004\n"
          ]
        },
        {
          "output_type": "stream",
          "name": "stderr",
          "text": [
            "Epoch 24/50  Augmentation : RandomHorizontalFlip: 100%|██████████| 40/40 [00:02<00:00, 18.90it/s, Loss=0.494]\n"
          ]
        },
        {
          "output_type": "stream",
          "name": "stdout",
          "text": [
            "Epoch 24, Loss: 0.4633978374302387, lr = 0.020000000000000004\n"
          ]
        },
        {
          "output_type": "stream",
          "name": "stderr",
          "text": [
            "Epoch 25/50  Augmentation : RandomHorizontalFlip: 100%|██████████| 40/40 [00:02<00:00, 19.92it/s, Loss=0.547]\n"
          ]
        },
        {
          "output_type": "stream",
          "name": "stdout",
          "text": [
            "Epoch 25, Loss: 0.4305839970707893, lr = 0.020000000000000004\n"
          ]
        },
        {
          "output_type": "stream",
          "name": "stderr",
          "text": [
            "Epoch 26/50  Augmentation : RandomHorizontalFlip: 100%|██████████| 40/40 [00:01<00:00, 21.16it/s, Loss=0.345]\n"
          ]
        },
        {
          "output_type": "stream",
          "name": "stdout",
          "text": [
            "Epoch 26, Loss: 0.38383944556117056, lr = 0.020000000000000004\n"
          ]
        },
        {
          "output_type": "stream",
          "name": "stderr",
          "text": [
            "Epoch 27/50  Augmentation : RandomHorizontalFlip: 100%|██████████| 40/40 [00:01<00:00, 21.02it/s, Loss=0.223]\n"
          ]
        },
        {
          "output_type": "stream",
          "name": "stdout",
          "text": [
            "Epoch 27, Loss: 0.3322201054543257, lr = 0.020000000000000004\n"
          ]
        },
        {
          "output_type": "stream",
          "name": "stderr",
          "text": [
            "Epoch 28/50  Augmentation : RandomHorizontalFlip: 100%|██████████| 40/40 [00:01<00:00, 20.88it/s, Loss=0.386]\n"
          ]
        },
        {
          "output_type": "stream",
          "name": "stdout",
          "text": [
            "Epoch 28, Loss: 0.29940608963370324, lr = 0.020000000000000004\n"
          ]
        },
        {
          "output_type": "stream",
          "name": "stderr",
          "text": [
            "Epoch 29/50  Augmentation : RandomHorizontalFlip: 100%|██████████| 40/40 [00:01<00:00, 21.00it/s, Loss=0.2]\n"
          ]
        },
        {
          "output_type": "stream",
          "name": "stdout",
          "text": [
            "Epoch 29, Loss: 0.2691229201853275, lr = 0.020000000000000004\n"
          ]
        },
        {
          "output_type": "stream",
          "name": "stderr",
          "text": [
            "Epoch 30/50  Augmentation : RandomHorizontalFlip: 100%|██████████| 40/40 [00:01<00:00, 20.07it/s, Loss=0.0871]\n"
          ]
        },
        {
          "output_type": "stream",
          "name": "stdout",
          "text": [
            "Epoch 30, Loss: 0.2293787719681859, lr = 0.020000000000000004\n"
          ]
        },
        {
          "output_type": "stream",
          "name": "stderr",
          "text": [
            "Epoch 31/50  Augmentation : RandomHorizontalFlip: 100%|██████████| 40/40 [00:01<00:00, 20.15it/s, Loss=0.308]\n"
          ]
        },
        {
          "output_type": "stream",
          "name": "stdout",
          "text": [
            "Epoch 31, Loss: 0.19848282746970652, lr = 0.020000000000000004\n"
          ]
        },
        {
          "output_type": "stream",
          "name": "stderr",
          "text": [
            "Epoch 32/50  Augmentation : RandomHorizontalFlip: 100%|██████████| 40/40 [00:01<00:00, 21.38it/s, Loss=0.0576]\n"
          ]
        },
        {
          "output_type": "stream",
          "name": "stdout",
          "text": [
            "Epoch 32, Loss: 0.2314659547060728, lr = 0.020000000000000004\n"
          ]
        },
        {
          "output_type": "stream",
          "name": "stderr",
          "text": [
            "Epoch 33/50  Augmentation : RandomHorizontalFlip: 100%|██████████| 40/40 [00:01<00:00, 20.32it/s, Loss=0.0335]\n"
          ]
        },
        {
          "output_type": "stream",
          "name": "stdout",
          "text": [
            "Epoch 33, Loss: 0.16330149993300438, lr = 0.020000000000000004\n"
          ]
        },
        {
          "output_type": "stream",
          "name": "stderr",
          "text": [
            "Epoch 34/50  Augmentation : RandomHorizontalFlip: 100%|██████████| 40/40 [00:01<00:00, 20.98it/s, Loss=0.0485]\n"
          ]
        },
        {
          "output_type": "stream",
          "name": "stdout",
          "text": [
            "Epoch 34, Loss: 0.1219708071090281, lr = 0.020000000000000004\n"
          ]
        },
        {
          "output_type": "stream",
          "name": "stderr",
          "text": [
            "Epoch 35/50  Augmentation : RandomHorizontalFlip: 100%|██████████| 40/40 [00:01<00:00, 21.22it/s, Loss=0.0564]\n"
          ]
        },
        {
          "output_type": "stream",
          "name": "stdout",
          "text": [
            "Epoch 35, Loss: 0.11670559318736196, lr = 0.020000000000000004\n"
          ]
        },
        {
          "output_type": "stream",
          "name": "stderr",
          "text": [
            "Epoch 36/50  Augmentation : RandomHorizontalFlip: 100%|██████████| 40/40 [00:01<00:00, 20.27it/s, Loss=0.048]\n"
          ]
        },
        {
          "output_type": "stream",
          "name": "stdout",
          "text": [
            "Epoch 36, Loss: 0.12038395274430513, lr = 0.020000000000000004\n"
          ]
        },
        {
          "output_type": "stream",
          "name": "stderr",
          "text": [
            "Epoch 37/50  Augmentation : RandomHorizontalFlip: 100%|██████████| 40/40 [00:02<00:00, 19.47it/s, Loss=0.0732]\n"
          ]
        },
        {
          "output_type": "stream",
          "name": "stdout",
          "text": [
            "Epoch 37, Loss: 0.10260870913043618, lr = 0.020000000000000004\n"
          ]
        },
        {
          "output_type": "stream",
          "name": "stderr",
          "text": [
            "Epoch 38/50  Augmentation : RandomHorizontalFlip: 100%|██████████| 40/40 [00:01<00:00, 20.49it/s, Loss=0.288]\n"
          ]
        },
        {
          "output_type": "stream",
          "name": "stdout",
          "text": [
            "Epoch 38, Loss: 0.09557104809209704, lr = 0.020000000000000004\n"
          ]
        },
        {
          "output_type": "stream",
          "name": "stderr",
          "text": [
            "Epoch 39/50  Augmentation : RandomHorizontalFlip: 100%|██████████| 40/40 [00:01<00:00, 21.07it/s, Loss=0.273]\n"
          ]
        },
        {
          "output_type": "stream",
          "name": "stdout",
          "text": [
            "Epoch 39, Loss: 0.19344693180173636, lr = 0.020000000000000004\n"
          ]
        },
        {
          "output_type": "stream",
          "name": "stderr",
          "text": [
            "Epoch 40/50  Augmentation : RandomHorizontalFlip: 100%|██████████| 40/40 [00:01<00:00, 21.35it/s, Loss=0.118]\n"
          ]
        },
        {
          "output_type": "stream",
          "name": "stdout",
          "text": [
            "Epoch 40, Loss: 0.2374379076063633, lr = 0.004000000000000001\n"
          ]
        },
        {
          "output_type": "stream",
          "name": "stderr",
          "text": [
            "Epoch 41/50  Augmentation : RandomHorizontalFlip: 100%|██████████| 40/40 [00:01<00:00, 20.36it/s, Loss=0.153]\n"
          ]
        },
        {
          "output_type": "stream",
          "name": "stdout",
          "text": [
            "Epoch 41, Loss: 0.10194007903337479, lr = 0.004000000000000001\n"
          ]
        },
        {
          "output_type": "stream",
          "name": "stderr",
          "text": [
            "Epoch 42/50  Augmentation : RandomHorizontalFlip: 100%|██████████| 40/40 [00:02<00:00, 19.53it/s, Loss=0.0393]\n"
          ]
        },
        {
          "output_type": "stream",
          "name": "stdout",
          "text": [
            "Epoch 42, Loss: 0.06492922520264983, lr = 0.004000000000000001\n"
          ]
        },
        {
          "output_type": "stream",
          "name": "stderr",
          "text": [
            "Epoch 43/50  Augmentation : RandomHorizontalFlip: 100%|██████████| 40/40 [00:01<00:00, 20.49it/s, Loss=0.0402]\n"
          ]
        },
        {
          "output_type": "stream",
          "name": "stdout",
          "text": [
            "Epoch 43, Loss: 0.04676860417239368, lr = 0.004000000000000001\n"
          ]
        },
        {
          "output_type": "stream",
          "name": "stderr",
          "text": [
            "Epoch 44/50  Augmentation : RandomHorizontalFlip: 100%|██████████| 40/40 [00:01<00:00, 21.17it/s, Loss=0.0106]\n"
          ]
        },
        {
          "output_type": "stream",
          "name": "stdout",
          "text": [
            "Epoch 44, Loss: 0.03809464517980814, lr = 0.004000000000000001\n"
          ]
        },
        {
          "output_type": "stream",
          "name": "stderr",
          "text": [
            "Epoch 45/50  Augmentation : RandomHorizontalFlip: 100%|██████████| 40/40 [00:01<00:00, 21.13it/s, Loss=0.0743]\n"
          ]
        },
        {
          "output_type": "stream",
          "name": "stdout",
          "text": [
            "Epoch 45, Loss: 0.03259720792993903, lr = 0.004000000000000001\n"
          ]
        },
        {
          "output_type": "stream",
          "name": "stderr",
          "text": [
            "Epoch 46/50  Augmentation : RandomHorizontalFlip: 100%|██████████| 40/40 [00:01<00:00, 21.47it/s, Loss=0.0201]\n"
          ]
        },
        {
          "output_type": "stream",
          "name": "stdout",
          "text": [
            "Epoch 46, Loss: 0.02790991556830704, lr = 0.004000000000000001\n"
          ]
        },
        {
          "output_type": "stream",
          "name": "stderr",
          "text": [
            "Epoch 47/50  Augmentation : RandomHorizontalFlip: 100%|██████████| 40/40 [00:01<00:00, 21.02it/s, Loss=0.00961]\n"
          ]
        },
        {
          "output_type": "stream",
          "name": "stdout",
          "text": [
            "Epoch 47, Loss: 0.023437090520747005, lr = 0.004000000000000001\n"
          ]
        },
        {
          "output_type": "stream",
          "name": "stderr",
          "text": [
            "Epoch 48/50  Augmentation : RandomHorizontalFlip: 100%|██████████| 40/40 [00:02<00:00, 19.68it/s, Loss=0.0114]\n"
          ]
        },
        {
          "output_type": "stream",
          "name": "stdout",
          "text": [
            "Epoch 48, Loss: 0.0197868921328336, lr = 0.004000000000000001\n"
          ]
        },
        {
          "output_type": "stream",
          "name": "stderr",
          "text": [
            "Epoch 49/50  Augmentation : RandomHorizontalFlip: 100%|██████████| 40/40 [00:01<00:00, 20.14it/s, Loss=0.019]\n"
          ]
        },
        {
          "output_type": "stream",
          "name": "stdout",
          "text": [
            "Epoch 49, Loss: 0.01863346523605287, lr = 0.004000000000000001\n"
          ]
        },
        {
          "output_type": "stream",
          "name": "stderr",
          "text": [
            "Epoch 50/50  Augmentation : RandomHorizontalFlip: 100%|██████████| 40/40 [00:01<00:00, 21.89it/s, Loss=0.00554]"
          ]
        },
        {
          "output_type": "stream",
          "name": "stdout",
          "text": [
            "Epoch 50, Loss: 0.015993530780542643, lr = 0.004000000000000001\n"
          ]
        },
        {
          "output_type": "stream",
          "name": "stderr",
          "text": [
            "\n"
          ]
        },
        {
          "output_type": "stream",
          "name": "stdout",
          "text": [
            "Test Loss : 2.4287298560142516, Test Accuracy : 63.89%\n",
            "[Seed : 4710 Experiment Start]\n",
            "\n"
          ]
        },
        {
          "output_type": "stream",
          "name": "stderr",
          "text": [
            "Epoch 1/50  Augmentation : Cutout: 100%|██████████| 40/40 [00:02<00:00, 18.39it/s, Loss=2.3]\n"
          ]
        },
        {
          "output_type": "stream",
          "name": "stdout",
          "text": [
            "Epoch 1, Loss: 2.3024145126342774, lr = 0.1\n"
          ]
        },
        {
          "output_type": "stream",
          "name": "stderr",
          "text": [
            "Epoch 2/50  Augmentation : Cutout: 100%|██████████| 40/40 [00:02<00:00, 18.66it/s, Loss=2.16]\n"
          ]
        },
        {
          "output_type": "stream",
          "name": "stdout",
          "text": [
            "Epoch 2, Loss: 2.2051526963710786, lr = 0.1\n"
          ]
        },
        {
          "output_type": "stream",
          "name": "stderr",
          "text": [
            "Epoch 3/50  Augmentation : Cutout: 100%|██████████| 40/40 [00:02<00:00, 16.43it/s, Loss=2.12]\n"
          ]
        },
        {
          "output_type": "stream",
          "name": "stdout",
          "text": [
            "Epoch 3, Loss: 2.053553211688995, lr = 0.1\n"
          ]
        },
        {
          "output_type": "stream",
          "name": "stderr",
          "text": [
            "Epoch 4/50  Augmentation : Cutout: 100%|██████████| 40/40 [00:02<00:00, 18.60it/s, Loss=1.9]\n"
          ]
        },
        {
          "output_type": "stream",
          "name": "stdout",
          "text": [
            "Epoch 4, Loss: 1.9292318642139434, lr = 0.1\n"
          ]
        },
        {
          "output_type": "stream",
          "name": "stderr",
          "text": [
            "Epoch 5/50  Augmentation : Cutout: 100%|██████████| 40/40 [00:02<00:00, 18.52it/s, Loss=1.8]\n"
          ]
        },
        {
          "output_type": "stream",
          "name": "stdout",
          "text": [
            "Epoch 5, Loss: 1.8494455844163895, lr = 0.1\n"
          ]
        },
        {
          "output_type": "stream",
          "name": "stderr",
          "text": [
            "Epoch 6/50  Augmentation : Cutout: 100%|██████████| 40/40 [00:02<00:00, 18.09it/s, Loss=1.4]\n"
          ]
        },
        {
          "output_type": "stream",
          "name": "stdout",
          "text": [
            "Epoch 6, Loss: 1.730076077580452, lr = 0.1\n"
          ]
        },
        {
          "output_type": "stream",
          "name": "stderr",
          "text": [
            "Epoch 7/50  Augmentation : Cutout: 100%|██████████| 40/40 [00:02<00:00, 19.45it/s, Loss=1.85]\n"
          ]
        },
        {
          "output_type": "stream",
          "name": "stdout",
          "text": [
            "Epoch 7, Loss: 1.613572508096695, lr = 0.1\n"
          ]
        },
        {
          "output_type": "stream",
          "name": "stderr",
          "text": [
            "Epoch 8/50  Augmentation : Cutout: 100%|██████████| 40/40 [00:02<00:00, 17.80it/s, Loss=1.3]\n"
          ]
        },
        {
          "output_type": "stream",
          "name": "stdout",
          "text": [
            "Epoch 8, Loss: 1.5535451918840408, lr = 0.1\n"
          ]
        },
        {
          "output_type": "stream",
          "name": "stderr",
          "text": [
            "Epoch 9/50  Augmentation : Cutout: 100%|██████████| 40/40 [00:02<00:00, 18.36it/s, Loss=1.16]\n"
          ]
        },
        {
          "output_type": "stream",
          "name": "stdout",
          "text": [
            "Epoch 9, Loss: 1.4416639626026153, lr = 0.1\n"
          ]
        },
        {
          "output_type": "stream",
          "name": "stderr",
          "text": [
            "Epoch 10/50  Augmentation : Cutout: 100%|██████████| 40/40 [00:02<00:00, 19.37it/s, Loss=1.36]\n"
          ]
        },
        {
          "output_type": "stream",
          "name": "stdout",
          "text": [
            "Epoch 10, Loss: 1.3680873543024064, lr = 0.1\n"
          ]
        },
        {
          "output_type": "stream",
          "name": "stderr",
          "text": [
            "Epoch 11/50  Augmentation : Cutout: 100%|██████████| 40/40 [00:02<00:00, 19.01it/s, Loss=1.16]\n"
          ]
        },
        {
          "output_type": "stream",
          "name": "stdout",
          "text": [
            "Epoch 11, Loss: 1.2921386688947678, lr = 0.1\n"
          ]
        },
        {
          "output_type": "stream",
          "name": "stderr",
          "text": [
            "Epoch 12/50  Augmentation : Cutout: 100%|██████████| 40/40 [00:02<00:00, 19.13it/s, Loss=1.29]\n"
          ]
        },
        {
          "output_type": "stream",
          "name": "stdout",
          "text": [
            "Epoch 12, Loss: 1.2694574892520905, lr = 0.1\n"
          ]
        },
        {
          "output_type": "stream",
          "name": "stderr",
          "text": [
            "Epoch 13/50  Augmentation : Cutout: 100%|██████████| 40/40 [00:02<00:00, 19.07it/s, Loss=1.28]\n"
          ]
        },
        {
          "output_type": "stream",
          "name": "stdout",
          "text": [
            "Epoch 13, Loss: 1.1835176438093185, lr = 0.1\n"
          ]
        },
        {
          "output_type": "stream",
          "name": "stderr",
          "text": [
            "Epoch 14/50  Augmentation : Cutout: 100%|██████████| 40/40 [00:02<00:00, 16.63it/s, Loss=1.17]\n"
          ]
        },
        {
          "output_type": "stream",
          "name": "stdout",
          "text": [
            "Epoch 14, Loss: 1.2367045909166337, lr = 0.1\n"
          ]
        },
        {
          "output_type": "stream",
          "name": "stderr",
          "text": [
            "Epoch 15/50  Augmentation : Cutout: 100%|██████████| 40/40 [00:02<00:00, 18.81it/s, Loss=1.31]\n"
          ]
        },
        {
          "output_type": "stream",
          "name": "stdout",
          "text": [
            "Epoch 15, Loss: 1.1414059221744537, lr = 0.1\n"
          ]
        },
        {
          "output_type": "stream",
          "name": "stderr",
          "text": [
            "Epoch 16/50  Augmentation : Cutout: 100%|██████████| 40/40 [00:02<00:00, 19.06it/s, Loss=1]\n"
          ]
        },
        {
          "output_type": "stream",
          "name": "stdout",
          "text": [
            "Epoch 16, Loss: 1.1756453216075897, lr = 0.1\n"
          ]
        },
        {
          "output_type": "stream",
          "name": "stderr",
          "text": [
            "Epoch 17/50  Augmentation : Cutout: 100%|██████████| 40/40 [00:02<00:00, 18.33it/s, Loss=0.963]\n"
          ]
        },
        {
          "output_type": "stream",
          "name": "stdout",
          "text": [
            "Epoch 17, Loss: 1.0885704010725021, lr = 0.1\n"
          ]
        },
        {
          "output_type": "stream",
          "name": "stderr",
          "text": [
            "Epoch 18/50  Augmentation : Cutout: 100%|██████████| 40/40 [00:02<00:00, 19.05it/s, Loss=0.962]\n"
          ]
        },
        {
          "output_type": "stream",
          "name": "stdout",
          "text": [
            "Epoch 18, Loss: 0.9718713656067848, lr = 0.1\n"
          ]
        },
        {
          "output_type": "stream",
          "name": "stderr",
          "text": [
            "Epoch 19/50  Augmentation : Cutout: 100%|██████████| 40/40 [00:02<00:00, 17.31it/s, Loss=1.43]\n"
          ]
        },
        {
          "output_type": "stream",
          "name": "stdout",
          "text": [
            "Epoch 19, Loss: 0.9275829955935478, lr = 0.1\n"
          ]
        },
        {
          "output_type": "stream",
          "name": "stderr",
          "text": [
            "Epoch 20/50  Augmentation : Cutout: 100%|██████████| 40/40 [00:02<00:00, 18.70it/s, Loss=0.931]\n"
          ]
        },
        {
          "output_type": "stream",
          "name": "stdout",
          "text": [
            "Epoch 20, Loss: 0.9810720264911652, lr = 0.020000000000000004\n"
          ]
        },
        {
          "output_type": "stream",
          "name": "stderr",
          "text": [
            "Epoch 21/50  Augmentation : Cutout: 100%|██████████| 40/40 [00:02<00:00, 18.74it/s, Loss=0.588]\n"
          ]
        },
        {
          "output_type": "stream",
          "name": "stdout",
          "text": [
            "Epoch 21, Loss: 0.6985423624515533, lr = 0.020000000000000004\n"
          ]
        },
        {
          "output_type": "stream",
          "name": "stderr",
          "text": [
            "Epoch 22/50  Augmentation : Cutout: 100%|██████████| 40/40 [00:02<00:00, 19.27it/s, Loss=0.684]\n"
          ]
        },
        {
          "output_type": "stream",
          "name": "stdout",
          "text": [
            "Epoch 22, Loss: 0.5858653701841832, lr = 0.020000000000000004\n"
          ]
        },
        {
          "output_type": "stream",
          "name": "stderr",
          "text": [
            "Epoch 23/50  Augmentation : Cutout: 100%|██████████| 40/40 [00:02<00:00, 18.42it/s, Loss=0.637]\n"
          ]
        },
        {
          "output_type": "stream",
          "name": "stdout",
          "text": [
            "Epoch 23, Loss: 0.5228429324924946, lr = 0.020000000000000004\n"
          ]
        },
        {
          "output_type": "stream",
          "name": "stderr",
          "text": [
            "Epoch 24/50  Augmentation : Cutout: 100%|██████████| 40/40 [00:02<00:00, 18.45it/s, Loss=0.83]\n"
          ]
        },
        {
          "output_type": "stream",
          "name": "stdout",
          "text": [
            "Epoch 24, Loss: 0.4783197619020939, lr = 0.020000000000000004\n"
          ]
        },
        {
          "output_type": "stream",
          "name": "stderr",
          "text": [
            "Epoch 25/50  Augmentation : Cutout: 100%|██████████| 40/40 [00:02<00:00, 17.66it/s, Loss=0.24]\n"
          ]
        },
        {
          "output_type": "stream",
          "name": "stdout",
          "text": [
            "Epoch 25, Loss: 0.44380093105137347, lr = 0.020000000000000004\n"
          ]
        },
        {
          "output_type": "stream",
          "name": "stderr",
          "text": [
            "Epoch 26/50  Augmentation : Cutout: 100%|██████████| 40/40 [00:02<00:00, 18.67it/s, Loss=0.282]\n"
          ]
        },
        {
          "output_type": "stream",
          "name": "stdout",
          "text": [
            "Epoch 26, Loss: 0.38210115060210226, lr = 0.020000000000000004\n"
          ]
        },
        {
          "output_type": "stream",
          "name": "stderr",
          "text": [
            "Epoch 27/50  Augmentation : Cutout: 100%|██████████| 40/40 [00:02<00:00, 19.15it/s, Loss=0.278]\n"
          ]
        },
        {
          "output_type": "stream",
          "name": "stdout",
          "text": [
            "Epoch 27, Loss: 0.3614384777843952, lr = 0.020000000000000004\n"
          ]
        },
        {
          "output_type": "stream",
          "name": "stderr",
          "text": [
            "Epoch 28/50  Augmentation : Cutout: 100%|██████████| 40/40 [00:02<00:00, 18.82it/s, Loss=0.311]\n"
          ]
        },
        {
          "output_type": "stream",
          "name": "stdout",
          "text": [
            "Epoch 28, Loss: 0.3398799322545528, lr = 0.020000000000000004\n"
          ]
        },
        {
          "output_type": "stream",
          "name": "stderr",
          "text": [
            "Epoch 29/50  Augmentation : Cutout: 100%|██████████| 40/40 [00:02<00:00, 18.70it/s, Loss=0.263]\n"
          ]
        },
        {
          "output_type": "stream",
          "name": "stdout",
          "text": [
            "Epoch 29, Loss: 0.3354156449437141, lr = 0.020000000000000004\n"
          ]
        },
        {
          "output_type": "stream",
          "name": "stderr",
          "text": [
            "Epoch 30/50  Augmentation : Cutout: 100%|██████████| 40/40 [00:02<00:00, 16.91it/s, Loss=0.4]\n"
          ]
        },
        {
          "output_type": "stream",
          "name": "stdout",
          "text": [
            "Epoch 30, Loss: 0.31326746195554733, lr = 0.020000000000000004\n"
          ]
        },
        {
          "output_type": "stream",
          "name": "stderr",
          "text": [
            "Epoch 31/50  Augmentation : Cutout: 100%|██████████| 40/40 [00:02<00:00, 18.93it/s, Loss=0.35]\n"
          ]
        },
        {
          "output_type": "stream",
          "name": "stdout",
          "text": [
            "Epoch 31, Loss: 0.3052175991237164, lr = 0.020000000000000004\n"
          ]
        },
        {
          "output_type": "stream",
          "name": "stderr",
          "text": [
            "Epoch 32/50  Augmentation : Cutout: 100%|██████████| 40/40 [00:02<00:00, 18.45it/s, Loss=0.0618]\n"
          ]
        },
        {
          "output_type": "stream",
          "name": "stdout",
          "text": [
            "Epoch 32, Loss: 0.29679998802021146, lr = 0.020000000000000004\n"
          ]
        },
        {
          "output_type": "stream",
          "name": "stderr",
          "text": [
            "Epoch 33/50  Augmentation : Cutout: 100%|██████████| 40/40 [00:02<00:00, 19.10it/s, Loss=0.299]\n"
          ]
        },
        {
          "output_type": "stream",
          "name": "stdout",
          "text": [
            "Epoch 33, Loss: 0.26111217103898526, lr = 0.020000000000000004\n"
          ]
        },
        {
          "output_type": "stream",
          "name": "stderr",
          "text": [
            "Epoch 34/50  Augmentation : Cutout: 100%|██████████| 40/40 [00:02<00:00, 19.29it/s, Loss=0.0946]\n"
          ]
        },
        {
          "output_type": "stream",
          "name": "stdout",
          "text": [
            "Epoch 34, Loss: 0.26462108436971904, lr = 0.020000000000000004\n"
          ]
        },
        {
          "output_type": "stream",
          "name": "stderr",
          "text": [
            "Epoch 35/50  Augmentation : Cutout: 100%|██████████| 40/40 [00:02<00:00, 17.52it/s, Loss=0.167]\n"
          ]
        },
        {
          "output_type": "stream",
          "name": "stdout",
          "text": [
            "Epoch 35, Loss: 0.24969829097390175, lr = 0.020000000000000004\n"
          ]
        },
        {
          "output_type": "stream",
          "name": "stderr",
          "text": [
            "Epoch 36/50  Augmentation : Cutout: 100%|██████████| 40/40 [00:02<00:00, 18.85it/s, Loss=0.183]\n"
          ]
        },
        {
          "output_type": "stream",
          "name": "stdout",
          "text": [
            "Epoch 36, Loss: 0.22702371031045915, lr = 0.020000000000000004\n"
          ]
        },
        {
          "output_type": "stream",
          "name": "stderr",
          "text": [
            "Epoch 37/50  Augmentation : Cutout: 100%|██████████| 40/40 [00:02<00:00, 19.15it/s, Loss=0.12]\n"
          ]
        },
        {
          "output_type": "stream",
          "name": "stdout",
          "text": [
            "Epoch 37, Loss: 0.2178660599514842, lr = 0.020000000000000004\n"
          ]
        },
        {
          "output_type": "stream",
          "name": "stderr",
          "text": [
            "Epoch 38/50  Augmentation : Cutout: 100%|██████████| 40/40 [00:02<00:00, 19.03it/s, Loss=0.185]\n"
          ]
        },
        {
          "output_type": "stream",
          "name": "stdout",
          "text": [
            "Epoch 38, Loss: 0.22950392607599496, lr = 0.020000000000000004\n"
          ]
        },
        {
          "output_type": "stream",
          "name": "stderr",
          "text": [
            "Epoch 39/50  Augmentation : Cutout: 100%|██████████| 40/40 [00:02<00:00, 19.52it/s, Loss=0.164]\n"
          ]
        },
        {
          "output_type": "stream",
          "name": "stdout",
          "text": [
            "Epoch 39, Loss: 0.22573857977986336, lr = 0.020000000000000004\n"
          ]
        },
        {
          "output_type": "stream",
          "name": "stderr",
          "text": [
            "Epoch 40/50  Augmentation : Cutout: 100%|██████████| 40/40 [00:02<00:00, 19.63it/s, Loss=0.1]\n"
          ]
        },
        {
          "output_type": "stream",
          "name": "stdout",
          "text": [
            "Epoch 40, Loss: 0.22463695388287305, lr = 0.004000000000000001\n"
          ]
        },
        {
          "output_type": "stream",
          "name": "stderr",
          "text": [
            "Epoch 41/50  Augmentation : Cutout: 100%|██████████| 40/40 [00:02<00:00, 16.87it/s, Loss=0.21]\n"
          ]
        },
        {
          "output_type": "stream",
          "name": "stdout",
          "text": [
            "Epoch 41, Loss: 0.18696008417755366, lr = 0.004000000000000001\n"
          ]
        },
        {
          "output_type": "stream",
          "name": "stderr",
          "text": [
            "Epoch 42/50  Augmentation : Cutout: 100%|██████████| 40/40 [00:02<00:00, 18.78it/s, Loss=0.149]\n"
          ]
        },
        {
          "output_type": "stream",
          "name": "stdout",
          "text": [
            "Epoch 42, Loss: 0.16445968244224787, lr = 0.004000000000000001\n"
          ]
        },
        {
          "output_type": "stream",
          "name": "stderr",
          "text": [
            "Epoch 43/50  Augmentation : Cutout: 100%|██████████| 40/40 [00:02<00:00, 18.99it/s, Loss=0.282]\n"
          ]
        },
        {
          "output_type": "stream",
          "name": "stdout",
          "text": [
            "Epoch 43, Loss: 0.1648679045960307, lr = 0.004000000000000001\n"
          ]
        },
        {
          "output_type": "stream",
          "name": "stderr",
          "text": [
            "Epoch 44/50  Augmentation : Cutout: 100%|██████████| 40/40 [00:02<00:00, 18.97it/s, Loss=0.0468]\n"
          ]
        },
        {
          "output_type": "stream",
          "name": "stdout",
          "text": [
            "Epoch 44, Loss: 0.16655850233510136, lr = 0.004000000000000001\n"
          ]
        },
        {
          "output_type": "stream",
          "name": "stderr",
          "text": [
            "Epoch 45/50  Augmentation : Cutout: 100%|██████████| 40/40 [00:02<00:00, 19.60it/s, Loss=0.224]\n"
          ]
        },
        {
          "output_type": "stream",
          "name": "stdout",
          "text": [
            "Epoch 45, Loss: 0.15974217727780343, lr = 0.004000000000000001\n"
          ]
        },
        {
          "output_type": "stream",
          "name": "stderr",
          "text": [
            "Epoch 46/50  Augmentation : Cutout: 100%|██████████| 40/40 [00:02<00:00, 18.12it/s, Loss=0.0247]\n"
          ]
        },
        {
          "output_type": "stream",
          "name": "stdout",
          "text": [
            "Epoch 46, Loss: 0.15834745671600103, lr = 0.004000000000000001\n"
          ]
        },
        {
          "output_type": "stream",
          "name": "stderr",
          "text": [
            "Epoch 47/50  Augmentation : Cutout: 100%|██████████| 40/40 [00:02<00:00, 18.61it/s, Loss=0.0418]\n"
          ]
        },
        {
          "output_type": "stream",
          "name": "stdout",
          "text": [
            "Epoch 47, Loss: 0.15036554224789142, lr = 0.004000000000000001\n"
          ]
        },
        {
          "output_type": "stream",
          "name": "stderr",
          "text": [
            "Epoch 48/50  Augmentation : Cutout: 100%|██████████| 40/40 [00:02<00:00, 18.87it/s, Loss=0.032]\n"
          ]
        },
        {
          "output_type": "stream",
          "name": "stdout",
          "text": [
            "Epoch 48, Loss: 0.14776920657604933, lr = 0.004000000000000001\n"
          ]
        },
        {
          "output_type": "stream",
          "name": "stderr",
          "text": [
            "Epoch 49/50  Augmentation : Cutout: 100%|██████████| 40/40 [00:02<00:00, 19.18it/s, Loss=0.173]\n"
          ]
        },
        {
          "output_type": "stream",
          "name": "stdout",
          "text": [
            "Epoch 49, Loss: 0.15177751127630473, lr = 0.004000000000000001\n"
          ]
        },
        {
          "output_type": "stream",
          "name": "stderr",
          "text": [
            "Epoch 50/50  Augmentation : Cutout: 100%|██████████| 40/40 [00:02<00:00, 19.49it/s, Loss=0.111]\n"
          ]
        },
        {
          "output_type": "stream",
          "name": "stdout",
          "text": [
            "Epoch 50, Loss: 0.1458327453583479, lr = 0.004000000000000001\n",
            "Test Loss : 1.9412368357181549, Test Accuracy : 61.21%\n",
            "[Seed : 4710 Experiment Start]\n",
            "\n"
          ]
        },
        {
          "output_type": "stream",
          "name": "stderr",
          "text": [
            "Epoch 1/50  Augmentation : All: 100%|██████████| 40/40 [00:02<00:00, 13.79it/s, Loss=2.3]\n"
          ]
        },
        {
          "output_type": "stream",
          "name": "stdout",
          "text": [
            "Epoch 1, Loss: 2.3025895714759828, lr = 0.1\n"
          ]
        },
        {
          "output_type": "stream",
          "name": "stderr",
          "text": [
            "Epoch 2/50  Augmentation : All: 100%|██████████| 40/40 [00:02<00:00, 14.94it/s, Loss=2.2]\n"
          ]
        },
        {
          "output_type": "stream",
          "name": "stdout",
          "text": [
            "Epoch 2, Loss: 2.233509546518326, lr = 0.1\n"
          ]
        },
        {
          "output_type": "stream",
          "name": "stderr",
          "text": [
            "Epoch 3/50  Augmentation : All: 100%|██████████| 40/40 [00:02<00:00, 14.90it/s, Loss=2.12]\n"
          ]
        },
        {
          "output_type": "stream",
          "name": "stdout",
          "text": [
            "Epoch 3, Loss: 2.066988629102707, lr = 0.1\n"
          ]
        },
        {
          "output_type": "stream",
          "name": "stderr",
          "text": [
            "Epoch 4/50  Augmentation : All: 100%|██████████| 40/40 [00:02<00:00, 14.69it/s, Loss=2.03]\n"
          ]
        },
        {
          "output_type": "stream",
          "name": "stdout",
          "text": [
            "Epoch 4, Loss: 1.9919814497232438, lr = 0.1\n"
          ]
        },
        {
          "output_type": "stream",
          "name": "stderr",
          "text": [
            "Epoch 5/50  Augmentation : All: 100%|██████████| 40/40 [00:03<00:00, 12.80it/s, Loss=1.82]\n"
          ]
        },
        {
          "output_type": "stream",
          "name": "stdout",
          "text": [
            "Epoch 5, Loss: 1.9339909881353379, lr = 0.1\n"
          ]
        },
        {
          "output_type": "stream",
          "name": "stderr",
          "text": [
            "Epoch 6/50  Augmentation : All: 100%|██████████| 40/40 [00:02<00:00, 14.71it/s, Loss=1.59]\n"
          ]
        },
        {
          "output_type": "stream",
          "name": "stdout",
          "text": [
            "Epoch 6, Loss: 1.848627108335495, lr = 0.1\n"
          ]
        },
        {
          "output_type": "stream",
          "name": "stderr",
          "text": [
            "Epoch 7/50  Augmentation : All: 100%|██████████| 40/40 [00:02<00:00, 14.79it/s, Loss=1.85]\n"
          ]
        },
        {
          "output_type": "stream",
          "name": "stdout",
          "text": [
            "Epoch 7, Loss: 1.7425611078739167, lr = 0.1\n"
          ]
        },
        {
          "output_type": "stream",
          "name": "stderr",
          "text": [
            "Epoch 8/50  Augmentation : All: 100%|██████████| 40/40 [00:02<00:00, 14.80it/s, Loss=1.37]\n"
          ]
        },
        {
          "output_type": "stream",
          "name": "stdout",
          "text": [
            "Epoch 8, Loss: 1.6795783013105392, lr = 0.1\n"
          ]
        },
        {
          "output_type": "stream",
          "name": "stderr",
          "text": [
            "Epoch 9/50  Augmentation : All: 100%|██████████| 40/40 [00:03<00:00, 12.51it/s, Loss=1.19]\n"
          ]
        },
        {
          "output_type": "stream",
          "name": "stdout",
          "text": [
            "Epoch 9, Loss: 1.6139186382293702, lr = 0.1\n"
          ]
        },
        {
          "output_type": "stream",
          "name": "stderr",
          "text": [
            "Epoch 10/50  Augmentation : All: 100%|██████████| 40/40 [00:02<00:00, 14.40it/s, Loss=1.48]\n"
          ]
        },
        {
          "output_type": "stream",
          "name": "stdout",
          "text": [
            "Epoch 10, Loss: 1.6211191594600678, lr = 0.1\n"
          ]
        },
        {
          "output_type": "stream",
          "name": "stderr",
          "text": [
            "Epoch 11/50  Augmentation : All: 100%|██████████| 40/40 [00:02<00:00, 14.91it/s, Loss=1.64]\n"
          ]
        },
        {
          "output_type": "stream",
          "name": "stdout",
          "text": [
            "Epoch 11, Loss: 1.5614650398492813, lr = 0.1\n"
          ]
        },
        {
          "output_type": "stream",
          "name": "stderr",
          "text": [
            "Epoch 12/50  Augmentation : All: 100%|██████████| 40/40 [00:02<00:00, 14.70it/s, Loss=1.42]\n"
          ]
        },
        {
          "output_type": "stream",
          "name": "stdout",
          "text": [
            "Epoch 12, Loss: 1.544691488146782, lr = 0.1\n"
          ]
        },
        {
          "output_type": "stream",
          "name": "stderr",
          "text": [
            "Epoch 13/50  Augmentation : All: 100%|██████████| 40/40 [00:03<00:00, 13.23it/s, Loss=1.39]\n"
          ]
        },
        {
          "output_type": "stream",
          "name": "stdout",
          "text": [
            "Epoch 13, Loss: 1.459903571009636, lr = 0.1\n"
          ]
        },
        {
          "output_type": "stream",
          "name": "stderr",
          "text": [
            "Epoch 14/50  Augmentation : All: 100%|██████████| 40/40 [00:02<00:00, 14.56it/s, Loss=1.44]\n"
          ]
        },
        {
          "output_type": "stream",
          "name": "stdout",
          "text": [
            "Epoch 14, Loss: 1.489910426735878, lr = 0.1\n"
          ]
        },
        {
          "output_type": "stream",
          "name": "stderr",
          "text": [
            "Epoch 15/50  Augmentation : All: 100%|██████████| 40/40 [00:02<00:00, 14.80it/s, Loss=1.4]\n"
          ]
        },
        {
          "output_type": "stream",
          "name": "stdout",
          "text": [
            "Epoch 15, Loss: 1.4226860523223877, lr = 0.1\n"
          ]
        },
        {
          "output_type": "stream",
          "name": "stderr",
          "text": [
            "Epoch 16/50  Augmentation : All: 100%|██████████| 40/40 [00:02<00:00, 14.63it/s, Loss=1.39]\n"
          ]
        },
        {
          "output_type": "stream",
          "name": "stdout",
          "text": [
            "Epoch 16, Loss: 1.403512391448021, lr = 0.1\n"
          ]
        },
        {
          "output_type": "stream",
          "name": "stderr",
          "text": [
            "Epoch 17/50  Augmentation : All: 100%|██████████| 40/40 [00:02<00:00, 13.84it/s, Loss=1.43]\n"
          ]
        },
        {
          "output_type": "stream",
          "name": "stdout",
          "text": [
            "Epoch 17, Loss: 1.3685286551713944, lr = 0.1\n"
          ]
        },
        {
          "output_type": "stream",
          "name": "stderr",
          "text": [
            "Epoch 18/50  Augmentation : All: 100%|██████████| 40/40 [00:02<00:00, 14.67it/s, Loss=1.28]\n"
          ]
        },
        {
          "output_type": "stream",
          "name": "stdout",
          "text": [
            "Epoch 18, Loss: 1.3334670811891556, lr = 0.1\n"
          ]
        },
        {
          "output_type": "stream",
          "name": "stderr",
          "text": [
            "Epoch 19/50  Augmentation : All: 100%|██████████| 40/40 [00:02<00:00, 14.70it/s, Loss=1.22]\n"
          ]
        },
        {
          "output_type": "stream",
          "name": "stdout",
          "text": [
            "Epoch 19, Loss: 1.3224061191082002, lr = 0.1\n"
          ]
        },
        {
          "output_type": "stream",
          "name": "stderr",
          "text": [
            "Epoch 20/50  Augmentation : All: 100%|██████████| 40/40 [00:02<00:00, 14.78it/s, Loss=1.23]\n"
          ]
        },
        {
          "output_type": "stream",
          "name": "stdout",
          "text": [
            "Epoch 20, Loss: 1.3012427896261216, lr = 0.020000000000000004\n"
          ]
        },
        {
          "output_type": "stream",
          "name": "stderr",
          "text": [
            "Epoch 21/50  Augmentation : All: 100%|██████████| 40/40 [00:02<00:00, 14.18it/s, Loss=1.22]\n"
          ]
        },
        {
          "output_type": "stream",
          "name": "stdout",
          "text": [
            "Epoch 21, Loss: 1.1970930725336075, lr = 0.020000000000000004\n"
          ]
        },
        {
          "output_type": "stream",
          "name": "stderr",
          "text": [
            "Epoch 22/50  Augmentation : All: 100%|██████████| 40/40 [00:02<00:00, 14.27it/s, Loss=1.08]\n"
          ]
        },
        {
          "output_type": "stream",
          "name": "stdout",
          "text": [
            "Epoch 22, Loss: 1.1306808084249496, lr = 0.020000000000000004\n"
          ]
        },
        {
          "output_type": "stream",
          "name": "stderr",
          "text": [
            "Epoch 23/50  Augmentation : All: 100%|██████████| 40/40 [00:02<00:00, 14.27it/s, Loss=1.09]\n"
          ]
        },
        {
          "output_type": "stream",
          "name": "stdout",
          "text": [
            "Epoch 23, Loss: 1.1106368213891984, lr = 0.020000000000000004\n"
          ]
        },
        {
          "output_type": "stream",
          "name": "stderr",
          "text": [
            "Epoch 24/50  Augmentation : All: 100%|██████████| 40/40 [00:02<00:00, 14.77it/s, Loss=1.08]\n"
          ]
        },
        {
          "output_type": "stream",
          "name": "stdout",
          "text": [
            "Epoch 24, Loss: 1.1019361719489098, lr = 0.020000000000000004\n"
          ]
        },
        {
          "output_type": "stream",
          "name": "stderr",
          "text": [
            "Epoch 25/50  Augmentation : All: 100%|██████████| 40/40 [00:02<00:00, 14.41it/s, Loss=1.14]\n"
          ]
        },
        {
          "output_type": "stream",
          "name": "stdout",
          "text": [
            "Epoch 25, Loss: 1.0856667160987854, lr = 0.020000000000000004\n"
          ]
        },
        {
          "output_type": "stream",
          "name": "stderr",
          "text": [
            "Epoch 26/50  Augmentation : All: 100%|██████████| 40/40 [00:03<00:00, 13.25it/s, Loss=1.26]\n"
          ]
        },
        {
          "output_type": "stream",
          "name": "stdout",
          "text": [
            "Epoch 26, Loss: 1.0673213765025138, lr = 0.020000000000000004\n"
          ]
        },
        {
          "output_type": "stream",
          "name": "stderr",
          "text": [
            "Epoch 27/50  Augmentation : All: 100%|██████████| 40/40 [00:02<00:00, 14.64it/s, Loss=0.908]\n"
          ]
        },
        {
          "output_type": "stream",
          "name": "stdout",
          "text": [
            "Epoch 27, Loss: 1.050308158993721, lr = 0.020000000000000004\n"
          ]
        },
        {
          "output_type": "stream",
          "name": "stderr",
          "text": [
            "Epoch 28/50  Augmentation : All: 100%|██████████| 40/40 [00:02<00:00, 14.53it/s, Loss=1.06]\n"
          ]
        },
        {
          "output_type": "stream",
          "name": "stdout",
          "text": [
            "Epoch 28, Loss: 1.0451520562171936, lr = 0.020000000000000004\n"
          ]
        },
        {
          "output_type": "stream",
          "name": "stderr",
          "text": [
            "Epoch 29/50  Augmentation : All: 100%|██████████| 40/40 [00:02<00:00, 14.52it/s, Loss=0.844]\n"
          ]
        },
        {
          "output_type": "stream",
          "name": "stdout",
          "text": [
            "Epoch 29, Loss: 1.0357714518904686, lr = 0.020000000000000004\n"
          ]
        },
        {
          "output_type": "stream",
          "name": "stderr",
          "text": [
            "Epoch 30/50  Augmentation : All: 100%|██████████| 40/40 [00:03<00:00, 12.93it/s, Loss=1.17]\n"
          ]
        },
        {
          "output_type": "stream",
          "name": "stdout",
          "text": [
            "Epoch 30, Loss: 1.036341278254986, lr = 0.020000000000000004\n"
          ]
        },
        {
          "output_type": "stream",
          "name": "stderr",
          "text": [
            "Epoch 31/50  Augmentation : All: 100%|██████████| 40/40 [00:02<00:00, 14.49it/s, Loss=0.967]\n"
          ]
        },
        {
          "output_type": "stream",
          "name": "stdout",
          "text": [
            "Epoch 31, Loss: 1.01237483471632, lr = 0.020000000000000004\n"
          ]
        },
        {
          "output_type": "stream",
          "name": "stderr",
          "text": [
            "Epoch 32/50  Augmentation : All: 100%|██████████| 40/40 [00:02<00:00, 14.65it/s, Loss=0.733]\n"
          ]
        },
        {
          "output_type": "stream",
          "name": "stdout",
          "text": [
            "Epoch 32, Loss: 0.9927800089120865, lr = 0.020000000000000004\n"
          ]
        },
        {
          "output_type": "stream",
          "name": "stderr",
          "text": [
            "Epoch 33/50  Augmentation : All: 100%|██████████| 40/40 [00:02<00:00, 14.40it/s, Loss=0.707]\n"
          ]
        },
        {
          "output_type": "stream",
          "name": "stdout",
          "text": [
            "Epoch 33, Loss: 0.9806905329227448, lr = 0.020000000000000004\n"
          ]
        },
        {
          "output_type": "stream",
          "name": "stderr",
          "text": [
            "Epoch 34/50  Augmentation : All: 100%|██████████| 40/40 [00:03<00:00, 12.99it/s, Loss=0.839]\n"
          ]
        },
        {
          "output_type": "stream",
          "name": "stdout",
          "text": [
            "Epoch 34, Loss: 0.9658043801784515, lr = 0.020000000000000004\n"
          ]
        },
        {
          "output_type": "stream",
          "name": "stderr",
          "text": [
            "Epoch 35/50  Augmentation : All: 100%|██████████| 40/40 [00:02<00:00, 14.58it/s, Loss=1.11]\n"
          ]
        },
        {
          "output_type": "stream",
          "name": "stdout",
          "text": [
            "Epoch 35, Loss: 0.9919151932001113, lr = 0.020000000000000004\n"
          ]
        },
        {
          "output_type": "stream",
          "name": "stderr",
          "text": [
            "Epoch 36/50  Augmentation : All: 100%|██████████| 40/40 [00:02<00:00, 14.29it/s, Loss=0.819]\n"
          ]
        },
        {
          "output_type": "stream",
          "name": "stdout",
          "text": [
            "Epoch 36, Loss: 0.9498748406767845, lr = 0.020000000000000004\n"
          ]
        },
        {
          "output_type": "stream",
          "name": "stderr",
          "text": [
            "Epoch 37/50  Augmentation : All: 100%|██████████| 40/40 [00:02<00:00, 14.21it/s, Loss=0.907]\n"
          ]
        },
        {
          "output_type": "stream",
          "name": "stdout",
          "text": [
            "Epoch 37, Loss: 0.9423140048980713, lr = 0.020000000000000004\n"
          ]
        },
        {
          "output_type": "stream",
          "name": "stderr",
          "text": [
            "Epoch 38/50  Augmentation : All: 100%|██████████| 40/40 [00:03<00:00, 12.78it/s, Loss=0.851]\n"
          ]
        },
        {
          "output_type": "stream",
          "name": "stdout",
          "text": [
            "Epoch 38, Loss: 0.9342639699578286, lr = 0.020000000000000004\n"
          ]
        },
        {
          "output_type": "stream",
          "name": "stderr",
          "text": [
            "Epoch 39/50  Augmentation : All: 100%|██████████| 40/40 [00:02<00:00, 14.54it/s, Loss=0.913]\n"
          ]
        },
        {
          "output_type": "stream",
          "name": "stdout",
          "text": [
            "Epoch 39, Loss: 0.9403722196817398, lr = 0.020000000000000004\n"
          ]
        },
        {
          "output_type": "stream",
          "name": "stderr",
          "text": [
            "Epoch 40/50  Augmentation : All: 100%|██████████| 40/40 [00:02<00:00, 14.57it/s, Loss=0.802]\n"
          ]
        },
        {
          "output_type": "stream",
          "name": "stdout",
          "text": [
            "Epoch 40, Loss: 0.9072467848658562, lr = 0.004000000000000001\n"
          ]
        },
        {
          "output_type": "stream",
          "name": "stderr",
          "text": [
            "Epoch 41/50  Augmentation : All: 100%|██████████| 40/40 [00:02<00:00, 14.31it/s, Loss=0.956]\n"
          ]
        },
        {
          "output_type": "stream",
          "name": "stdout",
          "text": [
            "Epoch 41, Loss: 0.8769204840064049, lr = 0.004000000000000001\n"
          ]
        },
        {
          "output_type": "stream",
          "name": "stderr",
          "text": [
            "Epoch 42/50  Augmentation : All: 100%|██████████| 40/40 [00:03<00:00, 12.61it/s, Loss=1.04]\n"
          ]
        },
        {
          "output_type": "stream",
          "name": "stdout",
          "text": [
            "Epoch 42, Loss: 0.8528080150485039, lr = 0.004000000000000001\n"
          ]
        },
        {
          "output_type": "stream",
          "name": "stderr",
          "text": [
            "Epoch 43/50  Augmentation : All: 100%|██████████| 40/40 [00:02<00:00, 14.57it/s, Loss=0.94]\n"
          ]
        },
        {
          "output_type": "stream",
          "name": "stdout",
          "text": [
            "Epoch 43, Loss: 0.8387301534414291, lr = 0.004000000000000001\n"
          ]
        },
        {
          "output_type": "stream",
          "name": "stderr",
          "text": [
            "Epoch 44/50  Augmentation : All: 100%|██████████| 40/40 [00:02<00:00, 14.02it/s, Loss=0.662]\n"
          ]
        },
        {
          "output_type": "stream",
          "name": "stdout",
          "text": [
            "Epoch 44, Loss: 0.8273500025272369, lr = 0.004000000000000001\n"
          ]
        },
        {
          "output_type": "stream",
          "name": "stderr",
          "text": [
            "Epoch 45/50  Augmentation : All: 100%|██████████| 40/40 [00:02<00:00, 14.38it/s, Loss=0.749]\n"
          ]
        },
        {
          "output_type": "stream",
          "name": "stdout",
          "text": [
            "Epoch 45, Loss: 0.8259089723229408, lr = 0.004000000000000001\n"
          ]
        },
        {
          "output_type": "stream",
          "name": "stderr",
          "text": [
            "Epoch 46/50  Augmentation : All: 100%|██████████| 40/40 [00:03<00:00, 12.70it/s, Loss=0.816]\n"
          ]
        },
        {
          "output_type": "stream",
          "name": "stdout",
          "text": [
            "Epoch 46, Loss: 0.8121833339333534, lr = 0.004000000000000001\n"
          ]
        },
        {
          "output_type": "stream",
          "name": "stderr",
          "text": [
            "Epoch 47/50  Augmentation : All: 100%|██████████| 40/40 [00:02<00:00, 14.14it/s, Loss=0.643]\n"
          ]
        },
        {
          "output_type": "stream",
          "name": "stdout",
          "text": [
            "Epoch 47, Loss: 0.81389821767807, lr = 0.004000000000000001\n"
          ]
        },
        {
          "output_type": "stream",
          "name": "stderr",
          "text": [
            "Epoch 48/50  Augmentation : All: 100%|██████████| 40/40 [00:02<00:00, 14.22it/s, Loss=0.599]\n"
          ]
        },
        {
          "output_type": "stream",
          "name": "stdout",
          "text": [
            "Epoch 48, Loss: 0.8042626157402992, lr = 0.004000000000000001\n"
          ]
        },
        {
          "output_type": "stream",
          "name": "stderr",
          "text": [
            "Epoch 49/50  Augmentation : All: 100%|██████████| 40/40 [00:02<00:00, 14.49it/s, Loss=0.592]\n"
          ]
        },
        {
          "output_type": "stream",
          "name": "stdout",
          "text": [
            "Epoch 49, Loss: 0.7980290845036506, lr = 0.004000000000000001\n"
          ]
        },
        {
          "output_type": "stream",
          "name": "stderr",
          "text": [
            "Epoch 50/50  Augmentation : All: 100%|██████████| 40/40 [00:03<00:00, 12.52it/s, Loss=0.465]"
          ]
        },
        {
          "output_type": "stream",
          "name": "stdout",
          "text": [
            "Epoch 50, Loss: 0.7896596193313599, lr = 0.004000000000000001\n"
          ]
        },
        {
          "output_type": "stream",
          "name": "stderr",
          "text": [
            "\n"
          ]
        },
        {
          "output_type": "stream",
          "name": "stdout",
          "text": [
            "Test Loss : 1.0028811424970627, Test Accuracy : 66.94%\n",
            "[Seed : 5773 Experiment Start]\n",
            "\n"
          ]
        },
        {
          "output_type": "stream",
          "name": "stderr",
          "text": [
            "Epoch 1/50  Augmentation : None: 100%|██████████| 40/40 [00:01<00:00, 22.25it/s, Loss=2.31]\n"
          ]
        },
        {
          "output_type": "stream",
          "name": "stdout",
          "text": [
            "Epoch 1, Loss: 2.302726238965988, lr = 0.1\n"
          ]
        },
        {
          "output_type": "stream",
          "name": "stderr",
          "text": [
            "Epoch 2/50  Augmentation : None: 100%|██████████| 40/40 [00:01<00:00, 21.90it/s, Loss=2.08]\n"
          ]
        },
        {
          "output_type": "stream",
          "name": "stdout",
          "text": [
            "Epoch 2, Loss: 2.1950046360492705, lr = 0.1\n"
          ]
        },
        {
          "output_type": "stream",
          "name": "stderr",
          "text": [
            "Epoch 3/50  Augmentation : None: 100%|██████████| 40/40 [00:01<00:00, 23.39it/s, Loss=1.65]\n"
          ]
        },
        {
          "output_type": "stream",
          "name": "stdout",
          "text": [
            "Epoch 3, Loss: 1.965932235121727, lr = 0.1\n"
          ]
        },
        {
          "output_type": "stream",
          "name": "stderr",
          "text": [
            "Epoch 4/50  Augmentation : None: 100%|██████████| 40/40 [00:01<00:00, 22.76it/s, Loss=1.86]\n"
          ]
        },
        {
          "output_type": "stream",
          "name": "stdout",
          "text": [
            "Epoch 4, Loss: 1.8333650082349777, lr = 0.1\n"
          ]
        },
        {
          "output_type": "stream",
          "name": "stderr",
          "text": [
            "Epoch 5/50  Augmentation : None: 100%|██████████| 40/40 [00:01<00:00, 21.87it/s, Loss=1.59]\n"
          ]
        },
        {
          "output_type": "stream",
          "name": "stdout",
          "text": [
            "Epoch 5, Loss: 1.6441610902547836, lr = 0.1\n"
          ]
        },
        {
          "output_type": "stream",
          "name": "stderr",
          "text": [
            "Epoch 6/50  Augmentation : None: 100%|██████████| 40/40 [00:01<00:00, 22.88it/s, Loss=1.4]\n"
          ]
        },
        {
          "output_type": "stream",
          "name": "stdout",
          "text": [
            "Epoch 6, Loss: 1.5508658856153488, lr = 0.1\n"
          ]
        },
        {
          "output_type": "stream",
          "name": "stderr",
          "text": [
            "Epoch 7/50  Augmentation : None: 100%|██████████| 40/40 [00:01<00:00, 21.92it/s, Loss=1.3]\n"
          ]
        },
        {
          "output_type": "stream",
          "name": "stdout",
          "text": [
            "Epoch 7, Loss: 1.4803943812847138, lr = 0.1\n"
          ]
        },
        {
          "output_type": "stream",
          "name": "stderr",
          "text": [
            "Epoch 8/50  Augmentation : None: 100%|██████████| 40/40 [00:01<00:00, 23.28it/s, Loss=1.22]\n"
          ]
        },
        {
          "output_type": "stream",
          "name": "stdout",
          "text": [
            "Epoch 8, Loss: 1.3754924893379212, lr = 0.1\n"
          ]
        },
        {
          "output_type": "stream",
          "name": "stderr",
          "text": [
            "Epoch 9/50  Augmentation : None: 100%|██████████| 40/40 [00:01<00:00, 23.03it/s, Loss=1.5]\n"
          ]
        },
        {
          "output_type": "stream",
          "name": "stdout",
          "text": [
            "Epoch 9, Loss: 1.2880647957324982, lr = 0.1\n"
          ]
        },
        {
          "output_type": "stream",
          "name": "stderr",
          "text": [
            "Epoch 10/50  Augmentation : None: 100%|██████████| 40/40 [00:01<00:00, 23.12it/s, Loss=1.19]\n"
          ]
        },
        {
          "output_type": "stream",
          "name": "stdout",
          "text": [
            "Epoch 10, Loss: 1.3096065253019333, lr = 0.1\n"
          ]
        },
        {
          "output_type": "stream",
          "name": "stderr",
          "text": [
            "Epoch 11/50  Augmentation : None: 100%|██████████| 40/40 [00:01<00:00, 22.33it/s, Loss=0.822]\n"
          ]
        },
        {
          "output_type": "stream",
          "name": "stdout",
          "text": [
            "Epoch 11, Loss: 1.1284536942839622, lr = 0.1\n"
          ]
        },
        {
          "output_type": "stream",
          "name": "stderr",
          "text": [
            "Epoch 12/50  Augmentation : None: 100%|██████████| 40/40 [00:01<00:00, 21.42it/s, Loss=1.07]\n"
          ]
        },
        {
          "output_type": "stream",
          "name": "stdout",
          "text": [
            "Epoch 12, Loss: 1.0817539557814597, lr = 0.1\n"
          ]
        },
        {
          "output_type": "stream",
          "name": "stderr",
          "text": [
            "Epoch 13/50  Augmentation : None: 100%|██████████| 40/40 [00:01<00:00, 22.59it/s, Loss=1.04]\n"
          ]
        },
        {
          "output_type": "stream",
          "name": "stdout",
          "text": [
            "Epoch 13, Loss: 1.00698881149292, lr = 0.1\n"
          ]
        },
        {
          "output_type": "stream",
          "name": "stderr",
          "text": [
            "Epoch 14/50  Augmentation : None: 100%|██████████| 40/40 [00:01<00:00, 21.98it/s, Loss=1.42]\n"
          ]
        },
        {
          "output_type": "stream",
          "name": "stdout",
          "text": [
            "Epoch 14, Loss: 0.959650582075119, lr = 0.1\n"
          ]
        },
        {
          "output_type": "stream",
          "name": "stderr",
          "text": [
            "Epoch 15/50  Augmentation : None: 100%|██████████| 40/40 [00:01<00:00, 23.38it/s, Loss=0.867]\n"
          ]
        },
        {
          "output_type": "stream",
          "name": "stdout",
          "text": [
            "Epoch 15, Loss: 0.9112761408090592, lr = 0.1\n"
          ]
        },
        {
          "output_type": "stream",
          "name": "stderr",
          "text": [
            "Epoch 16/50  Augmentation : None: 100%|██████████| 40/40 [00:01<00:00, 22.71it/s, Loss=0.759]\n"
          ]
        },
        {
          "output_type": "stream",
          "name": "stdout",
          "text": [
            "Epoch 16, Loss: 0.9100639328360558, lr = 0.1\n"
          ]
        },
        {
          "output_type": "stream",
          "name": "stderr",
          "text": [
            "Epoch 17/50  Augmentation : None: 100%|██████████| 40/40 [00:01<00:00, 23.58it/s, Loss=0.59]\n"
          ]
        },
        {
          "output_type": "stream",
          "name": "stdout",
          "text": [
            "Epoch 17, Loss: 0.7753604099154472, lr = 0.1\n"
          ]
        },
        {
          "output_type": "stream",
          "name": "stderr",
          "text": [
            "Epoch 18/50  Augmentation : None: 100%|██████████| 40/40 [00:01<00:00, 21.01it/s, Loss=0.702]\n"
          ]
        },
        {
          "output_type": "stream",
          "name": "stdout",
          "text": [
            "Epoch 18, Loss: 0.6901036843657493, lr = 0.1\n"
          ]
        },
        {
          "output_type": "stream",
          "name": "stderr",
          "text": [
            "Epoch 19/50  Augmentation : None: 100%|██████████| 40/40 [00:01<00:00, 23.33it/s, Loss=0.575]\n"
          ]
        },
        {
          "output_type": "stream",
          "name": "stdout",
          "text": [
            "Epoch 19, Loss: 0.6653863966464997, lr = 0.1\n"
          ]
        },
        {
          "output_type": "stream",
          "name": "stderr",
          "text": [
            "Epoch 20/50  Augmentation : None: 100%|██████████| 40/40 [00:01<00:00, 22.41it/s, Loss=0.451]\n"
          ]
        },
        {
          "output_type": "stream",
          "name": "stdout",
          "text": [
            "Epoch 20, Loss: 0.5271324500441551, lr = 0.020000000000000004\n"
          ]
        },
        {
          "output_type": "stream",
          "name": "stderr",
          "text": [
            "Epoch 21/50  Augmentation : None: 100%|██████████| 40/40 [00:01<00:00, 22.55it/s, Loss=0.135]\n"
          ]
        },
        {
          "output_type": "stream",
          "name": "stdout",
          "text": [
            "Epoch 21, Loss: 0.3253207463771105, lr = 0.020000000000000004\n"
          ]
        },
        {
          "output_type": "stream",
          "name": "stderr",
          "text": [
            "Epoch 22/50  Augmentation : None: 100%|██████████| 40/40 [00:01<00:00, 23.46it/s, Loss=0.101]\n"
          ]
        },
        {
          "output_type": "stream",
          "name": "stdout",
          "text": [
            "Epoch 22, Loss: 0.1621451575309038, lr = 0.020000000000000004\n"
          ]
        },
        {
          "output_type": "stream",
          "name": "stderr",
          "text": [
            "Epoch 23/50  Augmentation : None: 100%|██████████| 40/40 [00:01<00:00, 23.11it/s, Loss=0.0821]\n"
          ]
        },
        {
          "output_type": "stream",
          "name": "stdout",
          "text": [
            "Epoch 23, Loss: 0.10197898736223579, lr = 0.020000000000000004\n"
          ]
        },
        {
          "output_type": "stream",
          "name": "stderr",
          "text": [
            "Epoch 24/50  Augmentation : None: 100%|██████████| 40/40 [00:01<00:00, 20.83it/s, Loss=0.068]\n"
          ]
        },
        {
          "output_type": "stream",
          "name": "stdout",
          "text": [
            "Epoch 24, Loss: 0.06627147067338228, lr = 0.020000000000000004\n"
          ]
        },
        {
          "output_type": "stream",
          "name": "stderr",
          "text": [
            "Epoch 25/50  Augmentation : None: 100%|██████████| 40/40 [00:01<00:00, 20.92it/s, Loss=0.0177]\n"
          ]
        },
        {
          "output_type": "stream",
          "name": "stdout",
          "text": [
            "Epoch 25, Loss: 0.0441201301291585, lr = 0.020000000000000004\n"
          ]
        },
        {
          "output_type": "stream",
          "name": "stderr",
          "text": [
            "Epoch 26/50  Augmentation : None: 100%|██████████| 40/40 [00:01<00:00, 22.68it/s, Loss=0.0301]\n"
          ]
        },
        {
          "output_type": "stream",
          "name": "stdout",
          "text": [
            "Epoch 26, Loss: 0.025515021360479295, lr = 0.020000000000000004\n"
          ]
        },
        {
          "output_type": "stream",
          "name": "stderr",
          "text": [
            "Epoch 27/50  Augmentation : None: 100%|██████████| 40/40 [00:01<00:00, 23.56it/s, Loss=0.0228]\n"
          ]
        },
        {
          "output_type": "stream",
          "name": "stdout",
          "text": [
            "Epoch 27, Loss: 0.019786006084177642, lr = 0.020000000000000004\n"
          ]
        },
        {
          "output_type": "stream",
          "name": "stderr",
          "text": [
            "Epoch 28/50  Augmentation : None: 100%|██████████| 40/40 [00:01<00:00, 22.82it/s, Loss=0.0038]\n"
          ]
        },
        {
          "output_type": "stream",
          "name": "stdout",
          "text": [
            "Epoch 28, Loss: 0.013015040225582197, lr = 0.020000000000000004\n"
          ]
        },
        {
          "output_type": "stream",
          "name": "stderr",
          "text": [
            "Epoch 29/50  Augmentation : None: 100%|██████████| 40/40 [00:01<00:00, 23.04it/s, Loss=0.00419]\n"
          ]
        },
        {
          "output_type": "stream",
          "name": "stdout",
          "text": [
            "Epoch 29, Loss: 0.009085513593163341, lr = 0.020000000000000004\n"
          ]
        },
        {
          "output_type": "stream",
          "name": "stderr",
          "text": [
            "Epoch 30/50  Augmentation : None: 100%|██████████| 40/40 [00:01<00:00, 22.67it/s, Loss=0.00386]\n"
          ]
        },
        {
          "output_type": "stream",
          "name": "stdout",
          "text": [
            "Epoch 30, Loss: 0.007668843067949638, lr = 0.020000000000000004\n"
          ]
        },
        {
          "output_type": "stream",
          "name": "stderr",
          "text": [
            "Epoch 31/50  Augmentation : None: 100%|██████████| 40/40 [00:01<00:00, 21.03it/s, Loss=0.00445]\n"
          ]
        },
        {
          "output_type": "stream",
          "name": "stdout",
          "text": [
            "Epoch 31, Loss: 0.005715611815685406, lr = 0.020000000000000004\n"
          ]
        },
        {
          "output_type": "stream",
          "name": "stderr",
          "text": [
            "Epoch 32/50  Augmentation : None: 100%|██████████| 40/40 [00:01<00:00, 23.03it/s, Loss=0.011]\n"
          ]
        },
        {
          "output_type": "stream",
          "name": "stdout",
          "text": [
            "Epoch 32, Loss: 0.00461693623510655, lr = 0.020000000000000004\n"
          ]
        },
        {
          "output_type": "stream",
          "name": "stderr",
          "text": [
            "Epoch 33/50  Augmentation : None: 100%|██████████| 40/40 [00:01<00:00, 22.50it/s, Loss=0.0191]\n"
          ]
        },
        {
          "output_type": "stream",
          "name": "stdout",
          "text": [
            "Epoch 33, Loss: 0.004035278837545775, lr = 0.020000000000000004\n"
          ]
        },
        {
          "output_type": "stream",
          "name": "stderr",
          "text": [
            "Epoch 34/50  Augmentation : None: 100%|██████████| 40/40 [00:01<00:00, 22.81it/s, Loss=0.000498]\n"
          ]
        },
        {
          "output_type": "stream",
          "name": "stdout",
          "text": [
            "Epoch 34, Loss: 0.0038676867872709407, lr = 0.020000000000000004\n"
          ]
        },
        {
          "output_type": "stream",
          "name": "stderr",
          "text": [
            "Epoch 35/50  Augmentation : None: 100%|██████████| 40/40 [00:01<00:00, 23.40it/s, Loss=0.000895]\n"
          ]
        },
        {
          "output_type": "stream",
          "name": "stdout",
          "text": [
            "Epoch 35, Loss: 0.0025404818734386936, lr = 0.020000000000000004\n"
          ]
        },
        {
          "output_type": "stream",
          "name": "stderr",
          "text": [
            "Epoch 36/50  Augmentation : None: 100%|██████████| 40/40 [00:01<00:00, 22.80it/s, Loss=0.000838]\n"
          ]
        },
        {
          "output_type": "stream",
          "name": "stdout",
          "text": [
            "Epoch 36, Loss: 0.002177791032590903, lr = 0.020000000000000004\n"
          ]
        },
        {
          "output_type": "stream",
          "name": "stderr",
          "text": [
            "Epoch 37/50  Augmentation : None: 100%|██████████| 40/40 [00:01<00:00, 21.56it/s, Loss=0.00141]\n"
          ]
        },
        {
          "output_type": "stream",
          "name": "stdout",
          "text": [
            "Epoch 37, Loss: 0.0018825214181561023, lr = 0.020000000000000004\n"
          ]
        },
        {
          "output_type": "stream",
          "name": "stderr",
          "text": [
            "Epoch 38/50  Augmentation : None: 100%|██████████| 40/40 [00:01<00:00, 21.62it/s, Loss=0.00227]\n"
          ]
        },
        {
          "output_type": "stream",
          "name": "stdout",
          "text": [
            "Epoch 38, Loss: 0.0016895132896024734, lr = 0.020000000000000004\n"
          ]
        },
        {
          "output_type": "stream",
          "name": "stderr",
          "text": [
            "Epoch 39/50  Augmentation : None: 100%|██████████| 40/40 [00:01<00:00, 23.30it/s, Loss=0.00149]\n"
          ]
        },
        {
          "output_type": "stream",
          "name": "stdout",
          "text": [
            "Epoch 39, Loss: 0.0017255464452318847, lr = 0.020000000000000004\n"
          ]
        },
        {
          "output_type": "stream",
          "name": "stderr",
          "text": [
            "Epoch 40/50  Augmentation : None: 100%|██████████| 40/40 [00:01<00:00, 21.91it/s, Loss=0.00057]\n"
          ]
        },
        {
          "output_type": "stream",
          "name": "stdout",
          "text": [
            "Epoch 40, Loss: 0.0016221098368987441, lr = 0.004000000000000001\n"
          ]
        },
        {
          "output_type": "stream",
          "name": "stderr",
          "text": [
            "Epoch 41/50  Augmentation : None: 100%|██████████| 40/40 [00:01<00:00, 23.04it/s, Loss=0.00801]\n"
          ]
        },
        {
          "output_type": "stream",
          "name": "stdout",
          "text": [
            "Epoch 41, Loss: 0.0017104295329772867, lr = 0.004000000000000001\n"
          ]
        },
        {
          "output_type": "stream",
          "name": "stderr",
          "text": [
            "Epoch 42/50  Augmentation : None: 100%|██████████| 40/40 [00:01<00:00, 22.60it/s, Loss=0.000762]\n"
          ]
        },
        {
          "output_type": "stream",
          "name": "stdout",
          "text": [
            "Epoch 42, Loss: 0.001511265455337707, lr = 0.004000000000000001\n"
          ]
        },
        {
          "output_type": "stream",
          "name": "stderr",
          "text": [
            "Epoch 43/50  Augmentation : None: 100%|██████████| 40/40 [00:01<00:00, 24.13it/s, Loss=0.00202]\n"
          ]
        },
        {
          "output_type": "stream",
          "name": "stdout",
          "text": [
            "Epoch 43, Loss: 0.0015286825509974733, lr = 0.004000000000000001\n"
          ]
        },
        {
          "output_type": "stream",
          "name": "stderr",
          "text": [
            "Epoch 44/50  Augmentation : None: 100%|██████████| 40/40 [00:01<00:00, 20.49it/s, Loss=0.0014]\n"
          ]
        },
        {
          "output_type": "stream",
          "name": "stdout",
          "text": [
            "Epoch 44, Loss: 0.0015302724350476637, lr = 0.004000000000000001\n"
          ]
        },
        {
          "output_type": "stream",
          "name": "stderr",
          "text": [
            "Epoch 45/50  Augmentation : None: 100%|██████████| 40/40 [00:01<00:00, 23.04it/s, Loss=0.00243]\n"
          ]
        },
        {
          "output_type": "stream",
          "name": "stdout",
          "text": [
            "Epoch 45, Loss: 0.001443413970991969, lr = 0.004000000000000001\n"
          ]
        },
        {
          "output_type": "stream",
          "name": "stderr",
          "text": [
            "Epoch 46/50  Augmentation : None: 100%|██████████| 40/40 [00:01<00:00, 21.66it/s, Loss=0.000807]\n"
          ]
        },
        {
          "output_type": "stream",
          "name": "stdout",
          "text": [
            "Epoch 46, Loss: 0.0014746787506737745, lr = 0.004000000000000001\n"
          ]
        },
        {
          "output_type": "stream",
          "name": "stderr",
          "text": [
            "Epoch 47/50  Augmentation : None: 100%|██████████| 40/40 [00:01<00:00, 23.03it/s, Loss=0.00112]\n"
          ]
        },
        {
          "output_type": "stream",
          "name": "stdout",
          "text": [
            "Epoch 47, Loss: 0.00145371899852762, lr = 0.004000000000000001\n"
          ]
        },
        {
          "output_type": "stream",
          "name": "stderr",
          "text": [
            "Epoch 48/50  Augmentation : None: 100%|██████████| 40/40 [00:01<00:00, 22.51it/s, Loss=0.00127]\n"
          ]
        },
        {
          "output_type": "stream",
          "name": "stdout",
          "text": [
            "Epoch 48, Loss: 0.0014384254143806174, lr = 0.004000000000000001\n"
          ]
        },
        {
          "output_type": "stream",
          "name": "stderr",
          "text": [
            "Epoch 49/50  Augmentation : None: 100%|██████████| 40/40 [00:01<00:00, 22.89it/s, Loss=0.000399]\n"
          ]
        },
        {
          "output_type": "stream",
          "name": "stdout",
          "text": [
            "Epoch 49, Loss: 0.0013831555166689212, lr = 0.004000000000000001\n"
          ]
        },
        {
          "output_type": "stream",
          "name": "stderr",
          "text": [
            "Epoch 50/50  Augmentation : None: 100%|██████████| 40/40 [00:01<00:00, 21.79it/s, Loss=0.000336]"
          ]
        },
        {
          "output_type": "stream",
          "name": "stdout",
          "text": [
            "Epoch 50, Loss: 0.0013619523982924876, lr = 0.004000000000000001\n"
          ]
        },
        {
          "output_type": "stream",
          "name": "stderr",
          "text": [
            "\n"
          ]
        },
        {
          "output_type": "stream",
          "name": "stdout",
          "text": [
            "Test Loss : 3.990660607814789, Test Accuracy : 59.17%\n",
            "[Seed : 5773 Experiment Start]\n",
            "\n"
          ]
        },
        {
          "output_type": "stream",
          "name": "stderr",
          "text": [
            "Epoch 1/50  Augmentation : RandomCrop: 100%|██████████| 40/40 [00:02<00:00, 17.66it/s, Loss=2.31]\n"
          ]
        },
        {
          "output_type": "stream",
          "name": "stdout",
          "text": [
            "Epoch 1, Loss: 2.3027045011520384, lr = 0.1\n"
          ]
        },
        {
          "output_type": "stream",
          "name": "stderr",
          "text": [
            "Epoch 2/50  Augmentation : RandomCrop: 100%|██████████| 40/40 [00:02<00:00, 18.48it/s, Loss=2.1]\n"
          ]
        },
        {
          "output_type": "stream",
          "name": "stdout",
          "text": [
            "Epoch 2, Loss: 2.1935676991939546, lr = 0.1\n"
          ]
        },
        {
          "output_type": "stream",
          "name": "stderr",
          "text": [
            "Epoch 3/50  Augmentation : RandomCrop: 100%|██████████| 40/40 [00:02<00:00, 17.80it/s, Loss=1.87]\n"
          ]
        },
        {
          "output_type": "stream",
          "name": "stdout",
          "text": [
            "Epoch 3, Loss: 2.0824168235063554, lr = 0.1\n"
          ]
        },
        {
          "output_type": "stream",
          "name": "stderr",
          "text": [
            "Epoch 4/50  Augmentation : RandomCrop: 100%|██████████| 40/40 [00:02<00:00, 16.92it/s, Loss=1.95]\n"
          ]
        },
        {
          "output_type": "stream",
          "name": "stdout",
          "text": [
            "Epoch 4, Loss: 1.932571992278099, lr = 0.1\n"
          ]
        },
        {
          "output_type": "stream",
          "name": "stderr",
          "text": [
            "Epoch 5/50  Augmentation : RandomCrop: 100%|██████████| 40/40 [00:02<00:00, 17.04it/s, Loss=1.78]\n"
          ]
        },
        {
          "output_type": "stream",
          "name": "stdout",
          "text": [
            "Epoch 5, Loss: 1.8504633992910384, lr = 0.1\n"
          ]
        },
        {
          "output_type": "stream",
          "name": "stderr",
          "text": [
            "Epoch 6/50  Augmentation : RandomCrop: 100%|██████████| 40/40 [00:02<00:00, 18.37it/s, Loss=1.56]\n"
          ]
        },
        {
          "output_type": "stream",
          "name": "stdout",
          "text": [
            "Epoch 6, Loss: 1.743798664212227, lr = 0.1\n"
          ]
        },
        {
          "output_type": "stream",
          "name": "stderr",
          "text": [
            "Epoch 7/50  Augmentation : RandomCrop: 100%|██████████| 40/40 [00:02<00:00, 17.70it/s, Loss=1.73]\n"
          ]
        },
        {
          "output_type": "stream",
          "name": "stdout",
          "text": [
            "Epoch 7, Loss: 1.6888817131519318, lr = 0.1\n"
          ]
        },
        {
          "output_type": "stream",
          "name": "stderr",
          "text": [
            "Epoch 8/50  Augmentation : RandomCrop: 100%|██████████| 40/40 [00:02<00:00, 18.36it/s, Loss=1.55]\n"
          ]
        },
        {
          "output_type": "stream",
          "name": "stdout",
          "text": [
            "Epoch 8, Loss: 1.6333678215742111, lr = 0.1\n"
          ]
        },
        {
          "output_type": "stream",
          "name": "stderr",
          "text": [
            "Epoch 9/50  Augmentation : RandomCrop: 100%|██████████| 40/40 [00:02<00:00, 17.16it/s, Loss=1.64]\n"
          ]
        },
        {
          "output_type": "stream",
          "name": "stdout",
          "text": [
            "Epoch 9, Loss: 1.553463128209114, lr = 0.1\n"
          ]
        },
        {
          "output_type": "stream",
          "name": "stderr",
          "text": [
            "Epoch 10/50  Augmentation : RandomCrop: 100%|██████████| 40/40 [00:02<00:00, 16.88it/s, Loss=1.4]\n"
          ]
        },
        {
          "output_type": "stream",
          "name": "stdout",
          "text": [
            "Epoch 10, Loss: 1.5500817209482194, lr = 0.1\n"
          ]
        },
        {
          "output_type": "stream",
          "name": "stderr",
          "text": [
            "Epoch 11/50  Augmentation : RandomCrop: 100%|██████████| 40/40 [00:02<00:00, 18.27it/s, Loss=1.38]\n"
          ]
        },
        {
          "output_type": "stream",
          "name": "stdout",
          "text": [
            "Epoch 11, Loss: 1.4661193162202835, lr = 0.1\n"
          ]
        },
        {
          "output_type": "stream",
          "name": "stderr",
          "text": [
            "Epoch 12/50  Augmentation : RandomCrop: 100%|██████████| 40/40 [00:02<00:00, 18.09it/s, Loss=1.25]\n"
          ]
        },
        {
          "output_type": "stream",
          "name": "stdout",
          "text": [
            "Epoch 12, Loss: 1.4132995814085008, lr = 0.1\n"
          ]
        },
        {
          "output_type": "stream",
          "name": "stderr",
          "text": [
            "Epoch 13/50  Augmentation : RandomCrop: 100%|██████████| 40/40 [00:02<00:00, 17.60it/s, Loss=1.38]\n"
          ]
        },
        {
          "output_type": "stream",
          "name": "stdout",
          "text": [
            "Epoch 13, Loss: 1.3755572050809861, lr = 0.1\n"
          ]
        },
        {
          "output_type": "stream",
          "name": "stderr",
          "text": [
            "Epoch 14/50  Augmentation : RandomCrop: 100%|██████████| 40/40 [00:02<00:00, 17.61it/s, Loss=1.34]\n"
          ]
        },
        {
          "output_type": "stream",
          "name": "stdout",
          "text": [
            "Epoch 14, Loss: 1.3371570765972138, lr = 0.1\n"
          ]
        },
        {
          "output_type": "stream",
          "name": "stderr",
          "text": [
            "Epoch 15/50  Augmentation : RandomCrop: 100%|██████████| 40/40 [00:02<00:00, 16.72it/s, Loss=1.16]\n"
          ]
        },
        {
          "output_type": "stream",
          "name": "stdout",
          "text": [
            "Epoch 15, Loss: 1.2788335353136062, lr = 0.1\n"
          ]
        },
        {
          "output_type": "stream",
          "name": "stderr",
          "text": [
            "Epoch 16/50  Augmentation : RandomCrop: 100%|██████████| 40/40 [00:02<00:00, 18.10it/s, Loss=1.11]\n"
          ]
        },
        {
          "output_type": "stream",
          "name": "stdout",
          "text": [
            "Epoch 16, Loss: 1.2500812321901322, lr = 0.1\n"
          ]
        },
        {
          "output_type": "stream",
          "name": "stderr",
          "text": [
            "Epoch 17/50  Augmentation : RandomCrop: 100%|██████████| 40/40 [00:02<00:00, 18.08it/s, Loss=1.01]\n"
          ]
        },
        {
          "output_type": "stream",
          "name": "stdout",
          "text": [
            "Epoch 17, Loss: 1.2480372190475464, lr = 0.1\n"
          ]
        },
        {
          "output_type": "stream",
          "name": "stderr",
          "text": [
            "Epoch 18/50  Augmentation : RandomCrop: 100%|██████████| 40/40 [00:02<00:00, 17.99it/s, Loss=1.12]\n"
          ]
        },
        {
          "output_type": "stream",
          "name": "stdout",
          "text": [
            "Epoch 18, Loss: 1.2000111788511276, lr = 0.1\n"
          ]
        },
        {
          "output_type": "stream",
          "name": "stderr",
          "text": [
            "Epoch 19/50  Augmentation : RandomCrop: 100%|██████████| 40/40 [00:02<00:00, 18.09it/s, Loss=1.09]\n"
          ]
        },
        {
          "output_type": "stream",
          "name": "stdout",
          "text": [
            "Epoch 19, Loss: 1.176172563433647, lr = 0.1\n"
          ]
        },
        {
          "output_type": "stream",
          "name": "stderr",
          "text": [
            "Epoch 20/50  Augmentation : RandomCrop: 100%|██████████| 40/40 [00:02<00:00, 16.38it/s, Loss=1.19]\n"
          ]
        },
        {
          "output_type": "stream",
          "name": "stdout",
          "text": [
            "Epoch 20, Loss: 1.1705528229475022, lr = 0.020000000000000004\n"
          ]
        },
        {
          "output_type": "stream",
          "name": "stderr",
          "text": [
            "Epoch 21/50  Augmentation : RandomCrop: 100%|██████████| 40/40 [00:02<00:00, 18.41it/s, Loss=0.881]\n"
          ]
        },
        {
          "output_type": "stream",
          "name": "stdout",
          "text": [
            "Epoch 21, Loss: 1.0191695421934128, lr = 0.020000000000000004\n"
          ]
        },
        {
          "output_type": "stream",
          "name": "stderr",
          "text": [
            "Epoch 22/50  Augmentation : RandomCrop: 100%|██████████| 40/40 [00:02<00:00, 18.11it/s, Loss=0.61]\n"
          ]
        },
        {
          "output_type": "stream",
          "name": "stdout",
          "text": [
            "Epoch 22, Loss: 0.9257365822792053, lr = 0.020000000000000004\n"
          ]
        },
        {
          "output_type": "stream",
          "name": "stderr",
          "text": [
            "Epoch 23/50  Augmentation : RandomCrop: 100%|██████████| 40/40 [00:02<00:00, 18.30it/s, Loss=0.654]\n"
          ]
        },
        {
          "output_type": "stream",
          "name": "stdout",
          "text": [
            "Epoch 23, Loss: 0.8937804758548736, lr = 0.020000000000000004\n"
          ]
        },
        {
          "output_type": "stream",
          "name": "stderr",
          "text": [
            "Epoch 24/50  Augmentation : RandomCrop: 100%|██████████| 40/40 [00:02<00:00, 18.00it/s, Loss=0.797]\n"
          ]
        },
        {
          "output_type": "stream",
          "name": "stdout",
          "text": [
            "Epoch 24, Loss: 0.8612798497080802, lr = 0.020000000000000004\n"
          ]
        },
        {
          "output_type": "stream",
          "name": "stderr",
          "text": [
            "Epoch 25/50  Augmentation : RandomCrop: 100%|██████████| 40/40 [00:02<00:00, 16.32it/s, Loss=0.897]\n"
          ]
        },
        {
          "output_type": "stream",
          "name": "stdout",
          "text": [
            "Epoch 25, Loss: 0.8411021649837493, lr = 0.020000000000000004\n"
          ]
        },
        {
          "output_type": "stream",
          "name": "stderr",
          "text": [
            "Epoch 26/50  Augmentation : RandomCrop: 100%|██████████| 40/40 [00:02<00:00, 18.44it/s, Loss=0.68]\n"
          ]
        },
        {
          "output_type": "stream",
          "name": "stdout",
          "text": [
            "Epoch 26, Loss: 0.8214559823274612, lr = 0.020000000000000004\n"
          ]
        },
        {
          "output_type": "stream",
          "name": "stderr",
          "text": [
            "Epoch 27/50  Augmentation : RandomCrop: 100%|██████████| 40/40 [00:02<00:00, 17.82it/s, Loss=1.02]\n"
          ]
        },
        {
          "output_type": "stream",
          "name": "stdout",
          "text": [
            "Epoch 27, Loss: 0.8080260470509529, lr = 0.020000000000000004\n"
          ]
        },
        {
          "output_type": "stream",
          "name": "stderr",
          "text": [
            "Epoch 28/50  Augmentation : RandomCrop: 100%|██████████| 40/40 [00:02<00:00, 18.22it/s, Loss=0.692]\n"
          ]
        },
        {
          "output_type": "stream",
          "name": "stdout",
          "text": [
            "Epoch 28, Loss: 0.786271134018898, lr = 0.020000000000000004\n"
          ]
        },
        {
          "output_type": "stream",
          "name": "stderr",
          "text": [
            "Epoch 29/50  Augmentation : RandomCrop: 100%|██████████| 40/40 [00:02<00:00, 17.72it/s, Loss=0.876]\n"
          ]
        },
        {
          "output_type": "stream",
          "name": "stdout",
          "text": [
            "Epoch 29, Loss: 0.7675288066267967, lr = 0.020000000000000004\n"
          ]
        },
        {
          "output_type": "stream",
          "name": "stderr",
          "text": [
            "Epoch 30/50  Augmentation : RandomCrop: 100%|██████████| 40/40 [00:02<00:00, 16.01it/s, Loss=0.56]\n"
          ]
        },
        {
          "output_type": "stream",
          "name": "stdout",
          "text": [
            "Epoch 30, Loss: 0.7672784507274628, lr = 0.020000000000000004\n"
          ]
        },
        {
          "output_type": "stream",
          "name": "stderr",
          "text": [
            "Epoch 31/50  Augmentation : RandomCrop: 100%|██████████| 40/40 [00:02<00:00, 18.06it/s, Loss=1]\n"
          ]
        },
        {
          "output_type": "stream",
          "name": "stdout",
          "text": [
            "Epoch 31, Loss: 0.7301025062799453, lr = 0.020000000000000004\n"
          ]
        },
        {
          "output_type": "stream",
          "name": "stderr",
          "text": [
            "Epoch 32/50  Augmentation : RandomCrop: 100%|██████████| 40/40 [00:02<00:00, 18.50it/s, Loss=0.502]\n"
          ]
        },
        {
          "output_type": "stream",
          "name": "stdout",
          "text": [
            "Epoch 32, Loss: 0.7092067241668701, lr = 0.020000000000000004\n"
          ]
        },
        {
          "output_type": "stream",
          "name": "stderr",
          "text": [
            "Epoch 33/50  Augmentation : RandomCrop: 100%|██████████| 40/40 [00:02<00:00, 18.17it/s, Loss=1.2]\n"
          ]
        },
        {
          "output_type": "stream",
          "name": "stdout",
          "text": [
            "Epoch 33, Loss: 0.6938617497682571, lr = 0.020000000000000004\n"
          ]
        },
        {
          "output_type": "stream",
          "name": "stderr",
          "text": [
            "Epoch 34/50  Augmentation : RandomCrop: 100%|██████████| 40/40 [00:02<00:00, 17.74it/s, Loss=0.666]\n"
          ]
        },
        {
          "output_type": "stream",
          "name": "stdout",
          "text": [
            "Epoch 34, Loss: 0.6837990641593933, lr = 0.020000000000000004\n"
          ]
        },
        {
          "output_type": "stream",
          "name": "stderr",
          "text": [
            "Epoch 35/50  Augmentation : RandomCrop: 100%|██████████| 40/40 [00:02<00:00, 16.90it/s, Loss=0.548]\n"
          ]
        },
        {
          "output_type": "stream",
          "name": "stdout",
          "text": [
            "Epoch 35, Loss: 0.6644862145185471, lr = 0.020000000000000004\n"
          ]
        },
        {
          "output_type": "stream",
          "name": "stderr",
          "text": [
            "Epoch 36/50  Augmentation : RandomCrop: 100%|██████████| 40/40 [00:02<00:00, 16.77it/s, Loss=0.579]\n"
          ]
        },
        {
          "output_type": "stream",
          "name": "stdout",
          "text": [
            "Epoch 36, Loss: 0.6623483061790466, lr = 0.020000000000000004\n"
          ]
        },
        {
          "output_type": "stream",
          "name": "stderr",
          "text": [
            "Epoch 37/50  Augmentation : RandomCrop: 100%|██████████| 40/40 [00:02<00:00, 17.91it/s, Loss=0.468]\n"
          ]
        },
        {
          "output_type": "stream",
          "name": "stdout",
          "text": [
            "Epoch 37, Loss: 0.6105911426246167, lr = 0.020000000000000004\n"
          ]
        },
        {
          "output_type": "stream",
          "name": "stderr",
          "text": [
            "Epoch 38/50  Augmentation : RandomCrop: 100%|██████████| 40/40 [00:02<00:00, 18.11it/s, Loss=0.663]\n"
          ]
        },
        {
          "output_type": "stream",
          "name": "stdout",
          "text": [
            "Epoch 38, Loss: 0.6154636740684509, lr = 0.020000000000000004\n"
          ]
        },
        {
          "output_type": "stream",
          "name": "stderr",
          "text": [
            "Epoch 39/50  Augmentation : RandomCrop: 100%|██████████| 40/40 [00:02<00:00, 18.00it/s, Loss=0.454]\n"
          ]
        },
        {
          "output_type": "stream",
          "name": "stdout",
          "text": [
            "Epoch 39, Loss: 0.5963160485029221, lr = 0.020000000000000004\n"
          ]
        },
        {
          "output_type": "stream",
          "name": "stderr",
          "text": [
            "Epoch 40/50  Augmentation : RandomCrop: 100%|██████████| 40/40 [00:02<00:00, 16.81it/s, Loss=0.797]\n"
          ]
        },
        {
          "output_type": "stream",
          "name": "stdout",
          "text": [
            "Epoch 40, Loss: 0.57910480722785, lr = 0.004000000000000001\n"
          ]
        },
        {
          "output_type": "stream",
          "name": "stderr",
          "text": [
            "Epoch 41/50  Augmentation : RandomCrop: 100%|██████████| 40/40 [00:02<00:00, 17.17it/s, Loss=0.558]\n"
          ]
        },
        {
          "output_type": "stream",
          "name": "stdout",
          "text": [
            "Epoch 41, Loss: 0.503226013481617, lr = 0.004000000000000001\n"
          ]
        },
        {
          "output_type": "stream",
          "name": "stderr",
          "text": [
            "Epoch 42/50  Augmentation : RandomCrop: 100%|██████████| 40/40 [00:02<00:00, 17.95it/s, Loss=0.52]\n"
          ]
        },
        {
          "output_type": "stream",
          "name": "stdout",
          "text": [
            "Epoch 42, Loss: 0.45944619104266166, lr = 0.004000000000000001\n"
          ]
        },
        {
          "output_type": "stream",
          "name": "stderr",
          "text": [
            "Epoch 43/50  Augmentation : RandomCrop: 100%|██████████| 40/40 [00:02<00:00, 17.93it/s, Loss=0.335]\n"
          ]
        },
        {
          "output_type": "stream",
          "name": "stdout",
          "text": [
            "Epoch 43, Loss: 0.4383012719452381, lr = 0.004000000000000001\n"
          ]
        },
        {
          "output_type": "stream",
          "name": "stderr",
          "text": [
            "Epoch 44/50  Augmentation : RandomCrop: 100%|██████████| 40/40 [00:02<00:00, 18.00it/s, Loss=0.441]\n"
          ]
        },
        {
          "output_type": "stream",
          "name": "stdout",
          "text": [
            "Epoch 44, Loss: 0.42785862684249876, lr = 0.004000000000000001\n"
          ]
        },
        {
          "output_type": "stream",
          "name": "stderr",
          "text": [
            "Epoch 45/50  Augmentation : RandomCrop: 100%|██████████| 40/40 [00:02<00:00, 17.24it/s, Loss=0.414]\n"
          ]
        },
        {
          "output_type": "stream",
          "name": "stdout",
          "text": [
            "Epoch 45, Loss: 0.4190924629569054, lr = 0.004000000000000001\n"
          ]
        },
        {
          "output_type": "stream",
          "name": "stderr",
          "text": [
            "Epoch 46/50  Augmentation : RandomCrop: 100%|██████████| 40/40 [00:02<00:00, 16.51it/s, Loss=0.454]\n"
          ]
        },
        {
          "output_type": "stream",
          "name": "stdout",
          "text": [
            "Epoch 46, Loss: 0.4179742783308029, lr = 0.004000000000000001\n"
          ]
        },
        {
          "output_type": "stream",
          "name": "stderr",
          "text": [
            "Epoch 47/50  Augmentation : RandomCrop: 100%|██████████| 40/40 [00:02<00:00, 18.07it/s, Loss=0.579]\n"
          ]
        },
        {
          "output_type": "stream",
          "name": "stdout",
          "text": [
            "Epoch 47, Loss: 0.40331161916255953, lr = 0.004000000000000001\n"
          ]
        },
        {
          "output_type": "stream",
          "name": "stderr",
          "text": [
            "Epoch 48/50  Augmentation : RandomCrop: 100%|██████████| 40/40 [00:02<00:00, 18.23it/s, Loss=0.292]\n"
          ]
        },
        {
          "output_type": "stream",
          "name": "stdout",
          "text": [
            "Epoch 48, Loss: 0.38936360031366346, lr = 0.004000000000000001\n"
          ]
        },
        {
          "output_type": "stream",
          "name": "stderr",
          "text": [
            "Epoch 49/50  Augmentation : RandomCrop: 100%|██████████| 40/40 [00:02<00:00, 17.79it/s, Loss=0.243]\n"
          ]
        },
        {
          "output_type": "stream",
          "name": "stdout",
          "text": [
            "Epoch 49, Loss: 0.37200829163193705, lr = 0.004000000000000001\n"
          ]
        },
        {
          "output_type": "stream",
          "name": "stderr",
          "text": [
            "Epoch 50/50  Augmentation : RandomCrop: 100%|██████████| 40/40 [00:02<00:00, 17.76it/s, Loss=0.525]"
          ]
        },
        {
          "output_type": "stream",
          "name": "stdout",
          "text": [
            "Epoch 50, Loss: 0.38052812665700914, lr = 0.004000000000000001\n"
          ]
        },
        {
          "output_type": "stream",
          "name": "stderr",
          "text": [
            "\n"
          ]
        },
        {
          "output_type": "stream",
          "name": "stdout",
          "text": [
            "Test Loss : 1.3190435707569121, Test Accuracy : 65.41%\n",
            "[Seed : 5773 Experiment Start]\n",
            "\n"
          ]
        },
        {
          "output_type": "stream",
          "name": "stderr",
          "text": [
            "Epoch 1/50  Augmentation : RandomHorizontalFlip: 100%|██████████| 40/40 [00:01<00:00, 20.11it/s, Loss=2.31]\n"
          ]
        },
        {
          "output_type": "stream",
          "name": "stdout",
          "text": [
            "Epoch 1, Loss: 2.302584594488144, lr = 0.1\n"
          ]
        },
        {
          "output_type": "stream",
          "name": "stderr",
          "text": [
            "Epoch 2/50  Augmentation : RandomHorizontalFlip: 100%|██████████| 40/40 [00:01<00:00, 20.69it/s, Loss=2.01]\n"
          ]
        },
        {
          "output_type": "stream",
          "name": "stdout",
          "text": [
            "Epoch 2, Loss: 2.1779344856739042, lr = 0.1\n"
          ]
        },
        {
          "output_type": "stream",
          "name": "stderr",
          "text": [
            "Epoch 3/50  Augmentation : RandomHorizontalFlip: 100%|██████████| 40/40 [00:01<00:00, 21.09it/s, Loss=1.97]\n"
          ]
        },
        {
          "output_type": "stream",
          "name": "stdout",
          "text": [
            "Epoch 3, Loss: 1.999898612499237, lr = 0.1\n"
          ]
        },
        {
          "output_type": "stream",
          "name": "stderr",
          "text": [
            "Epoch 4/50  Augmentation : RandomHorizontalFlip: 100%|██████████| 40/40 [00:01<00:00, 20.02it/s, Loss=1.8]\n"
          ]
        },
        {
          "output_type": "stream",
          "name": "stdout",
          "text": [
            "Epoch 4, Loss: 1.840607950091362, lr = 0.1\n"
          ]
        },
        {
          "output_type": "stream",
          "name": "stderr",
          "text": [
            "Epoch 5/50  Augmentation : RandomHorizontalFlip: 100%|██████████| 40/40 [00:02<00:00, 18.59it/s, Loss=1.64]\n"
          ]
        },
        {
          "output_type": "stream",
          "name": "stdout",
          "text": [
            "Epoch 5, Loss: 1.7183416128158568, lr = 0.1\n"
          ]
        },
        {
          "output_type": "stream",
          "name": "stderr",
          "text": [
            "Epoch 6/50  Augmentation : RandomHorizontalFlip: 100%|██████████| 40/40 [00:01<00:00, 20.22it/s, Loss=1.46]\n"
          ]
        },
        {
          "output_type": "stream",
          "name": "stdout",
          "text": [
            "Epoch 6, Loss: 1.6160486847162248, lr = 0.1\n"
          ]
        },
        {
          "output_type": "stream",
          "name": "stderr",
          "text": [
            "Epoch 7/50  Augmentation : RandomHorizontalFlip: 100%|██████████| 40/40 [00:01<00:00, 20.59it/s, Loss=1.29]\n"
          ]
        },
        {
          "output_type": "stream",
          "name": "stdout",
          "text": [
            "Epoch 7, Loss: 1.510486376285553, lr = 0.1\n"
          ]
        },
        {
          "output_type": "stream",
          "name": "stderr",
          "text": [
            "Epoch 8/50  Augmentation : RandomHorizontalFlip: 100%|██████████| 40/40 [00:02<00:00, 18.94it/s, Loss=1.45]\n"
          ]
        },
        {
          "output_type": "stream",
          "name": "stdout",
          "text": [
            "Epoch 8, Loss: 1.4608584463596344, lr = 0.1\n"
          ]
        },
        {
          "output_type": "stream",
          "name": "stderr",
          "text": [
            "Epoch 9/50  Augmentation : RandomHorizontalFlip: 100%|██████████| 40/40 [00:01<00:00, 21.22it/s, Loss=1.37]\n"
          ]
        },
        {
          "output_type": "stream",
          "name": "stdout",
          "text": [
            "Epoch 9, Loss: 1.3584759831428528, lr = 0.1\n"
          ]
        },
        {
          "output_type": "stream",
          "name": "stderr",
          "text": [
            "Epoch 10/50  Augmentation : RandomHorizontalFlip: 100%|██████████| 40/40 [00:01<00:00, 21.12it/s, Loss=1.25]\n"
          ]
        },
        {
          "output_type": "stream",
          "name": "stdout",
          "text": [
            "Epoch 10, Loss: 1.3080355525016785, lr = 0.1\n"
          ]
        },
        {
          "output_type": "stream",
          "name": "stderr",
          "text": [
            "Epoch 11/50  Augmentation : RandomHorizontalFlip: 100%|██████████| 40/40 [00:02<00:00, 19.06it/s, Loss=1.4]\n"
          ]
        },
        {
          "output_type": "stream",
          "name": "stdout",
          "text": [
            "Epoch 11, Loss: 1.3310345739126206, lr = 0.1\n"
          ]
        },
        {
          "output_type": "stream",
          "name": "stderr",
          "text": [
            "Epoch 12/50  Augmentation : RandomHorizontalFlip: 100%|██████████| 40/40 [00:01<00:00, 20.54it/s, Loss=1.07]\n"
          ]
        },
        {
          "output_type": "stream",
          "name": "stdout",
          "text": [
            "Epoch 12, Loss: 1.2211256206035614, lr = 0.1\n"
          ]
        },
        {
          "output_type": "stream",
          "name": "stderr",
          "text": [
            "Epoch 13/50  Augmentation : RandomHorizontalFlip: 100%|██████████| 40/40 [00:01<00:00, 21.11it/s, Loss=1.06]\n"
          ]
        },
        {
          "output_type": "stream",
          "name": "stdout",
          "text": [
            "Epoch 13, Loss: 1.142566904425621, lr = 0.1\n"
          ]
        },
        {
          "output_type": "stream",
          "name": "stderr",
          "text": [
            "Epoch 14/50  Augmentation : RandomHorizontalFlip: 100%|██████████| 40/40 [00:01<00:00, 20.21it/s, Loss=1.33]\n"
          ]
        },
        {
          "output_type": "stream",
          "name": "stdout",
          "text": [
            "Epoch 14, Loss: 1.114791838824749, lr = 0.1\n"
          ]
        },
        {
          "output_type": "stream",
          "name": "stderr",
          "text": [
            "Epoch 15/50  Augmentation : RandomHorizontalFlip: 100%|██████████| 40/40 [00:01<00:00, 20.46it/s, Loss=1.01]\n"
          ]
        },
        {
          "output_type": "stream",
          "name": "stdout",
          "text": [
            "Epoch 15, Loss: 1.050373698771, lr = 0.1\n"
          ]
        },
        {
          "output_type": "stream",
          "name": "stderr",
          "text": [
            "Epoch 16/50  Augmentation : RandomHorizontalFlip: 100%|██████████| 40/40 [00:01<00:00, 20.36it/s, Loss=0.918]\n"
          ]
        },
        {
          "output_type": "stream",
          "name": "stdout",
          "text": [
            "Epoch 16, Loss: 1.0254178568720818, lr = 0.1\n"
          ]
        },
        {
          "output_type": "stream",
          "name": "stderr",
          "text": [
            "Epoch 17/50  Augmentation : RandomHorizontalFlip: 100%|██████████| 40/40 [00:02<00:00, 18.34it/s, Loss=0.783]\n"
          ]
        },
        {
          "output_type": "stream",
          "name": "stdout",
          "text": [
            "Epoch 17, Loss: 0.9732313498854637, lr = 0.1\n"
          ]
        },
        {
          "output_type": "stream",
          "name": "stderr",
          "text": [
            "Epoch 18/50  Augmentation : RandomHorizontalFlip: 100%|██████████| 40/40 [00:01<00:00, 20.71it/s, Loss=0.888]\n"
          ]
        },
        {
          "output_type": "stream",
          "name": "stdout",
          "text": [
            "Epoch 18, Loss: 0.9261882290244102, lr = 0.1\n"
          ]
        },
        {
          "output_type": "stream",
          "name": "stderr",
          "text": [
            "Epoch 19/50  Augmentation : RandomHorizontalFlip: 100%|██████████| 40/40 [00:01<00:00, 20.69it/s, Loss=0.799]\n"
          ]
        },
        {
          "output_type": "stream",
          "name": "stdout",
          "text": [
            "Epoch 19, Loss: 0.8775781407952309, lr = 0.1\n"
          ]
        },
        {
          "output_type": "stream",
          "name": "stderr",
          "text": [
            "Epoch 20/50  Augmentation : RandomHorizontalFlip: 100%|██████████| 40/40 [00:01<00:00, 20.17it/s, Loss=0.834]\n"
          ]
        },
        {
          "output_type": "stream",
          "name": "stdout",
          "text": [
            "Epoch 20, Loss: 0.8654251575469971, lr = 0.020000000000000004\n"
          ]
        },
        {
          "output_type": "stream",
          "name": "stderr",
          "text": [
            "Epoch 21/50  Augmentation : RandomHorizontalFlip: 100%|██████████| 40/40 [00:01<00:00, 21.20it/s, Loss=0.761]\n"
          ]
        },
        {
          "output_type": "stream",
          "name": "stdout",
          "text": [
            "Epoch 21, Loss: 0.7062481462955474, lr = 0.020000000000000004\n"
          ]
        },
        {
          "output_type": "stream",
          "name": "stderr",
          "text": [
            "Epoch 22/50  Augmentation : RandomHorizontalFlip: 100%|██████████| 40/40 [00:01<00:00, 20.96it/s, Loss=0.228]\n"
          ]
        },
        {
          "output_type": "stream",
          "name": "stdout",
          "text": [
            "Epoch 22, Loss: 0.5301584415137768, lr = 0.020000000000000004\n"
          ]
        },
        {
          "output_type": "stream",
          "name": "stderr",
          "text": [
            "Epoch 23/50  Augmentation : RandomHorizontalFlip: 100%|██████████| 40/40 [00:02<00:00, 17.96it/s, Loss=0.397]\n"
          ]
        },
        {
          "output_type": "stream",
          "name": "stdout",
          "text": [
            "Epoch 23, Loss: 0.46555261611938475, lr = 0.020000000000000004\n"
          ]
        },
        {
          "output_type": "stream",
          "name": "stderr",
          "text": [
            "Epoch 24/50  Augmentation : RandomHorizontalFlip: 100%|██████████| 40/40 [00:01<00:00, 20.71it/s, Loss=0.298]\n"
          ]
        },
        {
          "output_type": "stream",
          "name": "stdout",
          "text": [
            "Epoch 24, Loss: 0.4237183406949043, lr = 0.020000000000000004\n"
          ]
        },
        {
          "output_type": "stream",
          "name": "stderr",
          "text": [
            "Epoch 25/50  Augmentation : RandomHorizontalFlip: 100%|██████████| 40/40 [00:01<00:00, 20.23it/s, Loss=0.363]\n"
          ]
        },
        {
          "output_type": "stream",
          "name": "stdout",
          "text": [
            "Epoch 25, Loss: 0.37261354699730875, lr = 0.020000000000000004\n"
          ]
        },
        {
          "output_type": "stream",
          "name": "stderr",
          "text": [
            "Epoch 26/50  Augmentation : RandomHorizontalFlip: 100%|██████████| 40/40 [00:01<00:00, 20.77it/s, Loss=0.316]\n"
          ]
        },
        {
          "output_type": "stream",
          "name": "stdout",
          "text": [
            "Epoch 26, Loss: 0.33625154197216034, lr = 0.020000000000000004\n"
          ]
        },
        {
          "output_type": "stream",
          "name": "stderr",
          "text": [
            "Epoch 27/50  Augmentation : RandomHorizontalFlip: 100%|██████████| 40/40 [00:01<00:00, 21.11it/s, Loss=0.315]\n"
          ]
        },
        {
          "output_type": "stream",
          "name": "stdout",
          "text": [
            "Epoch 27, Loss: 0.2973393421620131, lr = 0.020000000000000004\n"
          ]
        },
        {
          "output_type": "stream",
          "name": "stderr",
          "text": [
            "Epoch 28/50  Augmentation : RandomHorizontalFlip: 100%|██████████| 40/40 [00:01<00:00, 21.03it/s, Loss=0.113]\n"
          ]
        },
        {
          "output_type": "stream",
          "name": "stdout",
          "text": [
            "Epoch 28, Loss: 0.2557410480454564, lr = 0.020000000000000004\n"
          ]
        },
        {
          "output_type": "stream",
          "name": "stderr",
          "text": [
            "Epoch 29/50  Augmentation : RandomHorizontalFlip: 100%|██████████| 40/40 [00:02<00:00, 18.65it/s, Loss=0.173]\n"
          ]
        },
        {
          "output_type": "stream",
          "name": "stdout",
          "text": [
            "Epoch 29, Loss: 0.21541302874684334, lr = 0.020000000000000004\n"
          ]
        },
        {
          "output_type": "stream",
          "name": "stderr",
          "text": [
            "Epoch 30/50  Augmentation : RandomHorizontalFlip: 100%|██████████| 40/40 [00:01<00:00, 20.30it/s, Loss=0.14]\n"
          ]
        },
        {
          "output_type": "stream",
          "name": "stdout",
          "text": [
            "Epoch 30, Loss: 0.19481713846325874, lr = 0.020000000000000004\n"
          ]
        },
        {
          "output_type": "stream",
          "name": "stderr",
          "text": [
            "Epoch 31/50  Augmentation : RandomHorizontalFlip: 100%|██████████| 40/40 [00:01<00:00, 20.40it/s, Loss=0.342]\n"
          ]
        },
        {
          "output_type": "stream",
          "name": "stdout",
          "text": [
            "Epoch 31, Loss: 0.19004256632179023, lr = 0.020000000000000004\n"
          ]
        },
        {
          "output_type": "stream",
          "name": "stderr",
          "text": [
            "Epoch 32/50  Augmentation : RandomHorizontalFlip: 100%|██████████| 40/40 [00:01<00:00, 20.48it/s, Loss=0.161]\n"
          ]
        },
        {
          "output_type": "stream",
          "name": "stdout",
          "text": [
            "Epoch 32, Loss: 0.17160284966230394, lr = 0.020000000000000004\n"
          ]
        },
        {
          "output_type": "stream",
          "name": "stderr",
          "text": [
            "Epoch 33/50  Augmentation : RandomHorizontalFlip: 100%|██████████| 40/40 [00:01<00:00, 21.03it/s, Loss=0.33]\n"
          ]
        },
        {
          "output_type": "stream",
          "name": "stdout",
          "text": [
            "Epoch 33, Loss: 0.18918801918625833, lr = 0.020000000000000004\n"
          ]
        },
        {
          "output_type": "stream",
          "name": "stderr",
          "text": [
            "Epoch 34/50  Augmentation : RandomHorizontalFlip: 100%|██████████| 40/40 [00:01<00:00, 20.19it/s, Loss=0.0806]\n"
          ]
        },
        {
          "output_type": "stream",
          "name": "stdout",
          "text": [
            "Epoch 34, Loss: 0.20219150725752116, lr = 0.020000000000000004\n"
          ]
        },
        {
          "output_type": "stream",
          "name": "stderr",
          "text": [
            "Epoch 35/50  Augmentation : RandomHorizontalFlip: 100%|██████████| 40/40 [00:02<00:00, 18.93it/s, Loss=0.114]\n"
          ]
        },
        {
          "output_type": "stream",
          "name": "stdout",
          "text": [
            "Epoch 35, Loss: 0.1532934570685029, lr = 0.020000000000000004\n"
          ]
        },
        {
          "output_type": "stream",
          "name": "stderr",
          "text": [
            "Epoch 36/50  Augmentation : RandomHorizontalFlip: 100%|██████████| 40/40 [00:01<00:00, 21.24it/s, Loss=0.0525]\n"
          ]
        },
        {
          "output_type": "stream",
          "name": "stdout",
          "text": [
            "Epoch 36, Loss: 0.136229997407645, lr = 0.020000000000000004\n"
          ]
        },
        {
          "output_type": "stream",
          "name": "stderr",
          "text": [
            "Epoch 37/50  Augmentation : RandomHorizontalFlip: 100%|██████████| 40/40 [00:01<00:00, 21.12it/s, Loss=0.13]\n"
          ]
        },
        {
          "output_type": "stream",
          "name": "stdout",
          "text": [
            "Epoch 37, Loss: 0.09721010392531752, lr = 0.020000000000000004\n"
          ]
        },
        {
          "output_type": "stream",
          "name": "stderr",
          "text": [
            "Epoch 38/50  Augmentation : RandomHorizontalFlip: 100%|██████████| 40/40 [00:01<00:00, 20.04it/s, Loss=0.0868]\n"
          ]
        },
        {
          "output_type": "stream",
          "name": "stdout",
          "text": [
            "Epoch 38, Loss: 0.11917292643338442, lr = 0.020000000000000004\n"
          ]
        },
        {
          "output_type": "stream",
          "name": "stderr",
          "text": [
            "Epoch 39/50  Augmentation : RandomHorizontalFlip: 100%|██████████| 40/40 [00:01<00:00, 20.56it/s, Loss=0.133]\n"
          ]
        },
        {
          "output_type": "stream",
          "name": "stdout",
          "text": [
            "Epoch 39, Loss: 0.11016625352203846, lr = 0.020000000000000004\n"
          ]
        },
        {
          "output_type": "stream",
          "name": "stderr",
          "text": [
            "Epoch 40/50  Augmentation : RandomHorizontalFlip: 100%|██████████| 40/40 [00:02<00:00, 17.71it/s, Loss=0.3]\n"
          ]
        },
        {
          "output_type": "stream",
          "name": "stdout",
          "text": [
            "Epoch 40, Loss: 0.1278763547539711, lr = 0.004000000000000001\n"
          ]
        },
        {
          "output_type": "stream",
          "name": "stderr",
          "text": [
            "Epoch 41/50  Augmentation : RandomHorizontalFlip: 100%|██████████| 40/40 [00:02<00:00, 18.79it/s, Loss=0.111]\n"
          ]
        },
        {
          "output_type": "stream",
          "name": "stdout",
          "text": [
            "Epoch 41, Loss: 0.09055756675079465, lr = 0.004000000000000001\n"
          ]
        },
        {
          "output_type": "stream",
          "name": "stderr",
          "text": [
            "Epoch 42/50  Augmentation : RandomHorizontalFlip: 100%|██████████| 40/40 [00:01<00:00, 20.02it/s, Loss=0.0137]\n"
          ]
        },
        {
          "output_type": "stream",
          "name": "stdout",
          "text": [
            "Epoch 42, Loss: 0.0443139610812068, lr = 0.004000000000000001\n"
          ]
        },
        {
          "output_type": "stream",
          "name": "stderr",
          "text": [
            "Epoch 43/50  Augmentation : RandomHorizontalFlip: 100%|██████████| 40/40 [00:02<00:00, 19.93it/s, Loss=0.00968]\n"
          ]
        },
        {
          "output_type": "stream",
          "name": "stdout",
          "text": [
            "Epoch 43, Loss: 0.02908221664838493, lr = 0.004000000000000001\n"
          ]
        },
        {
          "output_type": "stream",
          "name": "stderr",
          "text": [
            "Epoch 44/50  Augmentation : RandomHorizontalFlip: 100%|██████████| 40/40 [00:01<00:00, 20.29it/s, Loss=0.0434]\n"
          ]
        },
        {
          "output_type": "stream",
          "name": "stdout",
          "text": [
            "Epoch 44, Loss: 0.023397696460597216, lr = 0.004000000000000001\n"
          ]
        },
        {
          "output_type": "stream",
          "name": "stderr",
          "text": [
            "Epoch 45/50  Augmentation : RandomHorizontalFlip: 100%|██████████| 40/40 [00:02<00:00, 19.85it/s, Loss=0.0313]\n"
          ]
        },
        {
          "output_type": "stream",
          "name": "stdout",
          "text": [
            "Epoch 45, Loss: 0.02053504311479628, lr = 0.004000000000000001\n"
          ]
        },
        {
          "output_type": "stream",
          "name": "stderr",
          "text": [
            "Epoch 46/50  Augmentation : RandomHorizontalFlip: 100%|██████████| 40/40 [00:02<00:00, 19.20it/s, Loss=0.00375]\n"
          ]
        },
        {
          "output_type": "stream",
          "name": "stdout",
          "text": [
            "Epoch 46, Loss: 0.016898560209665448, lr = 0.004000000000000001\n"
          ]
        },
        {
          "output_type": "stream",
          "name": "stderr",
          "text": [
            "Epoch 47/50  Augmentation : RandomHorizontalFlip: 100%|██████████| 40/40 [00:02<00:00, 19.16it/s, Loss=0.00114]\n"
          ]
        },
        {
          "output_type": "stream",
          "name": "stdout",
          "text": [
            "Epoch 47, Loss: 0.014067723104381003, lr = 0.004000000000000001\n"
          ]
        },
        {
          "output_type": "stream",
          "name": "stderr",
          "text": [
            "Epoch 48/50  Augmentation : RandomHorizontalFlip: 100%|██████████| 40/40 [00:02<00:00, 19.97it/s, Loss=0.00524]\n"
          ]
        },
        {
          "output_type": "stream",
          "name": "stdout",
          "text": [
            "Epoch 48, Loss: 0.011974537349306046, lr = 0.004000000000000001\n"
          ]
        },
        {
          "output_type": "stream",
          "name": "stderr",
          "text": [
            "Epoch 49/50  Augmentation : RandomHorizontalFlip: 100%|██████████| 40/40 [00:02<00:00, 19.48it/s, Loss=0.00858]\n"
          ]
        },
        {
          "output_type": "stream",
          "name": "stdout",
          "text": [
            "Epoch 49, Loss: 0.010309710539877415, lr = 0.004000000000000001\n"
          ]
        },
        {
          "output_type": "stream",
          "name": "stderr",
          "text": [
            "Epoch 50/50  Augmentation : RandomHorizontalFlip: 100%|██████████| 40/40 [00:02<00:00, 19.48it/s, Loss=0.0072]"
          ]
        },
        {
          "output_type": "stream",
          "name": "stdout",
          "text": [
            "Epoch 50, Loss: 0.009748439595568925, lr = 0.004000000000000001\n"
          ]
        },
        {
          "output_type": "stream",
          "name": "stderr",
          "text": [
            "\n"
          ]
        },
        {
          "output_type": "stream",
          "name": "stdout",
          "text": [
            "Test Loss : 2.68266042470932, Test Accuracy : 63.59%\n",
            "[Seed : 5773 Experiment Start]\n",
            "\n"
          ]
        },
        {
          "output_type": "stream",
          "name": "stderr",
          "text": [
            "Epoch 1/50  Augmentation : Cutout: 100%|██████████| 40/40 [00:02<00:00, 15.32it/s, Loss=2.31]\n"
          ]
        },
        {
          "output_type": "stream",
          "name": "stdout",
          "text": [
            "Epoch 1, Loss: 2.3027420699596406, lr = 0.1\n"
          ]
        },
        {
          "output_type": "stream",
          "name": "stderr",
          "text": [
            "Epoch 2/50  Augmentation : Cutout: 100%|██████████| 40/40 [00:02<00:00, 17.70it/s, Loss=2.01]\n"
          ]
        },
        {
          "output_type": "stream",
          "name": "stdout",
          "text": [
            "Epoch 2, Loss: 2.1897332608699798, lr = 0.1\n"
          ]
        },
        {
          "output_type": "stream",
          "name": "stderr",
          "text": [
            "Epoch 3/50  Augmentation : Cutout: 100%|██████████| 40/40 [00:02<00:00, 18.19it/s, Loss=1.82]\n"
          ]
        },
        {
          "output_type": "stream",
          "name": "stdout",
          "text": [
            "Epoch 3, Loss: 2.109925630688667, lr = 0.1\n"
          ]
        },
        {
          "output_type": "stream",
          "name": "stderr",
          "text": [
            "Epoch 4/50  Augmentation : Cutout: 100%|██████████| 40/40 [00:02<00:00, 18.85it/s, Loss=1.85]\n"
          ]
        },
        {
          "output_type": "stream",
          "name": "stdout",
          "text": [
            "Epoch 4, Loss: 2.019531413912773, lr = 0.1\n"
          ]
        },
        {
          "output_type": "stream",
          "name": "stderr",
          "text": [
            "Epoch 5/50  Augmentation : Cutout: 100%|██████████| 40/40 [00:02<00:00, 17.68it/s, Loss=1.88]\n"
          ]
        },
        {
          "output_type": "stream",
          "name": "stdout",
          "text": [
            "Epoch 5, Loss: 1.8940337985754012, lr = 0.1\n"
          ]
        },
        {
          "output_type": "stream",
          "name": "stderr",
          "text": [
            "Epoch 6/50  Augmentation : Cutout: 100%|██████████| 40/40 [00:02<00:00, 16.29it/s, Loss=1.83]\n"
          ]
        },
        {
          "output_type": "stream",
          "name": "stdout",
          "text": [
            "Epoch 6, Loss: 1.764028760790825, lr = 0.1\n"
          ]
        },
        {
          "output_type": "stream",
          "name": "stderr",
          "text": [
            "Epoch 7/50  Augmentation : Cutout: 100%|██████████| 40/40 [00:02<00:00, 17.89it/s, Loss=1.59]\n"
          ]
        },
        {
          "output_type": "stream",
          "name": "stdout",
          "text": [
            "Epoch 7, Loss: 1.6496426612138748, lr = 0.1\n"
          ]
        },
        {
          "output_type": "stream",
          "name": "stderr",
          "text": [
            "Epoch 8/50  Augmentation : Cutout: 100%|██████████| 40/40 [00:02<00:00, 18.46it/s, Loss=1.51]\n"
          ]
        },
        {
          "output_type": "stream",
          "name": "stdout",
          "text": [
            "Epoch 8, Loss: 1.5951575011014938, lr = 0.1\n"
          ]
        },
        {
          "output_type": "stream",
          "name": "stderr",
          "text": [
            "Epoch 9/50  Augmentation : Cutout: 100%|██████████| 40/40 [00:02<00:00, 18.14it/s, Loss=1.5]\n"
          ]
        },
        {
          "output_type": "stream",
          "name": "stdout",
          "text": [
            "Epoch 9, Loss: 1.4866657108068466, lr = 0.1\n"
          ]
        },
        {
          "output_type": "stream",
          "name": "stderr",
          "text": [
            "Epoch 10/50  Augmentation : Cutout: 100%|██████████| 40/40 [00:02<00:00, 18.70it/s, Loss=1.23]\n"
          ]
        },
        {
          "output_type": "stream",
          "name": "stdout",
          "text": [
            "Epoch 10, Loss: 1.4464471369981766, lr = 0.1\n"
          ]
        },
        {
          "output_type": "stream",
          "name": "stderr",
          "text": [
            "Epoch 11/50  Augmentation : Cutout: 100%|██████████| 40/40 [00:02<00:00, 16.02it/s, Loss=1.49]\n"
          ]
        },
        {
          "output_type": "stream",
          "name": "stdout",
          "text": [
            "Epoch 11, Loss: 1.4143359273672105, lr = 0.1\n"
          ]
        },
        {
          "output_type": "stream",
          "name": "stderr",
          "text": [
            "Epoch 12/50  Augmentation : Cutout: 100%|██████████| 40/40 [00:02<00:00, 18.31it/s, Loss=1.25]\n"
          ]
        },
        {
          "output_type": "stream",
          "name": "stdout",
          "text": [
            "Epoch 12, Loss: 1.312491312623024, lr = 0.1\n"
          ]
        },
        {
          "output_type": "stream",
          "name": "stderr",
          "text": [
            "Epoch 13/50  Augmentation : Cutout: 100%|██████████| 40/40 [00:02<00:00, 18.19it/s, Loss=1.12]\n"
          ]
        },
        {
          "output_type": "stream",
          "name": "stdout",
          "text": [
            "Epoch 13, Loss: 1.2748857527971267, lr = 0.1\n"
          ]
        },
        {
          "output_type": "stream",
          "name": "stderr",
          "text": [
            "Epoch 14/50  Augmentation : Cutout: 100%|██████████| 40/40 [00:02<00:00, 18.30it/s, Loss=1.43]\n"
          ]
        },
        {
          "output_type": "stream",
          "name": "stdout",
          "text": [
            "Epoch 14, Loss: 1.2231851458549499, lr = 0.1\n"
          ]
        },
        {
          "output_type": "stream",
          "name": "stderr",
          "text": [
            "Epoch 15/50  Augmentation : Cutout: 100%|██████████| 40/40 [00:02<00:00, 18.71it/s, Loss=0.952]\n"
          ]
        },
        {
          "output_type": "stream",
          "name": "stdout",
          "text": [
            "Epoch 15, Loss: 1.1762465626001357, lr = 0.1\n"
          ]
        },
        {
          "output_type": "stream",
          "name": "stderr",
          "text": [
            "Epoch 16/50  Augmentation : Cutout: 100%|██████████| 40/40 [00:02<00:00, 17.28it/s, Loss=0.829]\n"
          ]
        },
        {
          "output_type": "stream",
          "name": "stdout",
          "text": [
            "Epoch 16, Loss: 1.1067411467432975, lr = 0.1\n"
          ]
        },
        {
          "output_type": "stream",
          "name": "stderr",
          "text": [
            "Epoch 17/50  Augmentation : Cutout: 100%|██████████| 40/40 [00:02<00:00, 17.35it/s, Loss=0.762]\n"
          ]
        },
        {
          "output_type": "stream",
          "name": "stdout",
          "text": [
            "Epoch 17, Loss: 1.0777065336704255, lr = 0.1\n"
          ]
        },
        {
          "output_type": "stream",
          "name": "stderr",
          "text": [
            "Epoch 18/50  Augmentation : Cutout: 100%|██████████| 40/40 [00:02<00:00, 18.27it/s, Loss=0.958]\n"
          ]
        },
        {
          "output_type": "stream",
          "name": "stdout",
          "text": [
            "Epoch 18, Loss: 1.0239162757992744, lr = 0.1\n"
          ]
        },
        {
          "output_type": "stream",
          "name": "stderr",
          "text": [
            "Epoch 19/50  Augmentation : Cutout: 100%|██████████| 40/40 [00:02<00:00, 17.84it/s, Loss=0.747]\n"
          ]
        },
        {
          "output_type": "stream",
          "name": "stdout",
          "text": [
            "Epoch 19, Loss: 1.0422364935278892, lr = 0.1\n"
          ]
        },
        {
          "output_type": "stream",
          "name": "stderr",
          "text": [
            "Epoch 20/50  Augmentation : Cutout: 100%|██████████| 40/40 [00:02<00:00, 18.25it/s, Loss=0.862]\n"
          ]
        },
        {
          "output_type": "stream",
          "name": "stdout",
          "text": [
            "Epoch 20, Loss: 0.9182633653283119, lr = 0.020000000000000004\n"
          ]
        },
        {
          "output_type": "stream",
          "name": "stderr",
          "text": [
            "Epoch 21/50  Augmentation : Cutout: 100%|██████████| 40/40 [00:02<00:00, 17.58it/s, Loss=0.78]\n"
          ]
        },
        {
          "output_type": "stream",
          "name": "stdout",
          "text": [
            "Epoch 21, Loss: 0.7158924534916877, lr = 0.020000000000000004\n"
          ]
        },
        {
          "output_type": "stream",
          "name": "stderr",
          "text": [
            "Epoch 22/50  Augmentation : Cutout: 100%|██████████| 40/40 [00:02<00:00, 17.37it/s, Loss=0.337]\n"
          ]
        },
        {
          "output_type": "stream",
          "name": "stdout",
          "text": [
            "Epoch 22, Loss: 0.5907082952558994, lr = 0.020000000000000004\n"
          ]
        },
        {
          "output_type": "stream",
          "name": "stderr",
          "text": [
            "Epoch 23/50  Augmentation : Cutout: 100%|██████████| 40/40 [00:02<00:00, 18.40it/s, Loss=0.478]\n"
          ]
        },
        {
          "output_type": "stream",
          "name": "stdout",
          "text": [
            "Epoch 23, Loss: 0.5450716659426689, lr = 0.020000000000000004\n"
          ]
        },
        {
          "output_type": "stream",
          "name": "stderr",
          "text": [
            "Epoch 24/50  Augmentation : Cutout: 100%|██████████| 40/40 [00:02<00:00, 18.27it/s, Loss=0.469]\n"
          ]
        },
        {
          "output_type": "stream",
          "name": "stdout",
          "text": [
            "Epoch 24, Loss: 0.49779599234461785, lr = 0.020000000000000004\n"
          ]
        },
        {
          "output_type": "stream",
          "name": "stderr",
          "text": [
            "Epoch 25/50  Augmentation : Cutout: 100%|██████████| 40/40 [00:02<00:00, 18.08it/s, Loss=0.545]\n"
          ]
        },
        {
          "output_type": "stream",
          "name": "stdout",
          "text": [
            "Epoch 25, Loss: 0.4783952683210373, lr = 0.020000000000000004\n"
          ]
        },
        {
          "output_type": "stream",
          "name": "stderr",
          "text": [
            "Epoch 26/50  Augmentation : Cutout: 100%|██████████| 40/40 [00:02<00:00, 18.55it/s, Loss=0.507]\n"
          ]
        },
        {
          "output_type": "stream",
          "name": "stdout",
          "text": [
            "Epoch 26, Loss: 0.43242419958114625, lr = 0.020000000000000004\n"
          ]
        },
        {
          "output_type": "stream",
          "name": "stderr",
          "text": [
            "Epoch 27/50  Augmentation : Cutout: 100%|██████████| 40/40 [00:02<00:00, 15.84it/s, Loss=0.662]\n"
          ]
        },
        {
          "output_type": "stream",
          "name": "stdout",
          "text": [
            "Epoch 27, Loss: 0.4380345091223717, lr = 0.020000000000000004\n"
          ]
        },
        {
          "output_type": "stream",
          "name": "stderr",
          "text": [
            "Epoch 28/50  Augmentation : Cutout: 100%|██████████| 40/40 [00:02<00:00, 18.34it/s, Loss=0.152]\n"
          ]
        },
        {
          "output_type": "stream",
          "name": "stdout",
          "text": [
            "Epoch 28, Loss: 0.39664610400795935, lr = 0.020000000000000004\n"
          ]
        },
        {
          "output_type": "stream",
          "name": "stderr",
          "text": [
            "Epoch 29/50  Augmentation : Cutout: 100%|██████████| 40/40 [00:02<00:00, 18.13it/s, Loss=0.236]\n"
          ]
        },
        {
          "output_type": "stream",
          "name": "stdout",
          "text": [
            "Epoch 29, Loss: 0.3598254434764385, lr = 0.020000000000000004\n"
          ]
        },
        {
          "output_type": "stream",
          "name": "stderr",
          "text": [
            "Epoch 30/50  Augmentation : Cutout: 100%|██████████| 40/40 [00:02<00:00, 18.44it/s, Loss=0.316]\n"
          ]
        },
        {
          "output_type": "stream",
          "name": "stdout",
          "text": [
            "Epoch 30, Loss: 0.3433079607784748, lr = 0.020000000000000004\n"
          ]
        },
        {
          "output_type": "stream",
          "name": "stderr",
          "text": [
            "Epoch 31/50  Augmentation : Cutout: 100%|██████████| 40/40 [00:02<00:00, 18.36it/s, Loss=0.434]\n"
          ]
        },
        {
          "output_type": "stream",
          "name": "stdout",
          "text": [
            "Epoch 31, Loss: 0.34749805815517903, lr = 0.020000000000000004\n"
          ]
        },
        {
          "output_type": "stream",
          "name": "stderr",
          "text": [
            "Epoch 32/50  Augmentation : Cutout: 100%|██████████| 40/40 [00:02<00:00, 16.73it/s, Loss=0.212]\n"
          ]
        },
        {
          "output_type": "stream",
          "name": "stdout",
          "text": [
            "Epoch 32, Loss: 0.3347442388534546, lr = 0.020000000000000004\n"
          ]
        },
        {
          "output_type": "stream",
          "name": "stderr",
          "text": [
            "Epoch 33/50  Augmentation : Cutout: 100%|██████████| 40/40 [00:02<00:00, 18.16it/s, Loss=0.744]\n"
          ]
        },
        {
          "output_type": "stream",
          "name": "stdout",
          "text": [
            "Epoch 33, Loss: 0.32044234611093997, lr = 0.020000000000000004\n"
          ]
        },
        {
          "output_type": "stream",
          "name": "stderr",
          "text": [
            "Epoch 34/50  Augmentation : Cutout: 100%|██████████| 40/40 [00:02<00:00, 18.93it/s, Loss=0.554]\n"
          ]
        },
        {
          "output_type": "stream",
          "name": "stdout",
          "text": [
            "Epoch 34, Loss: 0.34782606214284895, lr = 0.020000000000000004\n"
          ]
        },
        {
          "output_type": "stream",
          "name": "stderr",
          "text": [
            "Epoch 35/50  Augmentation : Cutout: 100%|██████████| 40/40 [00:02<00:00, 17.64it/s, Loss=0.146]\n"
          ]
        },
        {
          "output_type": "stream",
          "name": "stdout",
          "text": [
            "Epoch 35, Loss: 0.307598115503788, lr = 0.020000000000000004\n"
          ]
        },
        {
          "output_type": "stream",
          "name": "stderr",
          "text": [
            "Epoch 36/50  Augmentation : Cutout: 100%|██████████| 40/40 [00:02<00:00, 18.36it/s, Loss=0.38]\n"
          ]
        },
        {
          "output_type": "stream",
          "name": "stdout",
          "text": [
            "Epoch 36, Loss: 0.29281273745000364, lr = 0.020000000000000004\n"
          ]
        },
        {
          "output_type": "stream",
          "name": "stderr",
          "text": [
            "Epoch 37/50  Augmentation : Cutout: 100%|██████████| 40/40 [00:02<00:00, 17.17it/s, Loss=0.382]\n"
          ]
        },
        {
          "output_type": "stream",
          "name": "stdout",
          "text": [
            "Epoch 37, Loss: 0.2619033057242632, lr = 0.020000000000000004\n"
          ]
        },
        {
          "output_type": "stream",
          "name": "stderr",
          "text": [
            "Epoch 38/50  Augmentation : Cutout: 100%|██████████| 40/40 [00:02<00:00, 17.87it/s, Loss=0.155]\n"
          ]
        },
        {
          "output_type": "stream",
          "name": "stdout",
          "text": [
            "Epoch 38, Loss: 0.2608919184654951, lr = 0.020000000000000004\n"
          ]
        },
        {
          "output_type": "stream",
          "name": "stderr",
          "text": [
            "Epoch 39/50  Augmentation : Cutout: 100%|██████████| 40/40 [00:02<00:00, 18.43it/s, Loss=0.139]\n"
          ]
        },
        {
          "output_type": "stream",
          "name": "stdout",
          "text": [
            "Epoch 39, Loss: 0.2407961543649435, lr = 0.020000000000000004\n"
          ]
        },
        {
          "output_type": "stream",
          "name": "stderr",
          "text": [
            "Epoch 40/50  Augmentation : Cutout: 100%|██████████| 40/40 [00:02<00:00, 18.53it/s, Loss=0.308]\n"
          ]
        },
        {
          "output_type": "stream",
          "name": "stdout",
          "text": [
            "Epoch 40, Loss: 0.2443704403936863, lr = 0.004000000000000001\n"
          ]
        },
        {
          "output_type": "stream",
          "name": "stderr",
          "text": [
            "Epoch 41/50  Augmentation : Cutout: 100%|██████████| 40/40 [00:02<00:00, 17.74it/s, Loss=0.132]\n"
          ]
        },
        {
          "output_type": "stream",
          "name": "stdout",
          "text": [
            "Epoch 41, Loss: 0.19274329598993062, lr = 0.004000000000000001\n"
          ]
        },
        {
          "output_type": "stream",
          "name": "stderr",
          "text": [
            "Epoch 42/50  Augmentation : Cutout: 100%|██████████| 40/40 [00:02<00:00, 17.45it/s, Loss=0.38]\n"
          ]
        },
        {
          "output_type": "stream",
          "name": "stdout",
          "text": [
            "Epoch 42, Loss: 0.17627942394465207, lr = 0.004000000000000001\n"
          ]
        },
        {
          "output_type": "stream",
          "name": "stderr",
          "text": [
            "Epoch 43/50  Augmentation : Cutout: 100%|██████████| 40/40 [00:02<00:00, 17.55it/s, Loss=0.071]\n"
          ]
        },
        {
          "output_type": "stream",
          "name": "stdout",
          "text": [
            "Epoch 43, Loss: 0.1661056201905012, lr = 0.004000000000000001\n"
          ]
        },
        {
          "output_type": "stream",
          "name": "stderr",
          "text": [
            "Epoch 44/50  Augmentation : Cutout: 100%|██████████| 40/40 [00:02<00:00, 17.56it/s, Loss=0.432]\n"
          ]
        },
        {
          "output_type": "stream",
          "name": "stdout",
          "text": [
            "Epoch 44, Loss: 0.17058598436415195, lr = 0.004000000000000001\n"
          ]
        },
        {
          "output_type": "stream",
          "name": "stderr",
          "text": [
            "Epoch 45/50  Augmentation : Cutout: 100%|██████████| 40/40 [00:02<00:00, 18.09it/s, Loss=0.0932]\n"
          ]
        },
        {
          "output_type": "stream",
          "name": "stdout",
          "text": [
            "Epoch 45, Loss: 0.16748213432729245, lr = 0.004000000000000001\n"
          ]
        },
        {
          "output_type": "stream",
          "name": "stderr",
          "text": [
            "Epoch 46/50  Augmentation : Cutout: 100%|██████████| 40/40 [00:02<00:00, 18.13it/s, Loss=0.167]\n"
          ]
        },
        {
          "output_type": "stream",
          "name": "stdout",
          "text": [
            "Epoch 46, Loss: 0.16880860477685927, lr = 0.004000000000000001\n"
          ]
        },
        {
          "output_type": "stream",
          "name": "stderr",
          "text": [
            "Epoch 47/50  Augmentation : Cutout: 100%|██████████| 40/40 [00:02<00:00, 18.22it/s, Loss=0.0466]\n"
          ]
        },
        {
          "output_type": "stream",
          "name": "stdout",
          "text": [
            "Epoch 47, Loss: 0.15708478027954698, lr = 0.004000000000000001\n"
          ]
        },
        {
          "output_type": "stream",
          "name": "stderr",
          "text": [
            "Epoch 48/50  Augmentation : Cutout: 100%|██████████| 40/40 [00:02<00:00, 16.42it/s, Loss=0.139]\n"
          ]
        },
        {
          "output_type": "stream",
          "name": "stdout",
          "text": [
            "Epoch 48, Loss: 0.15735699888318777, lr = 0.004000000000000001\n"
          ]
        },
        {
          "output_type": "stream",
          "name": "stderr",
          "text": [
            "Epoch 49/50  Augmentation : Cutout: 100%|██████████| 40/40 [00:02<00:00, 18.53it/s, Loss=0.12]\n"
          ]
        },
        {
          "output_type": "stream",
          "name": "stdout",
          "text": [
            "Epoch 49, Loss: 0.1509259320795536, lr = 0.004000000000000001\n"
          ]
        },
        {
          "output_type": "stream",
          "name": "stderr",
          "text": [
            "Epoch 50/50  Augmentation : Cutout: 100%|██████████| 40/40 [00:02<00:00, 19.08it/s, Loss=0.12]"
          ]
        },
        {
          "output_type": "stream",
          "name": "stdout",
          "text": [
            "Epoch 50, Loss: 0.15840761363506317, lr = 0.004000000000000001\n"
          ]
        },
        {
          "output_type": "stream",
          "name": "stderr",
          "text": [
            "\n"
          ]
        },
        {
          "output_type": "stream",
          "name": "stdout",
          "text": [
            "Test Loss : 1.921360033750534, Test Accuracy : 61.17%\n",
            "[Seed : 5773 Experiment Start]\n",
            "\n"
          ]
        },
        {
          "output_type": "stream",
          "name": "stderr",
          "text": [
            "Epoch 1/50  Augmentation : All: 100%|██████████| 40/40 [00:02<00:00, 13.56it/s, Loss=2.31]\n"
          ]
        },
        {
          "output_type": "stream",
          "name": "stdout",
          "text": [
            "Epoch 1, Loss: 2.302833491563797, lr = 0.1\n"
          ]
        },
        {
          "output_type": "stream",
          "name": "stderr",
          "text": [
            "Epoch 2/50  Augmentation : All: 100%|██████████| 40/40 [00:02<00:00, 13.39it/s, Loss=2.14]\n"
          ]
        },
        {
          "output_type": "stream",
          "name": "stdout",
          "text": [
            "Epoch 2, Loss: 2.2036906123161315, lr = 0.1\n"
          ]
        },
        {
          "output_type": "stream",
          "name": "stderr",
          "text": [
            "Epoch 3/50  Augmentation : All: 100%|██████████| 40/40 [00:02<00:00, 14.30it/s, Loss=1.86]\n"
          ]
        },
        {
          "output_type": "stream",
          "name": "stdout",
          "text": [
            "Epoch 3, Loss: 2.0394065499305727, lr = 0.1\n"
          ]
        },
        {
          "output_type": "stream",
          "name": "stderr",
          "text": [
            "Epoch 4/50  Augmentation : All: 100%|██████████| 40/40 [00:02<00:00, 14.09it/s, Loss=1.84]\n"
          ]
        },
        {
          "output_type": "stream",
          "name": "stdout",
          "text": [
            "Epoch 4, Loss: 1.917038008570671, lr = 0.1\n"
          ]
        },
        {
          "output_type": "stream",
          "name": "stderr",
          "text": [
            "Epoch 5/50  Augmentation : All: 100%|██████████| 40/40 [00:02<00:00, 13.42it/s, Loss=1.99]\n"
          ]
        },
        {
          "output_type": "stream",
          "name": "stdout",
          "text": [
            "Epoch 5, Loss: 1.9541418731212616, lr = 0.1\n"
          ]
        },
        {
          "output_type": "stream",
          "name": "stderr",
          "text": [
            "Epoch 6/50  Augmentation : All: 100%|██████████| 40/40 [00:02<00:00, 13.36it/s, Loss=1.75]\n"
          ]
        },
        {
          "output_type": "stream",
          "name": "stdout",
          "text": [
            "Epoch 6, Loss: 1.868088561296463, lr = 0.1\n"
          ]
        },
        {
          "output_type": "stream",
          "name": "stderr",
          "text": [
            "Epoch 7/50  Augmentation : All: 100%|██████████| 40/40 [00:02<00:00, 13.96it/s, Loss=1.93]\n"
          ]
        },
        {
          "output_type": "stream",
          "name": "stdout",
          "text": [
            "Epoch 7, Loss: 1.7963913142681123, lr = 0.1\n"
          ]
        },
        {
          "output_type": "stream",
          "name": "stderr",
          "text": [
            "Epoch 8/50  Augmentation : All: 100%|██████████| 40/40 [00:02<00:00, 14.21it/s, Loss=1.64]\n"
          ]
        },
        {
          "output_type": "stream",
          "name": "stdout",
          "text": [
            "Epoch 8, Loss: 1.737163484096527, lr = 0.1\n"
          ]
        },
        {
          "output_type": "stream",
          "name": "stderr",
          "text": [
            "Epoch 9/50  Augmentation : All: 100%|██████████| 40/40 [00:02<00:00, 13.97it/s, Loss=1.9]\n"
          ]
        },
        {
          "output_type": "stream",
          "name": "stdout",
          "text": [
            "Epoch 9, Loss: 1.6465345323085785, lr = 0.1\n"
          ]
        },
        {
          "output_type": "stream",
          "name": "stderr",
          "text": [
            "Epoch 10/50  Augmentation : All: 100%|██████████| 40/40 [00:02<00:00, 13.74it/s, Loss=1.5]\n"
          ]
        },
        {
          "output_type": "stream",
          "name": "stdout",
          "text": [
            "Epoch 10, Loss: 1.6112935572862626, lr = 0.1\n"
          ]
        },
        {
          "output_type": "stream",
          "name": "stderr",
          "text": [
            "Epoch 11/50  Augmentation : All: 100%|██████████| 40/40 [00:02<00:00, 14.24it/s, Loss=1.58]\n"
          ]
        },
        {
          "output_type": "stream",
          "name": "stdout",
          "text": [
            "Epoch 11, Loss: 1.5550288289785386, lr = 0.1\n"
          ]
        },
        {
          "output_type": "stream",
          "name": "stderr",
          "text": [
            "Epoch 12/50  Augmentation : All: 100%|██████████| 40/40 [00:02<00:00, 14.19it/s, Loss=1.35]\n"
          ]
        },
        {
          "output_type": "stream",
          "name": "stdout",
          "text": [
            "Epoch 12, Loss: 1.529542824625969, lr = 0.1\n"
          ]
        },
        {
          "output_type": "stream",
          "name": "stderr",
          "text": [
            "Epoch 13/50  Augmentation : All: 100%|██████████| 40/40 [00:02<00:00, 14.35it/s, Loss=1.56]\n"
          ]
        },
        {
          "output_type": "stream",
          "name": "stdout",
          "text": [
            "Epoch 13, Loss: 1.5027815401554108, lr = 0.1\n"
          ]
        },
        {
          "output_type": "stream",
          "name": "stderr",
          "text": [
            "Epoch 14/50  Augmentation : All: 100%|██████████| 40/40 [00:03<00:00, 12.82it/s, Loss=1.64]\n"
          ]
        },
        {
          "output_type": "stream",
          "name": "stdout",
          "text": [
            "Epoch 14, Loss: 1.4630693256855012, lr = 0.1\n"
          ]
        },
        {
          "output_type": "stream",
          "name": "stderr",
          "text": [
            "Epoch 15/50  Augmentation : All: 100%|██████████| 40/40 [00:02<00:00, 13.96it/s, Loss=1.28]\n"
          ]
        },
        {
          "output_type": "stream",
          "name": "stdout",
          "text": [
            "Epoch 15, Loss: 1.4386652708053589, lr = 0.1\n"
          ]
        },
        {
          "output_type": "stream",
          "name": "stderr",
          "text": [
            "Epoch 16/50  Augmentation : All: 100%|██████████| 40/40 [00:02<00:00, 14.23it/s, Loss=1.45]\n"
          ]
        },
        {
          "output_type": "stream",
          "name": "stdout",
          "text": [
            "Epoch 16, Loss: 1.4056673049926758, lr = 0.1\n"
          ]
        },
        {
          "output_type": "stream",
          "name": "stderr",
          "text": [
            "Epoch 17/50  Augmentation : All: 100%|██████████| 40/40 [00:02<00:00, 14.29it/s, Loss=1.16]\n"
          ]
        },
        {
          "output_type": "stream",
          "name": "stdout",
          "text": [
            "Epoch 17, Loss: 1.3672678619623184, lr = 0.1\n"
          ]
        },
        {
          "output_type": "stream",
          "name": "stderr",
          "text": [
            "Epoch 18/50  Augmentation : All: 100%|██████████| 40/40 [00:03<00:00, 13.16it/s, Loss=1.18]\n"
          ]
        },
        {
          "output_type": "stream",
          "name": "stdout",
          "text": [
            "Epoch 18, Loss: 1.3344068974256516, lr = 0.1\n"
          ]
        },
        {
          "output_type": "stream",
          "name": "stderr",
          "text": [
            "Epoch 19/50  Augmentation : All: 100%|██████████| 40/40 [00:02<00:00, 14.20it/s, Loss=1.08]\n"
          ]
        },
        {
          "output_type": "stream",
          "name": "stdout",
          "text": [
            "Epoch 19, Loss: 1.3190493375062942, lr = 0.1\n"
          ]
        },
        {
          "output_type": "stream",
          "name": "stderr",
          "text": [
            "Epoch 20/50  Augmentation : All: 100%|██████████| 40/40 [00:02<00:00, 13.85it/s, Loss=1.21]\n"
          ]
        },
        {
          "output_type": "stream",
          "name": "stdout",
          "text": [
            "Epoch 20, Loss: 1.2847236007452012, lr = 0.020000000000000004\n"
          ]
        },
        {
          "output_type": "stream",
          "name": "stderr",
          "text": [
            "Epoch 21/50  Augmentation : All: 100%|██████████| 40/40 [00:02<00:00, 14.20it/s, Loss=1.06]\n"
          ]
        },
        {
          "output_type": "stream",
          "name": "stdout",
          "text": [
            "Epoch 21, Loss: 1.1890331834554673, lr = 0.020000000000000004\n"
          ]
        },
        {
          "output_type": "stream",
          "name": "stderr",
          "text": [
            "Epoch 22/50  Augmentation : All: 100%|██████████| 40/40 [00:03<00:00, 12.37it/s, Loss=0.921]\n"
          ]
        },
        {
          "output_type": "stream",
          "name": "stdout",
          "text": [
            "Epoch 22, Loss: 1.1300894752144814, lr = 0.020000000000000004\n"
          ]
        },
        {
          "output_type": "stream",
          "name": "stderr",
          "text": [
            "Epoch 23/50  Augmentation : All: 100%|██████████| 40/40 [00:02<00:00, 14.38it/s, Loss=0.854]\n"
          ]
        },
        {
          "output_type": "stream",
          "name": "stdout",
          "text": [
            "Epoch 23, Loss: 1.092210242152214, lr = 0.020000000000000004\n"
          ]
        },
        {
          "output_type": "stream",
          "name": "stderr",
          "text": [
            "Epoch 24/50  Augmentation : All: 100%|██████████| 40/40 [00:02<00:00, 14.03it/s, Loss=1.09]\n"
          ]
        },
        {
          "output_type": "stream",
          "name": "stdout",
          "text": [
            "Epoch 24, Loss: 1.0845841944217682, lr = 0.020000000000000004\n"
          ]
        },
        {
          "output_type": "stream",
          "name": "stderr",
          "text": [
            "Epoch 25/50  Augmentation : All: 100%|██████████| 40/40 [00:02<00:00, 13.85it/s, Loss=1.29]\n"
          ]
        },
        {
          "output_type": "stream",
          "name": "stdout",
          "text": [
            "Epoch 25, Loss: 1.0801706925034522, lr = 0.020000000000000004\n"
          ]
        },
        {
          "output_type": "stream",
          "name": "stderr",
          "text": [
            "Epoch 26/50  Augmentation : All: 100%|██████████| 40/40 [00:03<00:00, 13.10it/s, Loss=0.909]\n"
          ]
        },
        {
          "output_type": "stream",
          "name": "stdout",
          "text": [
            "Epoch 26, Loss: 1.0615995347499847, lr = 0.020000000000000004\n"
          ]
        },
        {
          "output_type": "stream",
          "name": "stderr",
          "text": [
            "Epoch 27/50  Augmentation : All: 100%|██████████| 40/40 [00:02<00:00, 14.11it/s, Loss=1.1]\n"
          ]
        },
        {
          "output_type": "stream",
          "name": "stdout",
          "text": [
            "Epoch 27, Loss: 1.0503130808472634, lr = 0.020000000000000004\n"
          ]
        },
        {
          "output_type": "stream",
          "name": "stderr",
          "text": [
            "Epoch 28/50  Augmentation : All: 100%|██████████| 40/40 [00:02<00:00, 14.12it/s, Loss=1.03]\n"
          ]
        },
        {
          "output_type": "stream",
          "name": "stdout",
          "text": [
            "Epoch 28, Loss: 1.028739745914936, lr = 0.020000000000000004\n"
          ]
        },
        {
          "output_type": "stream",
          "name": "stderr",
          "text": [
            "Epoch 29/50  Augmentation : All: 100%|██████████| 40/40 [00:02<00:00, 14.00it/s, Loss=1.05]\n"
          ]
        },
        {
          "output_type": "stream",
          "name": "stdout",
          "text": [
            "Epoch 29, Loss: 1.037887880206108, lr = 0.020000000000000004\n"
          ]
        },
        {
          "output_type": "stream",
          "name": "stderr",
          "text": [
            "Epoch 30/50  Augmentation : All: 100%|██████████| 40/40 [00:03<00:00, 13.09it/s, Loss=0.956]\n"
          ]
        },
        {
          "output_type": "stream",
          "name": "stdout",
          "text": [
            "Epoch 30, Loss: 1.0101452484726905, lr = 0.020000000000000004\n"
          ]
        },
        {
          "output_type": "stream",
          "name": "stderr",
          "text": [
            "Epoch 31/50  Augmentation : All: 100%|██████████| 40/40 [00:02<00:00, 14.23it/s, Loss=1.05]\n"
          ]
        },
        {
          "output_type": "stream",
          "name": "stdout",
          "text": [
            "Epoch 31, Loss: 0.9965924382209778, lr = 0.020000000000000004\n"
          ]
        },
        {
          "output_type": "stream",
          "name": "stderr",
          "text": [
            "Epoch 32/50  Augmentation : All: 100%|██████████| 40/40 [00:02<00:00, 14.06it/s, Loss=0.78]\n"
          ]
        },
        {
          "output_type": "stream",
          "name": "stdout",
          "text": [
            "Epoch 32, Loss: 0.9767336264252663, lr = 0.020000000000000004\n"
          ]
        },
        {
          "output_type": "stream",
          "name": "stderr",
          "text": [
            "Epoch 33/50  Augmentation : All: 100%|██████████| 40/40 [00:02<00:00, 14.51it/s, Loss=1.44]\n"
          ]
        },
        {
          "output_type": "stream",
          "name": "stdout",
          "text": [
            "Epoch 33, Loss: 0.9893763393163681, lr = 0.020000000000000004\n"
          ]
        },
        {
          "output_type": "stream",
          "name": "stderr",
          "text": [
            "Epoch 34/50  Augmentation : All: 100%|██████████| 40/40 [00:03<00:00, 12.84it/s, Loss=0.709]\n"
          ]
        },
        {
          "output_type": "stream",
          "name": "stdout",
          "text": [
            "Epoch 34, Loss: 0.9738133266568184, lr = 0.020000000000000004\n"
          ]
        },
        {
          "output_type": "stream",
          "name": "stderr",
          "text": [
            "Epoch 35/50  Augmentation : All: 100%|██████████| 40/40 [00:02<00:00, 14.20it/s, Loss=0.652]\n"
          ]
        },
        {
          "output_type": "stream",
          "name": "stdout",
          "text": [
            "Epoch 35, Loss: 0.9516432970762253, lr = 0.020000000000000004\n"
          ]
        },
        {
          "output_type": "stream",
          "name": "stderr",
          "text": [
            "Epoch 36/50  Augmentation : All: 100%|██████████| 40/40 [00:02<00:00, 14.11it/s, Loss=1.37]\n"
          ]
        },
        {
          "output_type": "stream",
          "name": "stdout",
          "text": [
            "Epoch 36, Loss: 0.9651861891150475, lr = 0.020000000000000004\n"
          ]
        },
        {
          "output_type": "stream",
          "name": "stderr",
          "text": [
            "Epoch 37/50  Augmentation : All: 100%|██████████| 40/40 [00:02<00:00, 14.11it/s, Loss=0.893]\n"
          ]
        },
        {
          "output_type": "stream",
          "name": "stdout",
          "text": [
            "Epoch 37, Loss: 0.9536645874381066, lr = 0.020000000000000004\n"
          ]
        },
        {
          "output_type": "stream",
          "name": "stderr",
          "text": [
            "Epoch 38/50  Augmentation : All: 100%|██████████| 40/40 [00:03<00:00, 13.28it/s, Loss=1.01]\n"
          ]
        },
        {
          "output_type": "stream",
          "name": "stdout",
          "text": [
            "Epoch 38, Loss: 0.9344343304634094, lr = 0.020000000000000004\n"
          ]
        },
        {
          "output_type": "stream",
          "name": "stderr",
          "text": [
            "Epoch 39/50  Augmentation : All: 100%|██████████| 40/40 [00:02<00:00, 14.49it/s, Loss=0.712]\n"
          ]
        },
        {
          "output_type": "stream",
          "name": "stdout",
          "text": [
            "Epoch 39, Loss: 0.9100811123847962, lr = 0.020000000000000004\n"
          ]
        },
        {
          "output_type": "stream",
          "name": "stderr",
          "text": [
            "Epoch 40/50  Augmentation : All: 100%|██████████| 40/40 [00:02<00:00, 14.49it/s, Loss=0.891]\n"
          ]
        },
        {
          "output_type": "stream",
          "name": "stdout",
          "text": [
            "Epoch 40, Loss: 0.9041088044643402, lr = 0.004000000000000001\n"
          ]
        },
        {
          "output_type": "stream",
          "name": "stderr",
          "text": [
            "Epoch 41/50  Augmentation : All: 100%|██████████| 40/40 [00:02<00:00, 14.47it/s, Loss=0.808]\n"
          ]
        },
        {
          "output_type": "stream",
          "name": "stdout",
          "text": [
            "Epoch 41, Loss: 0.8616532623767853, lr = 0.004000000000000001\n"
          ]
        },
        {
          "output_type": "stream",
          "name": "stderr",
          "text": [
            "Epoch 42/50  Augmentation : All: 100%|██████████| 40/40 [00:03<00:00, 12.76it/s, Loss=0.712]\n"
          ]
        },
        {
          "output_type": "stream",
          "name": "stdout",
          "text": [
            "Epoch 42, Loss: 0.8340196877717971, lr = 0.004000000000000001\n"
          ]
        },
        {
          "output_type": "stream",
          "name": "stderr",
          "text": [
            "Epoch 43/50  Augmentation : All: 100%|██████████| 40/40 [00:02<00:00, 14.60it/s, Loss=0.909]\n"
          ]
        },
        {
          "output_type": "stream",
          "name": "stdout",
          "text": [
            "Epoch 43, Loss: 0.8404750466346741, lr = 0.004000000000000001\n"
          ]
        },
        {
          "output_type": "stream",
          "name": "stderr",
          "text": [
            "Epoch 44/50  Augmentation : All: 100%|██████████| 40/40 [00:02<00:00, 14.40it/s, Loss=0.928]\n"
          ]
        },
        {
          "output_type": "stream",
          "name": "stdout",
          "text": [
            "Epoch 44, Loss: 0.8256737485527992, lr = 0.004000000000000001\n"
          ]
        },
        {
          "output_type": "stream",
          "name": "stderr",
          "text": [
            "Epoch 45/50  Augmentation : All: 100%|██████████| 40/40 [00:02<00:00, 14.78it/s, Loss=0.808]\n"
          ]
        },
        {
          "output_type": "stream",
          "name": "stdout",
          "text": [
            "Epoch 45, Loss: 0.8234606623649597, lr = 0.004000000000000001\n"
          ]
        },
        {
          "output_type": "stream",
          "name": "stderr",
          "text": [
            "Epoch 46/50  Augmentation : All: 100%|██████████| 40/40 [00:02<00:00, 13.53it/s, Loss=0.526]\n"
          ]
        },
        {
          "output_type": "stream",
          "name": "stdout",
          "text": [
            "Epoch 46, Loss: 0.8130276143550873, lr = 0.004000000000000001\n"
          ]
        },
        {
          "output_type": "stream",
          "name": "stderr",
          "text": [
            "Epoch 47/50  Augmentation : All: 100%|██████████| 40/40 [00:02<00:00, 14.35it/s, Loss=0.617]\n"
          ]
        },
        {
          "output_type": "stream",
          "name": "stdout",
          "text": [
            "Epoch 47, Loss: 0.8056566819548607, lr = 0.004000000000000001\n"
          ]
        },
        {
          "output_type": "stream",
          "name": "stderr",
          "text": [
            "Epoch 48/50  Augmentation : All: 100%|██████████| 40/40 [00:02<00:00, 14.39it/s, Loss=0.644]\n"
          ]
        },
        {
          "output_type": "stream",
          "name": "stdout",
          "text": [
            "Epoch 48, Loss: 0.8052156150341034, lr = 0.004000000000000001\n"
          ]
        },
        {
          "output_type": "stream",
          "name": "stderr",
          "text": [
            "Epoch 49/50  Augmentation : All: 100%|██████████| 40/40 [00:02<00:00, 14.40it/s, Loss=0.588]\n"
          ]
        },
        {
          "output_type": "stream",
          "name": "stdout",
          "text": [
            "Epoch 49, Loss: 0.7936492756009101, lr = 0.004000000000000001\n"
          ]
        },
        {
          "output_type": "stream",
          "name": "stderr",
          "text": [
            "Epoch 50/50  Augmentation : All: 100%|██████████| 40/40 [00:02<00:00, 13.46it/s, Loss=0.738]"
          ]
        },
        {
          "output_type": "stream",
          "name": "stdout",
          "text": [
            "Epoch 50, Loss: 0.8032736271619797, lr = 0.004000000000000001\n"
          ]
        },
        {
          "output_type": "stream",
          "name": "stderr",
          "text": [
            "\n"
          ]
        },
        {
          "output_type": "stream",
          "name": "stdout",
          "text": [
            "Test Loss : 0.9851335942745209, Test Accuracy : 67.33%\n"
          ]
        }
      ],
      "source": [
        "# Augmentation 종류\n",
        "mean=(0.4914,0.4822,0.4465); std=(0.2470,0.2435,0.2616)\n",
        "augmentations = [\n",
        "# 0: None\n",
        "transforms.Compose([transforms.ToTensor(), transforms.Normalize(mean, std)]),\n",
        "\n",
        "# 1: RandomCrop\n",
        "transforms.Compose([transforms.RandomCrop(32, padding=4), transforms.ToTensor(), transforms.Normalize(mean, std)]),\n",
        "\n",
        "# 2: RandomHorizontalFlip\n",
        "transforms.Compose([transforms.RandomHorizontalFlip(p=0.5), transforms.ToTensor(), transforms.Normalize(mean, std)]),\n",
        "\n",
        "# 3: Cutout (RandomErasing)\n",
        "transforms.Compose([\n",
        "    transforms.ToTensor(),\n",
        "    transforms.Normalize(mean, std),\n",
        "    transforms.RandomErasing(p=0.3, scale=(0.02, 0.25), ratio=(1.0, 1.0), value=mean)\n",
        "    ]),\n",
        "\n",
        "# 4: ALL (RandomCrop + RandomHorizontalFlip + Cutout)\n",
        "transforms.Compose([\n",
        "    transforms.RandomCrop(32, padding=4),\n",
        "    transforms.RandomHorizontalFlip(p=0.5),\n",
        "    transforms.ToTensor(),\n",
        "    transforms.Normalize(mean, std),\n",
        "    transforms.RandomErasing(p=0.3, scale=(0.02, 0.25), ratio=(1.0, 1.0), value=mean)\n",
        "    ])\n",
        "]\n",
        "\n",
        "\n",
        "def experiment_start():\n",
        "    seed = np.random.randint(10000)\n",
        "    result = []\n",
        "\n",
        "    result.append(run_experiment(augmentations[0], seed, 0))\n",
        "    result.append(run_experiment(augmentations[1], seed, 1))\n",
        "    result.append(run_experiment(augmentations[2], seed, 2))\n",
        "    result.append(run_experiment(augmentations[3], seed, 3))\n",
        "    result.append(run_experiment(augmentations[4], seed, 4))\n",
        "\n",
        "    return result\n",
        "\n",
        "if __name__ == \"__main__\":\n",
        "    torch.multiprocessing.set_start_method('fork', force=True)\n",
        "    num_experiments = 3\n",
        "    results = []\n",
        "\n",
        "    for _ in range(num_experiments):\n",
        "        results.append(experiment_start())"
      ]
    },
    {
      "cell_type": "code",
      "execution_count": 12,
      "metadata": {
        "colab": {
          "base_uri": "https://localhost:8080/",
          "height": 476
        },
        "id": "I3z43YsPE6Lc",
        "outputId": "b3809faf-8cc9-4614-a824-2766c1ebeef5"
      },
      "outputs": [
        {
          "output_type": "stream",
          "name": "stdout",
          "text": [
            "[Experiment 0 Result]\n",
            "                         None  RandomCrop  RandomHorizontalFlip  Cutout    All\n",
            "Accuracy                59.31       61.92                 62.69   61.51  66.60\n",
            "Difference (with None)   0.00        2.61                  3.38    2.20   7.29 \n",
            "\n",
            "\n",
            "[Experiment 1 Result]\n",
            "                         None  RandomCrop  RandomHorizontalFlip  Cutout    All\n",
            "Accuracy                59.09       65.41                 63.89   61.21  66.94\n",
            "Difference (with None)   0.00        6.32                  4.80    2.12   7.85 \n",
            "\n",
            "\n",
            "[Experiment 2 Result]\n",
            "                         None  RandomCrop  RandomHorizontalFlip  Cutout    All\n",
            "Accuracy                59.17       65.41                 63.59   61.17  67.33\n",
            "Difference (with None)   0.00        6.24                  4.42    2.00   8.16 \n",
            "\n",
            "\n",
            "Average\n"
          ]
        },
        {
          "output_type": "execute_result",
          "data": {
            "text/plain": [
              "                         None  RandomCrop  RandomHorizontalFlip     Cutout  \\\n",
              "Accuracy                59.19   64.246667                 63.39  61.296667   \n",
              "Difference (with None)   0.00    5.056667                  4.20   2.106667   \n",
              "\n",
              "                              All  \n",
              "Accuracy                66.956667  \n",
              "Difference (with None)   7.766667  "
            ],
            "text/html": [
              "\n",
              "  <div id=\"df-562e2f86-14e8-483d-bfc9-5f40a635473d\" class=\"colab-df-container\">\n",
              "    <div>\n",
              "<style scoped>\n",
              "    .dataframe tbody tr th:only-of-type {\n",
              "        vertical-align: middle;\n",
              "    }\n",
              "\n",
              "    .dataframe tbody tr th {\n",
              "        vertical-align: top;\n",
              "    }\n",
              "\n",
              "    .dataframe thead th {\n",
              "        text-align: right;\n",
              "    }\n",
              "</style>\n",
              "<table border=\"1\" class=\"dataframe\">\n",
              "  <thead>\n",
              "    <tr style=\"text-align: right;\">\n",
              "      <th></th>\n",
              "      <th>None</th>\n",
              "      <th>RandomCrop</th>\n",
              "      <th>RandomHorizontalFlip</th>\n",
              "      <th>Cutout</th>\n",
              "      <th>All</th>\n",
              "    </tr>\n",
              "  </thead>\n",
              "  <tbody>\n",
              "    <tr>\n",
              "      <th>Accuracy</th>\n",
              "      <td>59.19</td>\n",
              "      <td>64.246667</td>\n",
              "      <td>63.39</td>\n",
              "      <td>61.296667</td>\n",
              "      <td>66.956667</td>\n",
              "    </tr>\n",
              "    <tr>\n",
              "      <th>Difference (with None)</th>\n",
              "      <td>0.00</td>\n",
              "      <td>5.056667</td>\n",
              "      <td>4.20</td>\n",
              "      <td>2.106667</td>\n",
              "      <td>7.766667</td>\n",
              "    </tr>\n",
              "  </tbody>\n",
              "</table>\n",
              "</div>\n",
              "    <div class=\"colab-df-buttons\">\n",
              "\n",
              "  <div class=\"colab-df-container\">\n",
              "    <button class=\"colab-df-convert\" onclick=\"convertToInteractive('df-562e2f86-14e8-483d-bfc9-5f40a635473d')\"\n",
              "            title=\"Convert this dataframe to an interactive table.\"\n",
              "            style=\"display:none;\">\n",
              "\n",
              "  <svg xmlns=\"http://www.w3.org/2000/svg\" height=\"24px\" viewBox=\"0 -960 960 960\">\n",
              "    <path d=\"M120-120v-720h720v720H120Zm60-500h600v-160H180v160Zm220 220h160v-160H400v160Zm0 220h160v-160H400v160ZM180-400h160v-160H180v160Zm440 0h160v-160H620v160ZM180-180h160v-160H180v160Zm440 0h160v-160H620v160Z\"/>\n",
              "  </svg>\n",
              "    </button>\n",
              "\n",
              "  <style>\n",
              "    .colab-df-container {\n",
              "      display:flex;\n",
              "      gap: 12px;\n",
              "    }\n",
              "\n",
              "    .colab-df-convert {\n",
              "      background-color: #E8F0FE;\n",
              "      border: none;\n",
              "      border-radius: 50%;\n",
              "      cursor: pointer;\n",
              "      display: none;\n",
              "      fill: #1967D2;\n",
              "      height: 32px;\n",
              "      padding: 0 0 0 0;\n",
              "      width: 32px;\n",
              "    }\n",
              "\n",
              "    .colab-df-convert:hover {\n",
              "      background-color: #E2EBFA;\n",
              "      box-shadow: 0px 1px 2px rgba(60, 64, 67, 0.3), 0px 1px 3px 1px rgba(60, 64, 67, 0.15);\n",
              "      fill: #174EA6;\n",
              "    }\n",
              "\n",
              "    .colab-df-buttons div {\n",
              "      margin-bottom: 4px;\n",
              "    }\n",
              "\n",
              "    [theme=dark] .colab-df-convert {\n",
              "      background-color: #3B4455;\n",
              "      fill: #D2E3FC;\n",
              "    }\n",
              "\n",
              "    [theme=dark] .colab-df-convert:hover {\n",
              "      background-color: #434B5C;\n",
              "      box-shadow: 0px 1px 3px 1px rgba(0, 0, 0, 0.15);\n",
              "      filter: drop-shadow(0px 1px 2px rgba(0, 0, 0, 0.3));\n",
              "      fill: #FFFFFF;\n",
              "    }\n",
              "  </style>\n",
              "\n",
              "    <script>\n",
              "      const buttonEl =\n",
              "        document.querySelector('#df-562e2f86-14e8-483d-bfc9-5f40a635473d button.colab-df-convert');\n",
              "      buttonEl.style.display =\n",
              "        google.colab.kernel.accessAllowed ? 'block' : 'none';\n",
              "\n",
              "      async function convertToInteractive(key) {\n",
              "        const element = document.querySelector('#df-562e2f86-14e8-483d-bfc9-5f40a635473d');\n",
              "        const dataTable =\n",
              "          await google.colab.kernel.invokeFunction('convertToInteractive',\n",
              "                                                    [key], {});\n",
              "        if (!dataTable) return;\n",
              "\n",
              "        const docLinkHtml = 'Like what you see? Visit the ' +\n",
              "          '<a target=\"_blank\" href=https://colab.research.google.com/notebooks/data_table.ipynb>data table notebook</a>'\n",
              "          + ' to learn more about interactive tables.';\n",
              "        element.innerHTML = '';\n",
              "        dataTable['output_type'] = 'display_data';\n",
              "        await google.colab.output.renderOutput(dataTable, element);\n",
              "        const docLink = document.createElement('div');\n",
              "        docLink.innerHTML = docLinkHtml;\n",
              "        element.appendChild(docLink);\n",
              "      }\n",
              "    </script>\n",
              "  </div>\n",
              "\n",
              "\n",
              "    <div id=\"df-0bdbba71-e090-4bef-8e50-4519e3eb988a\">\n",
              "      <button class=\"colab-df-quickchart\" onclick=\"quickchart('df-0bdbba71-e090-4bef-8e50-4519e3eb988a')\"\n",
              "                title=\"Suggest charts\"\n",
              "                style=\"display:none;\">\n",
              "\n",
              "<svg xmlns=\"http://www.w3.org/2000/svg\" height=\"24px\"viewBox=\"0 0 24 24\"\n",
              "     width=\"24px\">\n",
              "    <g>\n",
              "        <path d=\"M19 3H5c-1.1 0-2 .9-2 2v14c0 1.1.9 2 2 2h14c1.1 0 2-.9 2-2V5c0-1.1-.9-2-2-2zM9 17H7v-7h2v7zm4 0h-2V7h2v10zm4 0h-2v-4h2v4z\"/>\n",
              "    </g>\n",
              "</svg>\n",
              "      </button>\n",
              "\n",
              "<style>\n",
              "  .colab-df-quickchart {\n",
              "      --bg-color: #E8F0FE;\n",
              "      --fill-color: #1967D2;\n",
              "      --hover-bg-color: #E2EBFA;\n",
              "      --hover-fill-color: #174EA6;\n",
              "      --disabled-fill-color: #AAA;\n",
              "      --disabled-bg-color: #DDD;\n",
              "  }\n",
              "\n",
              "  [theme=dark] .colab-df-quickchart {\n",
              "      --bg-color: #3B4455;\n",
              "      --fill-color: #D2E3FC;\n",
              "      --hover-bg-color: #434B5C;\n",
              "      --hover-fill-color: #FFFFFF;\n",
              "      --disabled-bg-color: #3B4455;\n",
              "      --disabled-fill-color: #666;\n",
              "  }\n",
              "\n",
              "  .colab-df-quickchart {\n",
              "    background-color: var(--bg-color);\n",
              "    border: none;\n",
              "    border-radius: 50%;\n",
              "    cursor: pointer;\n",
              "    display: none;\n",
              "    fill: var(--fill-color);\n",
              "    height: 32px;\n",
              "    padding: 0;\n",
              "    width: 32px;\n",
              "  }\n",
              "\n",
              "  .colab-df-quickchart:hover {\n",
              "    background-color: var(--hover-bg-color);\n",
              "    box-shadow: 0 1px 2px rgba(60, 64, 67, 0.3), 0 1px 3px 1px rgba(60, 64, 67, 0.15);\n",
              "    fill: var(--button-hover-fill-color);\n",
              "  }\n",
              "\n",
              "  .colab-df-quickchart-complete:disabled,\n",
              "  .colab-df-quickchart-complete:disabled:hover {\n",
              "    background-color: var(--disabled-bg-color);\n",
              "    fill: var(--disabled-fill-color);\n",
              "    box-shadow: none;\n",
              "  }\n",
              "\n",
              "  .colab-df-spinner {\n",
              "    border: 2px solid var(--fill-color);\n",
              "    border-color: transparent;\n",
              "    border-bottom-color: var(--fill-color);\n",
              "    animation:\n",
              "      spin 1s steps(1) infinite;\n",
              "  }\n",
              "\n",
              "  @keyframes spin {\n",
              "    0% {\n",
              "      border-color: transparent;\n",
              "      border-bottom-color: var(--fill-color);\n",
              "      border-left-color: var(--fill-color);\n",
              "    }\n",
              "    20% {\n",
              "      border-color: transparent;\n",
              "      border-left-color: var(--fill-color);\n",
              "      border-top-color: var(--fill-color);\n",
              "    }\n",
              "    30% {\n",
              "      border-color: transparent;\n",
              "      border-left-color: var(--fill-color);\n",
              "      border-top-color: var(--fill-color);\n",
              "      border-right-color: var(--fill-color);\n",
              "    }\n",
              "    40% {\n",
              "      border-color: transparent;\n",
              "      border-right-color: var(--fill-color);\n",
              "      border-top-color: var(--fill-color);\n",
              "    }\n",
              "    60% {\n",
              "      border-color: transparent;\n",
              "      border-right-color: var(--fill-color);\n",
              "    }\n",
              "    80% {\n",
              "      border-color: transparent;\n",
              "      border-right-color: var(--fill-color);\n",
              "      border-bottom-color: var(--fill-color);\n",
              "    }\n",
              "    90% {\n",
              "      border-color: transparent;\n",
              "      border-bottom-color: var(--fill-color);\n",
              "    }\n",
              "  }\n",
              "</style>\n",
              "\n",
              "      <script>\n",
              "        async function quickchart(key) {\n",
              "          const quickchartButtonEl =\n",
              "            document.querySelector('#' + key + ' button');\n",
              "          quickchartButtonEl.disabled = true;  // To prevent multiple clicks.\n",
              "          quickchartButtonEl.classList.add('colab-df-spinner');\n",
              "          try {\n",
              "            const charts = await google.colab.kernel.invokeFunction(\n",
              "                'suggestCharts', [key], {});\n",
              "          } catch (error) {\n",
              "            console.error('Error during call to suggestCharts:', error);\n",
              "          }\n",
              "          quickchartButtonEl.classList.remove('colab-df-spinner');\n",
              "          quickchartButtonEl.classList.add('colab-df-quickchart-complete');\n",
              "        }\n",
              "        (() => {\n",
              "          let quickchartButtonEl =\n",
              "            document.querySelector('#df-0bdbba71-e090-4bef-8e50-4519e3eb988a button');\n",
              "          quickchartButtonEl.style.display =\n",
              "            google.colab.kernel.accessAllowed ? 'block' : 'none';\n",
              "        })();\n",
              "      </script>\n",
              "    </div>\n",
              "\n",
              "  <div id=\"id_fd25db66-7935-4bc3-87a9-fc562f5e35d6\">\n",
              "    <style>\n",
              "      .colab-df-generate {\n",
              "        background-color: #E8F0FE;\n",
              "        border: none;\n",
              "        border-radius: 50%;\n",
              "        cursor: pointer;\n",
              "        display: none;\n",
              "        fill: #1967D2;\n",
              "        height: 32px;\n",
              "        padding: 0 0 0 0;\n",
              "        width: 32px;\n",
              "      }\n",
              "\n",
              "      .colab-df-generate:hover {\n",
              "        background-color: #E2EBFA;\n",
              "        box-shadow: 0px 1px 2px rgba(60, 64, 67, 0.3), 0px 1px 3px 1px rgba(60, 64, 67, 0.15);\n",
              "        fill: #174EA6;\n",
              "      }\n",
              "\n",
              "      [theme=dark] .colab-df-generate {\n",
              "        background-color: #3B4455;\n",
              "        fill: #D2E3FC;\n",
              "      }\n",
              "\n",
              "      [theme=dark] .colab-df-generate:hover {\n",
              "        background-color: #434B5C;\n",
              "        box-shadow: 0px 1px 3px 1px rgba(0, 0, 0, 0.15);\n",
              "        filter: drop-shadow(0px 1px 2px rgba(0, 0, 0, 0.3));\n",
              "        fill: #FFFFFF;\n",
              "      }\n",
              "    </style>\n",
              "    <button class=\"colab-df-generate\" onclick=\"generateWithVariable('avg_df')\"\n",
              "            title=\"Generate code using this dataframe.\"\n",
              "            style=\"display:none;\">\n",
              "\n",
              "  <svg xmlns=\"http://www.w3.org/2000/svg\" height=\"24px\"viewBox=\"0 0 24 24\"\n",
              "       width=\"24px\">\n",
              "    <path d=\"M7,19H8.4L18.45,9,17,7.55,7,17.6ZM5,21V16.75L18.45,3.32a2,2,0,0,1,2.83,0l1.4,1.43a1.91,1.91,0,0,1,.58,1.4,1.91,1.91,0,0,1-.58,1.4L9.25,21ZM18.45,9,17,7.55Zm-12,3A5.31,5.31,0,0,0,4.9,8.1,5.31,5.31,0,0,0,1,6.5,5.31,5.31,0,0,0,4.9,4.9,5.31,5.31,0,0,0,6.5,1,5.31,5.31,0,0,0,8.1,4.9,5.31,5.31,0,0,0,12,6.5,5.46,5.46,0,0,0,6.5,12Z\"/>\n",
              "  </svg>\n",
              "    </button>\n",
              "    <script>\n",
              "      (() => {\n",
              "      const buttonEl =\n",
              "        document.querySelector('#id_fd25db66-7935-4bc3-87a9-fc562f5e35d6 button.colab-df-generate');\n",
              "      buttonEl.style.display =\n",
              "        google.colab.kernel.accessAllowed ? 'block' : 'none';\n",
              "\n",
              "      buttonEl.onclick = () => {\n",
              "        google.colab.notebook.generateWithVariable('avg_df');\n",
              "      }\n",
              "      })();\n",
              "    </script>\n",
              "  </div>\n",
              "\n",
              "    </div>\n",
              "  </div>\n"
            ],
            "application/vnd.google.colaboratory.intrinsic+json": {
              "type": "dataframe",
              "variable_name": "avg_df",
              "summary": "{\n  \"name\": \"avg_df\",\n  \"rows\": 2,\n  \"fields\": [\n    {\n      \"column\": \"None\",\n      \"properties\": {\n        \"dtype\": \"number\",\n        \"std\": 41.853650378431745,\n        \"min\": 0.0,\n        \"max\": 59.19,\n        \"num_unique_values\": 2,\n        \"samples\": [\n          0.0,\n          59.19\n        ],\n        \"semantic_type\": \"\",\n        \"description\": \"\"\n      }\n    },\n    {\n      \"column\": \"RandomCrop\",\n      \"properties\": {\n        \"dtype\": \"number\",\n        \"std\": 41.85365037843176,\n        \"min\": 5.056666666666662,\n        \"max\": 64.24666666666667,\n        \"num_unique_values\": 2,\n        \"samples\": [\n          5.056666666666662,\n          64.24666666666667\n        ],\n        \"semantic_type\": \"\",\n        \"description\": \"\"\n      }\n    },\n    {\n      \"column\": \"RandomHorizontalFlip\",\n      \"properties\": {\n        \"dtype\": \"number\",\n        \"std\": 41.85365037843176,\n        \"min\": 4.199999999999998,\n        \"max\": 63.39000000000001,\n        \"num_unique_values\": 2,\n        \"samples\": [\n          4.199999999999998,\n          63.39000000000001\n        ],\n        \"semantic_type\": \"\",\n        \"description\": \"\"\n      }\n    },\n    {\n      \"column\": \"Cutout\",\n      \"properties\": {\n        \"dtype\": \"number\",\n        \"std\": 41.853650378431745,\n        \"min\": 2.1066666666666642,\n        \"max\": 61.29666666666666,\n        \"num_unique_values\": 2,\n        \"samples\": [\n          2.1066666666666642,\n          61.29666666666666\n        ],\n        \"semantic_type\": \"\",\n        \"description\": \"\"\n      }\n    },\n    {\n      \"column\": \"All\",\n      \"properties\": {\n        \"dtype\": \"number\",\n        \"std\": 41.85365037843175,\n        \"min\": 7.766666666666661,\n        \"max\": 66.95666666666666,\n        \"num_unique_values\": 2,\n        \"samples\": [\n          7.766666666666661,\n          66.95666666666666\n        ],\n        \"semantic_type\": \"\",\n        \"description\": \"\"\n      }\n    }\n  ]\n}"
            }
          },
          "metadata": {},
          "execution_count": 12
        }
      ],
      "source": [
        "dfs = []\n",
        "for i in range(len(results)):\n",
        "    value = results[i]\n",
        "    print(f\"[Experiment {i} Result]\")\n",
        "    differences = [value[i] - value[0] for i in range(0, len(value))]\n",
        "\n",
        "    index = [f\"Accuracy\", \"Difference (with None)\"]\n",
        "    data = {\n",
        "        \"None\" : [value[0], differences[0]],\n",
        "        \"RandomCrop\" : [value[1], differences[1]],\n",
        "        \"RandomHorizontalFlip\" : [value[2], differences[2]],\n",
        "        \"Cutout\" : [value[3], differences[3]],\n",
        "        \"All\" : [value[4], differences[4]]\n",
        "    }\n",
        "\n",
        "    df = pd.DataFrame(data, index=index)\n",
        "    dfs.append(df)\n",
        "    print(df, \"\\n\\n\")\n",
        "\n",
        "avg_df = sum(dfs) / len(dfs)\n",
        "print(\"Average\")\n",
        "avg_df"
      ]
    }
  ],
  "metadata": {
    "accelerator": "GPU",
    "colab": {
      "gpuType": "T4",
      "machine_shape": "hm",
      "provenance": []
    },
    "kernelspec": {
      "display_name": "Python 3",
      "name": "python3"
    },
    "language_info": {
      "name": "python",
      "version": "3.13.2"
    }
  },
  "nbformat": 4,
  "nbformat_minor": 0
}